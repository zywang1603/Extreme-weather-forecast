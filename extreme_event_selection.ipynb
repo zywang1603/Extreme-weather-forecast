{
 "cells": [
  {
   "cell_type": "markdown",
   "source": [
    "# Find all extreme events"
   ],
   "metadata": {
    "collapsed": false
   }
  },
  {
   "cell_type": "code",
   "execution_count": 1,
   "metadata": {
    "collapsed": true
   },
   "outputs": [
    {
     "name": "stdout",
     "output_type": "stream",
     "text": [
      "Pysteps configuration file found at: /Users/mozykhau/.conda/envs/precipitation-nowcasting-using-GANs/lib/python3.7/site-packages/pysteps/pystepsrc\n",
      "\n"
     ]
    }
   ],
   "source": [
    "from datetime import datetime, timedelta\n",
    "import os\n",
    "import h5py\n",
    "import numpy as np\n",
    "import pandas as pd\n",
    "import csv\n",
    "import config as conf\n",
    "from pysteps.io import read_timeseries, archive\n",
    "from matplotlib import pyplot as plt\n",
    "from batchcreator import DataGenerator, load_fns_pysteps\n",
    "from pysteps.visualization import plot_precip_field"
   ]
  },
  {
   "cell_type": "markdown",
   "source": [
    "## Define functions and catchment coordinates"
   ],
   "metadata": {
    "collapsed": false
   }
  },
  {
   "cell_type": "code",
   "execution_count": 2,
   "metadata": {
    "pycharm": {
     "name": "#%%\n"
    }
   },
   "outputs": [],
   "source": [
    "# catchment coordinate\n",
    "catchment={\n",
    "'Hupsel': (473, 476, 421, 424),\n",
    "'Regge': (450, 494, 371, 410),\n",
    "'GroteWaterleiding': (456, 467, 409, 421),\n",
    "'Aa': (386, 431, 467, 515),\n",
    "'Reusel': (369, 381, 487, 517),\n",
    "'Luntersebeek': (391, 406, 422, 432),\n",
    "'Dwarsdiep': (427, 442, 290, 304),\n",
    "'HHRijnland': (332, 343, 429, 444),\n",
    "'Beemster': (340, 351, 370, 382),\n",
    "'DeLinde': (414, 439, 322, 340),\n",
    "'Delfland': (296, 322, 432, 457)}\n",
    "\n",
    "def daterange(start, end, step=timedelta(1)):\n",
    "    curr = start\n",
    "    while curr < end:\n",
    "        yield curr\n",
    "        curr += step\n",
    "def eventGeneration(start_time, obs_time = 4 ,lead_time = 72):\n",
    "    # Generate event based on starting time point, return a list: [[t-4,...,t-1,t], [t+1,...,t+72]]\n",
    "    # Get the start year, month, day, hour, minute\n",
    "    year = int(start_time[0:4])\n",
    "    month = int(start_time[4:6])\n",
    "    day = int(start_time[6:8])\n",
    "    hour = int(start_time[8:10])\n",
    "    minute = int(start_time[10:12])\n",
    "    #print(datetime(year=year, month=month, day=day, hour=hour, minute=minute))\n",
    "    times = [(datetime(year, month, day, hour, minute) + timedelta(minutes=5 * (x+1))) for x in range(lead_time)]\n",
    "    lead = [dt.strftime('%Y%m%d%H%M') for dt in times]\n",
    "    times = [(datetime(year, month, day, hour, minute) - timedelta(minutes=5 * x)) for x in range(obs_time)]\n",
    "    obs = [dt.strftime('%Y%m%d%H%M') for dt in times]\n",
    "    obs.reverse()\n",
    "    return lead, obs\n",
    "# data analysis"
   ]
  },
  {
   "cell_type": "markdown",
   "source": [
    "## Find average precipitation over catchment for frame"
   ],
   "metadata": {
    "collapsed": false
   }
  },
  {
   "cell_type": "code",
   "execution_count": 4,
   "metadata": {
    "pycharm": {
     "name": "#%%\n"
    }
   },
   "outputs": [
    {
     "name": "stdout",
     "output_type": "stream",
     "text": [
      "2008/01\n",
      "2008/02\n",
      "2008/03\n",
      "2008/04\n",
      "2008/05\n",
      "2008/06\n",
      "2008/07\n",
      "2008/08\n",
      "2008/09\n",
      "2008/10\n",
      "2008/11\n",
      "2008/12\n",
      "2009/01\n",
      "2009/02\n",
      "2009/03\n",
      "2009/04\n",
      "2009/05\n",
      "2009/06\n",
      "2009/07\n",
      "2009/08\n",
      "2009/09\n",
      "2009/10\n",
      "2009/11\n",
      "2009/12\n",
      "2010/01\n",
      "2010/02\n",
      "2010/03\n",
      "2010/04\n",
      "2010/05\n",
      "2010/06\n",
      "2010/07\n",
      "2010/08\n",
      "2010/09\n",
      "2010/10\n",
      "2010/11\n",
      "2010/12\n",
      "2011/01\n",
      "2011/02\n",
      "2011/03\n",
      "2011/04\n",
      "2011/05\n",
      "2011/06\n",
      "2011/07\n",
      "2011/08\n",
      "2011/09\n",
      "2011/10\n",
      "2011/11\n",
      "2011/12\n",
      "2012/01\n",
      "2012/02\n",
      "2012/03\n",
      "2012/04\n",
      "2012/05\n",
      "2012/06\n",
      "2012/07\n",
      "2012/08\n",
      "2012/09\n",
      "2012/10\n",
      "2012/11\n",
      "2012/12\n",
      "2013/01\n",
      "2013/02\n",
      "2013/03\n",
      "2013/04\n",
      "2013/05\n",
      "2013/06\n",
      "2013/07\n",
      "2013/08\n",
      "2013/09\n",
      "2013/10\n",
      "2013/11\n",
      "2013/12\n",
      "2014/01\n",
      "2014/02\n",
      "2014/03\n",
      "2014/04\n",
      "2014/05\n",
      "2014/06\n",
      "2014/07\n",
      "2014/08\n",
      "2014/09\n",
      "2014/10\n",
      "2014/11\n",
      "2014/12\n",
      "2015/01\n",
      "2015/02\n",
      "2015/03\n",
      "2015/04\n",
      "2015/05\n",
      "2015/06\n",
      "2015/07\n",
      "2015/08\n",
      "2015/09\n",
      "2015/10\n",
      "2015/11\n",
      "2015/12\n",
      "2016/01\n",
      "2016/02\n",
      "2016/03\n",
      "2016/04\n",
      "2016/05\n",
      "2016/06\n",
      "2016/07\n",
      "2016/08\n",
      "2016/09\n",
      "2016/10\n",
      "2016/11\n",
      "2016/12\n",
      "2017/01\n",
      "2017/02\n",
      "2017/03\n",
      "2017/04\n",
      "2017/05\n",
      "2017/06\n",
      "2017/07\n",
      "2017/08\n",
      "2017/09\n",
      "2017/10\n",
      "2017/11\n",
      "2017/12\n",
      "2018/01\n",
      "2018/02\n",
      "2018/03\n",
      "2018/04\n",
      "2018/05\n",
      "2018/06\n",
      "2018/07\n",
      "2018/08\n",
      "2018/09\n",
      "2018/10\n",
      "2018/11\n",
      "2018/12\n",
      "2019/01\n",
      "2019/02\n",
      "2019/03\n",
      "2019/04\n",
      "2019/05\n",
      "2019/06\n",
      "2019/07\n",
      "2019/08\n",
      "2019/09\n",
      "2019/10\n",
      "2019/11\n",
      "2019/12\n",
      "2020/01\n",
      "2020/02\n",
      "2020/03\n",
      "2020/04\n",
      "2020/05\n",
      "2020/06\n",
      "2020/07\n",
      "2020/08\n",
      "2020/09\n",
      "2020/10\n",
      "2020/11\n",
      "2020/12\n",
      "2021/01\n",
      "2021/02\n",
      "2021/03\n",
      "2021/04\n",
      "2021/05\n",
      "2021/06\n",
      "2021/07\n",
      "2021/08\n",
      "2021/09\n",
      "2021/10\n",
      "2021/11\n",
      "2021/12\n"
     ]
    }
   ],
   "source": [
    "# Specify catchemnt\n",
    "catchmentName = 'Delfland'\n",
    "ymin, ymax, xmin, xmax = catchment[catchmentName]\n",
    "# open the file in the write mode\n",
    "prefix = conf.dir_aart\n",
    "lead_time = 36\n",
    "time_interval = 5\n",
    "start = datetime(2008, 1, 1, 0, 0)\n",
    "# end = datetime(2008, 1, 5, 23, 55)\n",
    "end = datetime(2021, 12, 30, 23, 55)\n",
    "event_sum = {}\n",
    "dates = daterange(start, end, step = timedelta(minutes = time_interval))\n",
    "start=datetime.now()\n",
    "prev_month =\"-1\"\n",
    "for time in dates:\n",
    "    event_start_time = time.strftime('%Y%m%d%H%M')\n",
    "    year = event_start_time[0:4]\n",
    "    month = event_start_time[4:6]\n",
    "    if month != prev_month:\n",
    "        print(year+'/'+month)\n",
    "    prev_month = month\n",
    "    if os.path.exists(prefix + year + \"/\" + month + \"/\" + \\\n",
    "                      \"RAD_NL25_RAC_MFBS_EM_5min_\" + event_start_time + \"_NL.h5\"):\n",
    "\n",
    "        filename = prefix + year + \"/\" + month + \"/\" + \\\n",
    "                   \"RAD_NL25_RAC_MFBS_EM_5min_\" + event_start_time + \"_NL.h5\"\n",
    "        f = h5py.File(filename)['image1']['image_data']\n",
    "        f = np.array(f)\n",
    "        # xmin, xmax, ymin, ymax = catchment[catchmentName]\n",
    "        f = np.where(f == 65535, 0, f)\n",
    "        f = f[xmin:xmax, ymin:ymax] / 100\n",
    "        event_average = np.sum(f)/f.size\n",
    "        event_sum[event_start_time] = event_average\n",
    "        #print(f_accum.size)\n",
    "        # extreme_event_result[event_lead_list[0]] = event_average\n",
    "    else:\n",
    "        print(\"file not found\")\n",
    "        # print(prefix + year_start + \"/\" + month_start + \"/\" +\n",
    "        #               \"RAD_NL25_RAC_MFBS_EM_5min_\" + event_lead_list[0] + \"_NL.h5\")\n",
    "        # print(prefix + year_end + \"/\" + month_end + \"/\" + \\\n",
    "        #                 \"RAD_NL25_RAC_MFBS_EM_5min_\" + event_lead_list[-1] + \"_NL.h5\")\n",
    "\n",
    "average_list_np = np.asarray(event_sum)\n",
    "currentdate = datetime.now()\n",
    "currentdate = currentdate.strftime('%Y%m%d%H%M')\n",
    "np.save('/Users/mozykhau/University/Extreme event project/Data/Extreme events/'+catchmentName+'_2008-2021_sum_'+currentdate+'.npy', average_list_np)\n",
    "# print(\"Total time for 1 day is \"+ str(datetime.now()-start))\n",
    "# file.close()"
   ]
  },
  {
   "cell_type": "markdown",
   "source": [
    "## Load data"
   ],
   "metadata": {
    "collapsed": false
   }
  },
  {
   "cell_type": "code",
   "execution_count": 5,
   "metadata": {
    "pycharm": {
     "name": "#%%\n"
    }
   },
   "outputs": [],
   "source": [
    "ex_ev_check = np.load('/Users/mozykhau/University/Extreme event project/Data/Extreme events/Delfland_2008-2021_sum_202205011700.npy',allow_pickle=True)"
   ]
  },
  {
   "cell_type": "code",
   "execution_count": 6,
   "outputs": [],
   "source": [
    "ex_ev_check_dict = dict(ex_ev_check.item())\n",
    "names = ['Date','Precipitation']\n",
    "formats = ['U12','f8']\n",
    "dtype = dict(names = names, formats=formats)\n",
    "event_array = np.array(list(ex_ev_check_dict.items()),dtype=dtype)"
   ],
   "metadata": {
    "collapsed": false,
    "pycharm": {
     "name": "#%%\n"
    }
   }
  },
  {
   "cell_type": "markdown",
   "source": [
    "## Calculate average precipitation over sequence of events"
   ],
   "metadata": {
    "collapsed": false
   }
  },
  {
   "cell_type": "code",
   "execution_count": 7,
   "outputs": [
    {
     "name": "stdout",
     "output_type": "stream",
     "text": [
      "Date 202112302355 is not found\n",
      "Date 202112302355 is not found\n",
      "Date 202112302355 is not found\n",
      "Date 202112302355 is not found\n",
      "Date 202112302355 is not found\n",
      "Date 202112302355 is not found\n",
      "Date 202112302355 is not found\n",
      "Date 202112302355 is not found\n",
      "Date 202112302355 is not found\n",
      "Date 202112302355 is not found\n",
      "Date 202112302355 is not found\n",
      "Date 202112302355 is not found\n",
      "Date 202112302355 is not found\n",
      "Date 202112302355 is not found\n",
      "Date 202112302355 is not found\n",
      "Date 202112302355 is not found\n",
      "Date 202112302355 is not found\n",
      "Date 202112302355 is not found\n",
      "Date 202112302355 is not found\n",
      "Date 202112302355 is not found\n",
      "Date 202112302355 is not found\n",
      "Date 202112302355 is not found\n",
      "Date 202112302355 is not found\n",
      "Date 202112302355 is not found\n",
      "Date 202112302355 is not found\n",
      "Date 202112302355 is not found\n",
      "Date 202112302355 is not found\n",
      "Date 202112302355 is not found\n",
      "Date 202112302355 is not found\n",
      "Date 202112302355 is not found\n",
      "Date 202112302355 is not found\n",
      "Date 202112302355 is not found\n",
      "Date 202112302355 is not found\n",
      "Date 202112302355 is not found\n",
      "Date 202112302355 is not found\n",
      "Date 202112302355 is not found\n"
     ]
    },
    {
     "data": {
      "text/plain": "<function TextIOWrapper.close()>"
     },
     "execution_count": 7,
     "metadata": {},
     "output_type": "execute_result"
    }
   ],
   "source": [
    "# open file\n",
    "currentdate = datetime.now()\n",
    "currentdate = currentdate.strftime('%Y%m%d%H%M')\n",
    "file = open('/Users/mozykhau/University/Extreme event project/Data/Extreme events/'+catchmentName+'_2008-2021_sum_'+currentdate+'.csv', 'w', newline='')\n",
    "# create the csv writer\n",
    "writer = csv.writer(file)\n",
    "writer.writerow([\"time\", \"precipitation\"])\n",
    "ex_ev_check_dict = ex_ev_check_dict\n",
    "event_array = event_array\n",
    "lead_time = 36\n",
    "time_interval = 5\n",
    "start = datetime(2008, 1, 1, 0, 0)\n",
    "# end = datetime(2008, 12, 30, 23, 55)\n",
    "end = datetime(2021, 12, 30, 23, 55)\n",
    "dates = daterange(start, end, step = timedelta(minutes = time_interval))\n",
    "start_timer=datetime.now()\n",
    "for time in dates:\n",
    "    event_start_time = time.strftime('%Y%m%d%H%M')\n",
    "    event_lead_list, event_obs_list = eventGeneration(event_start_time, 5 ,lead_time)\n",
    "    for t in event_lead_list:\n",
    "        try:\n",
    "            f = ex_ev_check_dict[t]\n",
    "        except KeyError:\n",
    "            print(\"Date \"+ str(t)+\" is not found\")\n",
    "            break\n",
    "        if t == event_lead_list[0]:\n",
    "            f_accum = f\n",
    "        else:\n",
    "            f_accum += f\n",
    "    event_average = np.sum(f_accum)/lead_time\n",
    "    #print(f_accum.size)\n",
    "    # extreme_event_result[event_lead_list[0]] = event_average\n",
    "    writer.writerow([event_lead_list[0], event_average])\n",
    "file.close"
   ],
   "metadata": {
    "collapsed": false,
    "pycharm": {
     "name": "#%%\n"
    }
   }
  },
  {
   "cell_type": "markdown",
   "source": [
    "## Create datasets for 1% and 5%"
   ],
   "metadata": {
    "collapsed": false
   }
  },
  {
   "cell_type": "code",
   "execution_count": 8,
   "outputs": [
    {
     "name": "stdout",
     "output_type": "stream",
     "text": [
      "Length of data is 1472270\n",
      "Length of data bigger 0.01 is 217682\n",
      "Length of data 1% is 2176\n",
      "Length of data 5% is 10884\n"
     ]
    }
   ],
   "source": [
    "#   Load data with name, precipitation average.\n",
    "file = \"/Users/mozykhau/University/Extreme event project/Data/Extreme events/Delfland_2008-2021_sum_202205021133.csv\"\n",
    "names = ['time','precipitation']\n",
    "formats = ['U12','f8']\n",
    "dtype = dict(names = names, formats=formats)\n",
    "df = pd.read_csv(file)\n",
    "#   Sort by precipitation\n",
    "sorted_df = df.sort_values(by='precipitation',ascending=False)\n",
    "print(\"Length of data is \"+ str(sorted_df.__len__()))\n",
    "sorted_df = sorted_df[sorted_df.precipitation>0.01]\n",
    "print(\"Length of data bigger 0.01 is \"+ str(sorted_df.__len__()))\n",
    "# print(sorted_df[:5])\n",
    "len = sorted_df.__len__()\n",
    "#   Take top 1%\n",
    "len1 = len//100\n",
    "len5 = len//20\n",
    "extreme_event_set = sorted_df[:len1]\n",
    "extreme_event_set.set_index('time')\n",
    "moderate_event_set = sorted_df[:len5]\n",
    "moderate_event_set.set_index('time')\n",
    "print(\"Length of data 1% is \" +str(extreme_event_set.__len__())+\"\\nLength of data 5% is \"+ str(moderate_event_set.__len__()))\n",
    "#   Save .npy file with names of frames as extreme"
   ],
   "metadata": {
    "collapsed": false,
    "pycharm": {
     "name": "#%%\n"
    }
   }
  },
  {
   "cell_type": "markdown",
   "source": [
    "### Plot example"
   ],
   "metadata": {
    "collapsed": false
   }
  },
  {
   "cell_type": "code",
   "execution_count": 72,
   "outputs": [
    {
     "data": {
      "text/plain": "<GeoAxesSubplot:>"
     },
     "execution_count": 72,
     "metadata": {},
     "output_type": "execute_result"
    },
    {
     "data": {
      "text/plain": "<Figure size 900x500 with 4 Axes>",
      "image/png": "[encoded data removed]"
     },
     "metadata": {
      "needs_background": "light"
     },
     "output_type": "display_data"
    }
   ],
   "source": [
    "root_path = conf.dir_rtcor    # directions to data directory\n",
    "path_fmt = \"%Y/%m\" # how files are sorted in folders (no subfolders)\n",
    "fn_pattern = conf.prefix_rtcor+\"%Y%m%d%H%M\" # filename pattern\n",
    "fn_ext = \"h5\"   # filename extension\n",
    "timestep = 30\n",
    "\n",
    "catchmentName = 'Delfland'\n",
    "ymin, ymax, xmin, xmax = catchment[catchmentName]\n",
    "dt_inp = str(extreme_event_set['time'].iloc[30])\n",
    "val_row = [[dt_inp],[dt_inp]]\n",
    "_,_,metadata,_ = load_fns_pysteps(val_row)\n",
    "dt_inp = datetime.strptime(dt_inp, \"%Y%m%d%H%M\")\n",
    "filename = archive.find_by_date(dt_inp, root_path, path_fmt, fn_pattern, fn_ext, timestep=timestep)\n",
    "address = filename[0]\n",
    "f = h5py.File(address[0])['image1']['image_data']\n",
    "f = np.array(f)\n",
    "f = np.where(f == 65535, 0, f)\n",
    "f = f * 12 / 100\n",
    "plt.figure(figsize=(9, 5), dpi=100)\n",
    "plt.subplot(1,2,1)\n",
    "plot_precip_field(f,geodata=metadata, axis=\"on\")\n",
    "plt.subplot(1,2,2)\n",
    "f_check = np.zeros((765,700))\n",
    "f_check[xmin:xmax, ymin:ymax] = 1\n",
    "plot_precip_field(f_check,geodata=metadata, axis=\"on\")"
   ],
   "metadata": {
    "collapsed": false,
    "pycharm": {
     "name": "#%%\n"
    }
   }
  },
  {
   "cell_type": "markdown",
   "source": [
    "## Save list of extemes and moderates"
   ],
   "metadata": {
    "collapsed": false
   }
  },
  {
   "cell_type": "code",
   "execution_count": 172,
   "outputs": [],
   "source": [
    "save_extreme_set = extreme_event_set.to_numpy()\n",
    "save_moderate_set = moderate_event_set.to_numpy()\n",
    "np.save('/Users/mozykhau/University/Extreme event project/Data/Extreme events/extremes'+catchmentName+'_2008-2021_sum.npy', save_extreme_set)\n",
    "np.save('/Users/mozykhau/University/Extreme event project/Data/Extreme events/moderate'+catchmentName+'_2008-2021_sum.npy', save_moderate_set)"
   ],
   "metadata": {
    "collapsed": false,
    "pycharm": {
     "name": "#%%\n"
    }
   }
  },
  {
   "cell_type": "code",
   "execution_count": 176,
   "outputs": [],
   "source": [
    "extreme_date = extreme_event_set['time'].to_numpy()\n",
    "moderate_date = moderate_event_set['time'].to_numpy()\n",
    "np.save('/Users/mozykhau/University/Extreme event project/Data/Extreme events/extreme dates'+catchmentName+'_2008-2021_sum.npy', save_extreme_set)\n",
    "np.save('/Users/mozykhau/University/Extreme event project/Data/Extreme events/moderate dates'+catchmentName+'_2008-2021_sum.npy', save_moderate_set)"
   ],
   "metadata": {
    "collapsed": false,
    "pycharm": {
     "name": "#%%\n"
    }
   }
  }
 ],
 "metadata": {
  "kernelspec": {
   "display_name": "Python 3 (ipykernel)",
   "language": "python",
   "name": "python3"
  },
  "language_info": {
   "codemirror_mode": {
    "name": "ipython",
    "version": 3
   },
   "file_extension": ".py",
   "mimetype": "text/x-python",
   "name": "python",
   "nbconvert_exporter": "python",
   "pygments_lexer": "ipython3",
   "version": "3.7.13"
  }
 },
 "nbformat": 4,
 "nbformat_minor": 1
}