{
 "cells": [
  {
   "cell_type": "code",
   "execution_count": 1,
   "metadata": {},
   "outputs": [],
   "source": [
    "import os\n",
    "import tarfile\n",
    "import re\n",
    "import numpy as np\n",
    "import h5py\n",
    "import matplotlib.pyplot as plt\n",
    "import pandas as pd\n",
    "from tqdm import tqdm\n",
    "import zipfile\n",
    "from datetime import datetime\n",
    "import cv2\n",
    "import config"
   ]
  },
  {
   "cell_type": "markdown",
   "metadata": {},
   "source": [
    "# rtcor Radar Data"
   ]
  },
  {
   "cell_type": "code",
   "execution_count": 2,
   "metadata": {},
   "outputs": [],
   "source": [
    "path_ds = 'E:/thesis_datasets/2009_test'"
   ]
  },
  {
   "cell_type": "code",
   "execution_count": 2,
   "metadata": {},
   "outputs": [
    {
     "name": "stdout",
     "output_type": "stream",
     "text": [
      "\u001b[0m\u001b[01;31mRAD25_OPER_R___TARRRT__L2__20181219080000_20181220075500_0001.tar\u001b[0m\r\n",
      "\u001b[01;31mRAD25_OPER_R___TARRRT__L2__20181220080000_20181221075500_0001.tar\u001b[0m\r\n",
      "\u001b[01;31mRAD25_OPER_R___TARRRT__L2__20181221080000_20181222075500_0001.tar\u001b[0m\r\n",
      "\u001b[01;31mRAD25_OPER_R___TARRRT__L2__20181222T080500_20181223T080000_0001.tar\u001b[0m\r\n",
      "\u001b[01;31mRAD25_OPER_R___TARRRT__L2__20181223T080500_20181224T080000_0001.tar\u001b[0m\r\n",
      "ls: write error\r\n"
     ]
    }
   ],
   "source": [
    "ls /nobackup_1/users/schreurs/project_GAN/dataset_radar | head -5"
   ]
  },
  {
   "cell_type": "code",
   "execution_count": 7,
   "metadata": {},
   "outputs": [
    {
     "name": "stdout",
     "output_type": "stream",
     "text": [
      "Number of days in dataset =  105121\n"
     ]
    }
   ],
   "source": [
    "files = sorted([f for f in os.listdir(path_ds) if os.path.isfile(os.path.join(path_ds, f))])\n",
    "print(\"Number of days in dataset = \", len(files))"
   ]
  },
  {
   "cell_type": "markdown",
   "metadata": {},
   "source": [
    "## Unpack tar files"
   ]
  },
  {
   "cell_type": "code",
   "execution_count": 10,
   "metadata": {},
   "outputs": [
    {
     "name": "stdout",
     "output_type": "stream",
     "text": [
      "tar path:  /nobackup/users/schreurs/project_GAN/dataset_radar/RAD25_OPER_R___TARRRT__L2__20181219080000_20181220075500_0001.tar\n",
      "unpack in folder:  /nobackup/users/schreurs/project_GAN/dataset_radar\n"
     ]
    }
   ],
   "source": [
    "# Testing path\n",
    "tar_path = path_ds + '/' + files[0]\n",
    "print(\"tar path: \", tar_path)\n",
    "print(\"unpack in folder: \", path_ds)"
   ]
  },
  {
   "cell_type": "code",
   "execution_count": 11,
   "metadata": {},
   "outputs": [
    {
     "name": "stderr",
     "output_type": "stream",
     "text": [
      "100%|██████████| 795/795 [06:50<00:00,  1.94it/s]\n"
     ]
    }
   ],
   "source": [
    "for file in tqdm(files):\n",
    "    tar_path = path_ds + '/' + file\n",
    "    \n",
    "    tar_file = tarfile.open(tar_path)\n",
    "    tar_file.extractall(path_ds)\n",
    "    tar_file.close()"
   ]
  },
  {
   "cell_type": "code",
   "execution_count": 8,
   "metadata": {},
   "outputs": [
    {
     "name": "stdout",
     "output_type": "stream",
     "text": [
      "Number of scans in dataset =  105120\n"
     ]
    }
   ],
   "source": [
    "radar_scans = sorted([f for f in os.listdir(path_ds) if (os.path.isfile(os.path.join(path_ds, f)) and f.endswith('.h5'))])\n",
    "print(\"Number of scans in dataset = \", len(radar_scans))"
   ]
  },
  {
   "cell_type": "code",
   "execution_count": 9,
   "metadata": {},
   "outputs": [
    {
     "data": {
      "text/plain": [
       "'RAD_NL25_RAP_5min_200901010000.h5'"
      ]
     },
     "execution_count": 9,
     "metadata": {},
     "output_type": "execute_result"
    }
   ],
   "source": [
    "radar_scans[0]"
   ]
  },
  {
   "cell_type": "markdown",
   "metadata": {},
   "source": [
    "## Checking for missing data"
   ]
  },
  {
   "cell_type": "code",
   "execution_count": 10,
   "metadata": {},
   "outputs": [],
   "source": [
    "regex_timestamp = re.compile('(\\d{12})\\.h5')\n",
    "def get_datetime(filename):\n",
    "    '''\n",
    "    Infer datetime from filename\n",
    "    '''\n",
    "    timestamp=None\n",
    "    dt=None\n",
    "    # check if regex pattern finds a timestamp\n",
    "    try:\n",
    "        timestamp = regex_timestamp.findall(filename)[0] \n",
    "        dt = datetime.strptime(str(timestamp), '%Y%m%d%H%M')\n",
    "    except:\n",
    "        print('Error: could not find timestamp in file {}'.format(filename))\n",
    "    return dt"
   ]
  },
  {
   "cell_type": "code",
   "execution_count": 11,
   "metadata": {},
   "outputs": [],
   "source": [
    "def get_diff_minutes(d1, d2):\n",
    "    '''\n",
    "    Returns the difference in minutes between first date d1 and the next date d2\n",
    "    '''\n",
    "    diff = int((d2-d1).seconds / 60)\n",
    "    return diff"
   ]
  },
  {
   "cell_type": "code",
   "execution_count": 12,
   "metadata": {},
   "outputs": [],
   "source": [
    "def gap_between(filename1, filename2):\n",
    "    '''\n",
    "    Checks if difference in time between two consecutive files is 5 minutes.\n",
    "    If it is not, print the two timestamps\n",
    "    Returns the number of scans missing between two files (time difference/5)\n",
    "    '''\n",
    "    d1 = get_datetime(filename1)\n",
    "    d2 = get_datetime(filename2)\n",
    "    \n",
    "    diff = get_diff_minutes(d1, d2)\n",
    "    \n",
    "    if diff != 5:\n",
    "        print('{} minutes gap between {} and {}'.format(diff,d1,d2))\n",
    "        return diff/5\n",
    "    return 0"
   ]
  },
  {
   "cell_type": "code",
   "execution_count": 13,
   "metadata": {},
   "outputs": [
    {
     "name": "stdout",
     "output_type": "stream",
     "text": [
      "There are 0 gaps in the data\n"
     ]
    },
    {
     "ename": "IndexError",
     "evalue": "too many indices for array: array is 1-dimensional, but 2 were indexed",
     "output_type": "error",
     "traceback": [
      "\u001b[1;31m---------------------------------------------------------------------------\u001b[0m",
      "\u001b[1;31mIndexError\u001b[0m                                Traceback (most recent call last)",
      "\u001b[1;32m~\\AppData\\Local\\Temp/ipykernel_23596/2049048586.py\u001b[0m in \u001b[0;36m<module>\u001b[1;34m\u001b[0m\n\u001b[0;32m      7\u001b[0m \u001b[0mgaps\u001b[0m\u001b[1;33m=\u001b[0m\u001b[0mnp\u001b[0m\u001b[1;33m.\u001b[0m\u001b[0marray\u001b[0m\u001b[1;33m(\u001b[0m\u001b[0mgaps\u001b[0m\u001b[1;33m)\u001b[0m\u001b[1;33m\u001b[0m\u001b[1;33m\u001b[0m\u001b[0m\n\u001b[0;32m      8\u001b[0m \u001b[0mprint\u001b[0m\u001b[1;33m(\u001b[0m\u001b[1;34m'There are {} gaps in the data'\u001b[0m\u001b[1;33m.\u001b[0m\u001b[0mformat\u001b[0m\u001b[1;33m(\u001b[0m\u001b[0mlen\u001b[0m\u001b[1;33m(\u001b[0m\u001b[0mgaps\u001b[0m\u001b[1;33m)\u001b[0m\u001b[1;33m)\u001b[0m\u001b[1;33m)\u001b[0m\u001b[1;33m\u001b[0m\u001b[1;33m\u001b[0m\u001b[0m\n\u001b[1;32m----> 9\u001b[1;33m \u001b[0mnr_missing_scans\u001b[0m\u001b[1;33m=\u001b[0m\u001b[0mint\u001b[0m\u001b[1;33m(\u001b[0m\u001b[0msum\u001b[0m\u001b[1;33m(\u001b[0m\u001b[0mmap\u001b[0m\u001b[1;33m(\u001b[0m\u001b[0mfloat\u001b[0m\u001b[1;33m,\u001b[0m \u001b[0mgaps\u001b[0m\u001b[1;33m[\u001b[0m\u001b[1;33m:\u001b[0m\u001b[1;33m,\u001b[0m\u001b[1;36m2\u001b[0m\u001b[1;33m]\u001b[0m\u001b[1;33m)\u001b[0m\u001b[1;33m)\u001b[0m\u001b[1;33m)\u001b[0m\u001b[1;33m\u001b[0m\u001b[1;33m\u001b[0m\u001b[0m\n\u001b[0m\u001b[0;32m     10\u001b[0m \u001b[0mtotal_scans\u001b[0m \u001b[1;33m=\u001b[0m \u001b[1;33m(\u001b[0m\u001b[0mlen\u001b[0m\u001b[1;33m(\u001b[0m\u001b[0mradar_scans\u001b[0m\u001b[1;33m)\u001b[0m \u001b[1;33m+\u001b[0m \u001b[0mnr_missing_scans\u001b[0m\u001b[1;33m)\u001b[0m\u001b[1;33m\u001b[0m\u001b[1;33m\u001b[0m\u001b[0m\n\u001b[0;32m     11\u001b[0m \u001b[0mperc_missing\u001b[0m \u001b[1;33m=\u001b[0m \u001b[0mnr_missing_scans\u001b[0m\u001b[1;33m/\u001b[0m\u001b[0mtotal_scans\u001b[0m\u001b[1;33m\u001b[0m\u001b[1;33m\u001b[0m\u001b[0m\n",
      "\u001b[1;31mIndexError\u001b[0m: too many indices for array: array is 1-dimensional, but 2 were indexed"
     ]
    }
   ],
   "source": [
    "gaps=[]\n",
    "for i in range(0,len(radar_scans)-1):\n",
    "    # check if tim\n",
    "    gap_size = gap_between(radar_scans[i],radar_scans[i+1])\n",
    "    if  gap_size != 0:\n",
    "        gaps.append([radar_scans[i], radar_scans[i+1], gap_size])\n",
    "gaps=np.array(gaps)\n",
    "print('There are {} gaps in the data'.format(len(gaps)))  \n",
    "nr_missing_scans=int(sum(map(float, gaps[:,2])))\n",
    "total_scans = (len(radar_scans) + nr_missing_scans)\n",
    "perc_missing = nr_missing_scans/total_scans\n",
    "print('Missing {} out of the {} radar scans ({:.2f}%)'.format(nr_missing_scans, total_scans, perc_missing))\n",
    "print('From {} till {}'.format(get_datetime(radar_scans[0]), get_datetime(radar_scans[-1])))"
   ]
  },
  {
   "cell_type": "markdown",
   "metadata": {},
   "source": [
    "## Open the H5 files"
   ]
  },
  {
   "cell_type": "code",
   "execution_count": 17,
   "metadata": {},
   "outputs": [
    {
     "name": "stdout",
     "output_type": "stream",
     "text": [
      "398271\n",
      "Rainy pixels (>0.3mm): 0\n",
      "No rain: True\n",
      "398271\n",
      "Rainy pixels (>0.3mm): 0\n",
      "No rain: True\n",
      "398271\n",
      "Rainy pixels (>0.3mm): 0\n",
      "No rain: True\n"
     ]
    },
    {
     "data": {
      "image/png": "[encoded data removed]",
      "text/plain": [
       "<Figure size 432x288 with 3 Axes>"
      ]
     },
     "metadata": {
      "needs_background": "light"
     },
     "output_type": "display_data"
    }
   ],
   "source": [
    "# plot 3 images with interval of 3 (=15m) between them\n",
    "fig = plt.figure()\n",
    "for i in range(0,9,3):\n",
    "    path_file = path_ds  + '/' + radar_scans[288*50+i]\n",
    "\n",
    "\n",
    "    with h5py.File(path_file, 'r') as h5f:\n",
    "        radar_img = h5f['image1']['image_data'][:]\n",
    "\n",
    "        # Plot the radar image\n",
    "        # Set the masked pixel to 0 so that difference between pixel values can be better seen\n",
    "        print(len(radar_img[radar_img==65535]))\n",
    "        radar_img[radar_img==65535] = 0\n",
    "       # radar_img[radar_img==65535] = 0\n",
    "        nr_rainy_pixels = np.sum(radar_img >= 30)\n",
    "        print('Rainy pixels (>0.3mm):', nr_rainy_pixels)\n",
    "        print('No rain:', nr_rainy_pixels == 0)\n",
    "        plt.subplot(1, 3, int(i/3 +1))\n",
    "        plt.imshow(radar_img)\n",
    "        plt.axis('off')"
   ]
  },
  {
   "cell_type": "code",
   "execution_count": 18,
   "metadata": {},
   "outputs": [
    {
     "ename": "NameError",
     "evalue": "name 'filenames_rtcor' is not defined",
     "output_type": "error",
     "traceback": [
      "\u001b[1;31m---------------------------------------------------------------------------\u001b[0m",
      "\u001b[1;31mNameError\u001b[0m                                 Traceback (most recent call last)",
      "\u001b[1;32m~\\AppData\\Local\\Temp/ipykernel_23596/2329547119.py\u001b[0m in \u001b[0;36m<module>\u001b[1;34m\u001b[0m\n\u001b[1;32m----> 1\u001b[1;33m \u001b[1;33m(\u001b[0m\u001b[0mfilenames_rtcor\u001b[0m\u001b[1;33m[\u001b[0m\u001b[1;36m0\u001b[0m\u001b[1;33m]\u001b[0m\u001b[1;33m+\u001b[0m\u001b[1;34m'.h5'\u001b[0m\u001b[1;33m)\u001b[0m\u001b[1;33m[\u001b[0m\u001b[1;33m:\u001b[0m\u001b[1;36m12\u001b[0m\u001b[1;33m]\u001b[0m\u001b[1;33m\u001b[0m\u001b[1;33m\u001b[0m\u001b[0m\n\u001b[0m",
      "\u001b[1;31mNameError\u001b[0m: name 'filenames_rtcor' is not defined"
     ]
    }
   ],
   "source": [
    "(filenames_rtcor[0]+'.h5')[:12]"
   ]
  },
  {
   "cell_type": "code",
   "execution_count": 19,
   "metadata": {},
   "outputs": [
    {
     "ename": "FileNotFoundError",
     "evalue": "[Errno 2] No such file or directory: 'val2009.npy'",
     "output_type": "error",
     "traceback": [
      "\u001b[1;31m---------------------------------------------------------------------------\u001b[0m",
      "\u001b[1;31mFileNotFoundError\u001b[0m                         Traceback (most recent call last)",
      "\u001b[1;32m~\\AppData\\Local\\Temp/ipykernel_23596/3667157485.py\u001b[0m in \u001b[0;36m<module>\u001b[1;34m\u001b[0m\n\u001b[0;32m     34\u001b[0m             \u001b[0mprint\u001b[0m\u001b[1;33m(\u001b[0m\u001b[0me\u001b[0m\u001b[1;33m)\u001b[0m\u001b[1;33m\u001b[0m\u001b[1;33m\u001b[0m\u001b[0m\n\u001b[0;32m     35\u001b[0m \u001b[1;33m\u001b[0m\u001b[0m\n\u001b[1;32m---> 36\u001b[1;33m \u001b[0mgather_validation_data\u001b[0m\u001b[1;33m(\u001b[0m\u001b[1;33m)\u001b[0m\u001b[1;33m\u001b[0m\u001b[1;33m\u001b[0m\u001b[0m\n\u001b[0m",
      "\u001b[1;32m~\\AppData\\Local\\Temp/ipykernel_23596/3667157485.py\u001b[0m in \u001b[0;36mgather_validation_data\u001b[1;34m()\u001b[0m\n\u001b[0;32m      3\u001b[0m \u001b[1;33m\u001b[0m\u001b[0m\n\u001b[0;32m      4\u001b[0m \u001b[1;32mdef\u001b[0m \u001b[0mgather_validation_data\u001b[0m\u001b[1;33m(\u001b[0m\u001b[1;33m)\u001b[0m\u001b[1;33m:\u001b[0m\u001b[1;33m\u001b[0m\u001b[1;33m\u001b[0m\u001b[0m\n\u001b[1;32m----> 5\u001b[1;33m     \u001b[0mfn_rtcor_val0\u001b[0m \u001b[1;33m=\u001b[0m \u001b[0mnp\u001b[0m\u001b[1;33m.\u001b[0m\u001b[0mload\u001b[0m\u001b[1;33m(\u001b[0m\u001b[1;34m'val2009.npy'\u001b[0m\u001b[1;33m,\u001b[0m \u001b[0mallow_pickle\u001b[0m \u001b[1;33m=\u001b[0m \u001b[1;32mTrue\u001b[0m\u001b[1;33m)\u001b[0m\u001b[1;33m[\u001b[0m\u001b[1;33m:\u001b[0m\u001b[1;33m,\u001b[0m\u001b[1;36m0\u001b[0m\u001b[1;33m]\u001b[0m\u001b[1;33m\u001b[0m\u001b[1;33m\u001b[0m\u001b[0m\n\u001b[0m\u001b[0;32m      6\u001b[0m     \u001b[0mfn_rtcor_val1\u001b[0m \u001b[1;33m=\u001b[0m \u001b[0mnp\u001b[0m\u001b[1;33m.\u001b[0m\u001b[0mload\u001b[0m\u001b[1;33m(\u001b[0m\u001b[1;34m'val2009.npy'\u001b[0m\u001b[1;33m,\u001b[0m \u001b[0mallow_pickle\u001b[0m \u001b[1;33m=\u001b[0m \u001b[1;32mTrue\u001b[0m\u001b[1;33m)\u001b[0m\u001b[1;33m[\u001b[0m\u001b[1;33m:\u001b[0m\u001b[1;33m,\u001b[0m\u001b[1;36m1\u001b[0m\u001b[1;33m]\u001b[0m\u001b[1;33m\u001b[0m\u001b[1;33m\u001b[0m\u001b[0m\n\u001b[0;32m      7\u001b[0m \u001b[1;33m\u001b[0m\u001b[0m\n",
      "\u001b[1;32mF:\\anaconda\\lib\\site-packages\\numpy\\lib\\npyio.py\u001b[0m in \u001b[0;36mload\u001b[1;34m(file, mmap_mode, allow_pickle, fix_imports, encoding)\u001b[0m\n\u001b[0;32m    415\u001b[0m             \u001b[0mown_fid\u001b[0m \u001b[1;33m=\u001b[0m \u001b[1;32mFalse\u001b[0m\u001b[1;33m\u001b[0m\u001b[1;33m\u001b[0m\u001b[0m\n\u001b[0;32m    416\u001b[0m         \u001b[1;32melse\u001b[0m\u001b[1;33m:\u001b[0m\u001b[1;33m\u001b[0m\u001b[1;33m\u001b[0m\u001b[0m\n\u001b[1;32m--> 417\u001b[1;33m             \u001b[0mfid\u001b[0m \u001b[1;33m=\u001b[0m \u001b[0mstack\u001b[0m\u001b[1;33m.\u001b[0m\u001b[0menter_context\u001b[0m\u001b[1;33m(\u001b[0m\u001b[0mopen\u001b[0m\u001b[1;33m(\u001b[0m\u001b[0mos_fspath\u001b[0m\u001b[1;33m(\u001b[0m\u001b[0mfile\u001b[0m\u001b[1;33m)\u001b[0m\u001b[1;33m,\u001b[0m \u001b[1;34m\"rb\"\u001b[0m\u001b[1;33m)\u001b[0m\u001b[1;33m)\u001b[0m\u001b[1;33m\u001b[0m\u001b[1;33m\u001b[0m\u001b[0m\n\u001b[0m\u001b[0;32m    418\u001b[0m             \u001b[0mown_fid\u001b[0m \u001b[1;33m=\u001b[0m \u001b[1;32mTrue\u001b[0m\u001b[1;33m\u001b[0m\u001b[1;33m\u001b[0m\u001b[0m\n\u001b[0;32m    419\u001b[0m \u001b[1;33m\u001b[0m\u001b[0m\n",
      "\u001b[1;31mFileNotFoundError\u001b[0m: [Errno 2] No such file or directory: 'val2009.npy'"
     ]
    }
   ],
   "source": [
    "from shutil import copyfile\n",
    "\n",
    "\n",
    "def gather_validation_data():\n",
    "    fn_rtcor_val0 = np.load('val2009.npy', allow_pickle = True)[:,0]\n",
    "    fn_rtcor_val1 = np.load('val2009.npy', allow_pickle = True)[:,1]\n",
    "\n",
    "    timestamps_rtcor= np.append(fn_rtcor_val0, fn_rtcor_val1)\n",
    "    # flatten the array\n",
    "    timestamps_rtcor = [item for sublist in timestamps_rtcor for item in sublist]\n",
    "    \n",
    "    in_dir = config.dir_rtcor\n",
    "    out_dir = config.path_data + 'rtcor_2009_heavyrain/'\n",
    "    # Add file extension to filename\n",
    "    # Add a prefix to filename\n",
    "    add_file_extension = '.h5'\n",
    "    prefix = config.prefix_rtcor\n",
    "    \n",
    "    # Create directory if it does not exist\n",
    "    if not os.path.exists(out_dir):\n",
    "        os.makedirs(out_dir)    \n",
    "    \n",
    "    for timestamp in tqdm(timestamps_rtcor):\n",
    "        filename = timestamp + add_file_extension\n",
    "    \n",
    "        scan_fn = out_dir + '/' + \"{}.h5\".format(timestamp)\n",
    "        year = timestamp[0:4]\n",
    "        month = timestamp[4:6] \n",
    "        path_scan = in_dir + str(year) + '/' + month + '/' + prefix + filename \n",
    "\n",
    "        try:\n",
    "            copyfile(path_scan, scan_fn)   \n",
    "        except Exception as e:\n",
    "            print(e)\n",
    "\n",
    "gather_validation_data()"
   ]
  },
  {
   "cell_type": "code",
   "execution_count": null,
   "metadata": {},
   "outputs": [],
   "source": []
  },
  {
   "cell_type": "markdown",
   "metadata": {},
   "source": [
    "## Convert data to numpy arrays\n",
    "\n",
    "Convert h5 files to dataframe. The dataframe has three columns: timestamp, radar image data and the mask image data."
   ]
  },
  {
   "cell_type": "code",
   "execution_count": 3,
   "metadata": {},
   "outputs": [
    {
     "name": "stdout",
     "output_type": "stream",
     "text": [
      "Pysteps configuration file found at: F:\\anaconda\\lib\\site-packages\\pysteps-0.2-py3.8.egg\\pysteps\\pystepsrc\n",
      "\n",
      "0\n",
      "Approx 0.00 years of data\n"
     ]
    }
   ],
   "source": [
    "def load_h5(file_path):\n",
    "    radar_img = None\n",
    "    with h5py.File(file_path, 'r') as f:\n",
    "        try:\n",
    "            radar_img = f['image1']['image_data'][:]\n",
    "            \n",
    "            ## Set pixels out of image to 0\n",
    "            out_of_image = f['image1']['calibration'].attrs['calibration_out_of_image']\n",
    "            radar_img[radar_img == out_of_image] = 0\n",
    "            # Sometimes 255 or other number (244) is used for the calibration\n",
    "            # for out of image values, so also check the first pixel\n",
    "            radar_img[radar_img == radar_img[0][0]] = 0\n",
    "            # Original values are in 0.01mm/5min\n",
    "            # Convert to mm/h:\n",
    "            radar_img = (radar_img/100)*12\n",
    "        except:\n",
    "            print(\"Error: could not read image1 data, file {}\".format(file_path))\n",
    "    return radar_img\n",
    "\n",
    "def rtcor2npy(in_dir, out_dir, year=None, label_dir=None, preprocess = False, overwrite=False, filenames = None):\n",
    "    '''\n",
    "    Preprocess the h5 file into numpy arrays. \n",
    "    The timestamp, image1 and image2 data of each file is stored\n",
    "    '''\n",
    "    \n",
    "    add_file_extension = ''\n",
    "    prefix = ''\n",
    "    if filenames is not None:\n",
    "        out_dir = config.dir_rtcor_prep\n",
    "        # Add file extension to filename\n",
    "        # Add a prefix to filename\n",
    "        add_file_extension = '.h5'\n",
    "        prefix = config.prefix_rtcor\n",
    "    else:\n",
    "        d = in_dir + str(year)\n",
    "        filenames = []\n",
    "        for m in os.listdir(d):\n",
    "            dir_m = os.path.join(d, m)\n",
    "            if os.path.isdir(dir_m): \n",
    "                for f in os.listdir(dir_m):\n",
    "                    if f.endswith('.h5') and f.startswith(config.prefix_rtcor + str(year)):\n",
    "                        filenames.append(f)\n",
    "        filenames = sorted(filenames)   \n",
    "  \n",
    "        \n",
    "    # Create directory if it does not exist\n",
    "    if not os.path.exists(out_dir):\n",
    "        os.makedirs(out_dir)\n",
    "    if label_dir and not os.path.exists(label_dir):\n",
    "        os.makedirs(label_dir)\n",
    "        \n",
    "    # Pattern for detecting timestamp in filename\n",
    "    regex_file = re.compile('(\\d{12})\\.h5')\n",
    "\n",
    "    for filename in tqdm(filenames):\n",
    "        filename = filename + add_file_extension\n",
    "        \n",
    "        timestamp = regex_file.findall(filename)[0]\n",
    "        scan_fn = out_dir + '/' + \"{}.npy\".format(timestamp)\n",
    "        year = timestamp[0:4]\n",
    "        month = timestamp[4:6] \n",
    "        path_scan = in_dir + str(year) + '/' + month + '/' + prefix + filename \n",
    "        \n",
    "        \n",
    "        if not overwrite and timestamp +'.npy' in output_files:\n",
    "            # Skip this file if already processed,\n",
    "            # go to next file in list\n",
    "            continue\n",
    "        try:\n",
    "            radar_img = load_h5(path_scan)     \n",
    "            if preprocess:\n",
    "                radar_img = perform_preprocessing(radar_img)\n",
    "            np.save(scan_fn, radar_img) \n",
    "        \n",
    "            \n",
    "        except Exception as e:\n",
    "            print(e)\n",
    "            #np.save(scan_fn, radar_data)        \n",
    "\n",
    "from batchcreator import minmax\n",
    "from batchcreator import DataGenerator as dg\n",
    "import tensorflow as tf\n",
    "\n",
    "def perform_preprocessing(x, downscale256=True):\n",
    "    x = minmax(x, norm_method='minmax', undo=False, convert_to_dbz = True)\n",
    "    x = np.expand_dims(x, axis=-1)\n",
    "    if downscale256:\n",
    "        # First make the images square size\n",
    "        x = dg.pad_along_axis(dg, x, axis=0, pad_size=3)\n",
    "        x = dg.pad_along_axis(dg, x, axis=1, pad_size=68)          \n",
    "        x =  tf.image.resize(x, (256, 256))\n",
    "    return x\n",
    "\n",
    "# Get files that are already converted to numpy\n",
    "output_files = sorted([f for f in os.listdir(config.dir_rtcor_prep) \n",
    "                       if os.path.isfile(os.path.join(config.dir_rtcor_prep, f))])\n",
    "\n",
    "print(len(output_files))\n",
    "print('Approx {:.2f} years of data'.format(len(output_files)/288/365))"
   ]
  },
  {
   "cell_type": "code",
   "execution_count": 4,
   "metadata": {},
   "outputs": [
    {
     "data": {
      "text/plain": [
       "59130"
      ]
     },
     "execution_count": 4,
     "metadata": {},
     "output_type": "execute_result"
    }
   ],
   "source": [
    "# Load all target files in the training set\n",
    "fn_rtcor_train = np.load('datasets/val_randomsplit_test.npy', allow_pickle = True)[:,0]\n",
    "fn_rtcor_val = np.load('datasets/val_randomsplit_test.npy', allow_pickle = True)[:,1]\n",
    "\n",
    "filenames_rtcor= np.append(fn_rtcor_train, fn_rtcor_val)\n",
    "# flatten the array\n",
    "filenames_rtcor = [item for sublist in filenames_rtcor for item in sublist]\n",
    "len(filenames_rtcor)"
   ]
  },
  {
   "cell_type": "code",
   "execution_count": 5,
   "metadata": {
    "scrolled": true
   },
   "outputs": [
    {
     "name": "stderr",
     "output_type": "stream",
     "text": [
      " 30%|██▉       | 17473/59130 [15:35<20:19, 34.16it/s]  "
     ]
    },
    {
     "name": "stdout",
     "output_type": "stream",
     "text": [
      "Unable to open file (unable to open file: name = 'E:/thesis_datasets/2009/02/RAD_NL25_RAP_5min_200902291135.h5', errno = 2, error message = 'No such file or directory', flags = 0, o_flags = 0)\n",
      "Unable to open file (unable to open file: name = 'E:/thesis_datasets/2009/02/RAD_NL25_RAP_5min_200902291140.h5', errno = 2, error message = 'No such file or directory', flags = 0, o_flags = 0)\n",
      "Unable to open file (unable to open file: name = 'E:/thesis_datasets/2009/02/RAD_NL25_RAP_5min_200902291145.h5', errno = 2, error message = 'No such file or directory', flags = 0, o_flags = 0)\n",
      "Unable to open file (unable to open file: name = 'E:/thesis_datasets/2009/02/RAD_NL25_RAP_5min_200902291150.h5', errno = 2, error message = 'No such file or directory', flags = 0, o_flags = 0)\n",
      "Unable to open file (unable to open file: name = 'E:/thesis_datasets/2009/02/RAD_NL25_RAP_5min_200902291155.h5', errno = 2, error message = 'No such file or directory', flags = 0, o_flags = 0)\n",
      "Unable to open file (unable to open file: name = 'E:/thesis_datasets/2009/02/RAD_NL25_RAP_5min_200902291200.h5', errno = 2, error message = 'No such file or directory', flags = 0, o_flags = 0)\n"
     ]
    },
    {
     "name": "stderr",
     "output_type": "stream",
     "text": [
      " 35%|███▌      | 20960/59130 [18:42<24:39, 25.81it/s]  "
     ]
    },
    {
     "name": "stdout",
     "output_type": "stream",
     "text": [
      "Unable to open file (unable to open file: name = 'E:/thesis_datasets/2009/02/RAD_NL25_RAP_5min_200902291635.h5', errno = 2, error message = 'No such file or directory', flags = 0, o_flags = 0)\n",
      "Unable to open file (unable to open file: name = 'E:/thesis_datasets/2009/02/RAD_NL25_RAP_5min_200902291640.h5', errno = 2, error message = 'No such file or directory', flags = 0, o_flags = 0)\n",
      "Unable to open file (unable to open file: name = 'E:/thesis_datasets/2009/02/RAD_NL25_RAP_5min_200902291645.h5', errno = 2, error message = 'No such file or directory', flags = 0, o_flags = 0)\n",
      "Unable to open file (unable to open file: name = 'E:/thesis_datasets/2009/02/RAD_NL25_RAP_5min_200902291650.h5', errno = 2, error message = 'No such file or directory', flags = 0, o_flags = 0)\n",
      "Unable to open file (unable to open file: name = 'E:/thesis_datasets/2009/02/RAD_NL25_RAP_5min_200902291655.h5', errno = 2, error message = 'No such file or directory', flags = 0, o_flags = 0)\n",
      "Unable to open file (unable to open file: name = 'E:/thesis_datasets/2009/02/RAD_NL25_RAP_5min_200902291700.h5', errno = 2, error message = 'No such file or directory', flags = 0, o_flags = 0)\n"
     ]
    },
    {
     "name": "stderr",
     "output_type": "stream",
     "text": [
      " 81%|████████▏ | 48159/59130 [45:11<06:17, 29.09it/s]  "
     ]
    },
    {
     "name": "stdout",
     "output_type": "stream",
     "text": [
      "Unable to open file (unable to open file: name = 'E:/thesis_datasets/2009/02/RAD_NL25_RAP_5min_200902291230.h5', errno = 2, error message = 'No such file or directory', flags = 0, o_flags = 0)\n",
      "Unable to open file (unable to open file: name = 'E:/thesis_datasets/2009/02/RAD_NL25_RAP_5min_200902291300.h5', errno = 2, error message = 'No such file or directory', flags = 0, o_flags = 0)\n",
      "Unable to open file (unable to open file: name = 'E:/thesis_datasets/2009/02/RAD_NL25_RAP_5min_200902291330.h5', errno = 2, error message = 'No such file or directory', flags = 0, o_flags = 0)\n"
     ]
    },
    {
     "name": "stderr",
     "output_type": "stream",
     "text": [
      " 84%|████████▍ | 49901/59130 [46:36<05:30, 27.96it/s]"
     ]
    },
    {
     "name": "stdout",
     "output_type": "stream",
     "text": [
      "Unable to open file (unable to open file: name = 'E:/thesis_datasets/2009/02/RAD_NL25_RAP_5min_200902291730.h5', errno = 2, error message = 'No such file or directory', flags = 0, o_flags = 0)\n",
      "Unable to open file (unable to open file: name = 'E:/thesis_datasets/2009/02/RAD_NL25_RAP_5min_200902291800.h5', errno = 2, error message = 'No such file or directory', flags = 0, o_flags = 0)\n",
      "Unable to open file (unable to open file: name = 'E:/thesis_datasets/2009/02/RAD_NL25_RAP_5min_200902291830.h5', errno = 2, error message = 'No such file or directory', flags = 0, o_flags = 0)\n"
     ]
    },
    {
     "name": "stderr",
     "output_type": "stream",
     "text": [
      " 91%|█████████ | 53652/59130 [49:45<05:17, 17.28it/s]"
     ]
    },
    {
     "name": "stdout",
     "output_type": "stream",
     "text": [
      "Unable to open file (unable to open file: name = 'E:/thesis_datasets/2009/02/RAD_NL25_RAP_5min_200902290000.h5', errno = 2, error message = 'No such file or directory', flags = 0, o_flags = 0)\n",
      "Unable to open file (unable to open file: name = 'E:/thesis_datasets/2009/02/RAD_NL25_RAP_5min_200902290030.h5', errno = 2, error message = 'No such file or directory', flags = 0, o_flags = 0)\n"
     ]
    },
    {
     "name": "stderr",
     "output_type": "stream",
     "text": [
      "100%|██████████| 59130/59130 [55:27<00:00, 17.77it/s]\n"
     ]
    }
   ],
   "source": [
    "rtcor2npy(config.dir_rtcor, config.dir_rtcor_prep, overwrite = False, preprocess = True, filenames = filenames_rtcor)"
   ]
  },
  {
   "cell_type": "code",
   "execution_count": null,
   "metadata": {},
   "outputs": [],
   "source": [
    "# Load all target files in the training set\n",
    "fn_rtcor_train = np.load('datasets/val_randomsplit_test.npy', allow_pickle = True)[:,0]\n",
    "fn_rtcor_val = np.load('datasets/val_randomsplit.npy_test', allow_pickle = True)[:,1]\n",
    "\n",
    "filenames_rtcor= np.append(fn_rtcor_train, fn_rtcor_val)\n",
    "# flatten the array\n",
    "filenames_rtcor = [item for sublist in filenames_rtcor for item in sublist]\n",
    "len(filenames_rtcor)"
   ]
  },
  {
   "cell_type": "code",
   "execution_count": 10,
   "metadata": {},
   "outputs": [
    {
     "name": "stdout",
     "output_type": "stream",
     "text": [
      "56916\n",
      "39053\n"
     ]
    }
   ],
   "source": [
    "# Load all target files in the training set\n",
    "fn_rtcor_train = np.load('datasets/test2020_3y_30m.npy', allow_pickle = True)[:,0]\n",
    "fn_rtcor_val = np.load('datasets/test2020_3y_30m.npy', allow_pickle = True)[:,1]\n",
    "\n",
    "filenames_rtcor= np.append(fn_rtcor_train, fn_rtcor_val)\n",
    "# flatten the array\n",
    "filenames_rtcor = [item for sublist in filenames_rtcor for item in sublist]\n",
    "print(len(filenames_rtcor))\n",
    "# remove duplicate filenames:\n",
    "filenames_rtcor = list(set(filenames_rtcor))\n",
    "print(len(filenames_rtcor))"
   ]
  },
  {
   "cell_type": "code",
   "execution_count": 19,
   "metadata": {},
   "outputs": [
    {
     "data": {
      "text/plain": [
       "True"
      ]
     },
     "execution_count": 19,
     "metadata": {},
     "output_type": "execute_result"
    }
   ],
   "source": [
    "'202001030825.npy' in output_files"
   ]
  },
  {
   "cell_type": "code",
   "execution_count": 11,
   "metadata": {},
   "outputs": [
    {
     "name": "stderr",
     "output_type": "stream",
     "text": [
      "100%|██████████| 39053/39053 [20:45<00:00, 31.34it/s]\n"
     ]
    }
   ],
   "source": [
    "rtcor2npy(config.dir_rtcor, config.dir_rtcor_prep, overwrite = False, preprocess = True, filenames = filenames_rtcor)"
   ]
  },
  {
   "cell_type": "code",
   "execution_count": 21,
   "metadata": {},
   "outputs": [
    {
     "name": "stderr",
     "output_type": "stream",
     "text": [
      "100%|██████████| 80710/80710 [1:10:28<00:00, 19.09it/s]\n"
     ]
    }
   ],
   "source": [
    "rtcor2npy(config.dir_rtcor, config.dir_rtcor_prep, overwrite = True, preprocess = True, filenames = filenames_rtcor)"
   ]
  },
  {
   "cell_type": "markdown",
   "metadata": {},
   "source": [
    "Preprocess additional data"
   ]
  },
  {
   "cell_type": "code",
   "execution_count": 10,
   "metadata": {},
   "outputs": [],
   "source": [
    "list_IDs = np.load('test2020_3y_30m.npy', allow_pickle = True)"
   ]
  },
  {
   "cell_type": "code",
   "execution_count": 12,
   "metadata": {},
   "outputs": [
    {
     "name": "stderr",
     "output_type": "stream",
     "text": [
      "100%|██████████| 7650/7650 [02:00<00:00, 63.53it/s]\n"
     ]
    }
   ],
   "source": [
    "fn_rtcor_1 = list_IDs[:,0]\n",
    "fn_rtcor_2 = list_IDs[:,1]\n",
    "filenames_rtcor= np.append(fn_rtcor_1, fn_rtcor_2)\n",
    "# flatten the array\n",
    "filenames_rtcor = [item for sublist in filenames_rtcor for item in sublist]\n",
    "rtcor2npy(config.dir_rtcor, config.dir_rtcor_prep, overwrite = True, preprocess = True, filenames = filenames_rtcor)"
   ]
  },
  {
   "cell_type": "code",
   "execution_count": 3,
   "metadata": {},
   "outputs": [
    {
     "name": "stdout",
     "output_type": "stream",
     "text": [
      "[Errno 2] No such file or directory: '/nobackup_1/users/schreurs/project_GAN/rtcor_heavy_rain_labels/2007/12/200712312305.npy'\n",
      "[Errno 2] No such file or directory: '/nobackup_1/users/schreurs/project_GAN/rtcor_heavy_rain_labels/2007/12/200712312335.npy'\n",
      "[Errno 2] No such file or directory: '/nobackup_1/users/schreurs/project_GAN/rtcor_heavy_rain_labels/2008/01/200801091515.npy'\n",
      "[Errno 2] No such file or directory: '/nobackup_1/users/schreurs/project_GAN/rtcor_heavy_rain_labels/2008/01/200801091610.npy'\n",
      "[Errno 2] No such file or directory: '/nobackup_1/users/schreurs/project_GAN/rtcor_heavy_rain_labels/2008/01/200801091635.npy'\n",
      "[Errno 2] No such file or directory: '/nobackup_1/users/schreurs/project_GAN/rtcor_heavy_rain_labels/2008/01/200801151610.npy'\n",
      "[Errno 2] No such file or directory: '/nobackup_1/users/schreurs/project_GAN/rtcor_heavy_rain_labels/2008/01/200801281410.npy'\n",
      "[Errno 2] No such file or directory: '/nobackup_1/users/schreurs/project_GAN/rtcor_heavy_rain_labels/2008/01/200801281445.npy'\n",
      "[Errno 2] No such file or directory: '/nobackup_1/users/schreurs/project_GAN/rtcor_heavy_rain_labels/2008/01/200801281515.npy'\n",
      "[Errno 2] No such file or directory: '/nobackup_1/users/schreurs/project_GAN/rtcor_heavy_rain_labels/2008/02/200802081030.npy'\n",
      "[Errno 2] No such file or directory: '/nobackup_1/users/schreurs/project_GAN/rtcor_heavy_rain_labels/2008/02/200802291005.npy'\n",
      "[Errno 2] No such file or directory: '/nobackup_1/users/schreurs/project_GAN/rtcor_heavy_rain_labels/2008/02/200802291035.npy'\n",
      "[Errno 2] No such file or directory: '/nobackup_1/users/schreurs/project_GAN/rtcor_heavy_rain_labels/2008/02/200802291105.npy'\n",
      "[Errno 2] No such file or directory: '/nobackup_1/users/schreurs/project_GAN/rtcor_heavy_rain_labels/2008/02/200802292345.npy'\n",
      "[Errno 2] No such file or directory: '/nobackup_1/users/schreurs/project_GAN/rtcor_heavy_rain_labels/2008/03/200803171325.npy'\n",
      "[Errno 2] No such file or directory: '/nobackup_1/users/schreurs/project_GAN/rtcor_heavy_rain_labels/2008/03/200803312345.npy'\n",
      "[Errno 2] No such file or directory: '/nobackup_1/users/schreurs/project_GAN/rtcor_heavy_rain_labels/2008/04/200804170820.npy'\n",
      "[Errno 2] No such file or directory: '/nobackup_1/users/schreurs/project_GAN/rtcor_heavy_rain_labels/2008/05/200805291000.npy'\n",
      "[Errno 2] No such file or directory: '/nobackup_1/users/schreurs/project_GAN/rtcor_heavy_rain_labels/2008/06/200806041350.npy'\n",
      "[Errno 2] No such file or directory: '/nobackup_1/users/schreurs/project_GAN/rtcor_heavy_rain_labels/2008/06/200806041455.npy'\n",
      "[Errno 2] No such file or directory: '/nobackup_1/users/schreurs/project_GAN/rtcor_heavy_rain_labels/2008/06/200806050920.npy'\n",
      "[Errno 2] No such file or directory: '/nobackup_1/users/schreurs/project_GAN/rtcor_heavy_rain_labels/2008/06/200806110950.npy'\n",
      "[Errno 2] No such file or directory: '/nobackup_1/users/schreurs/project_GAN/rtcor_heavy_rain_labels/2008/06/200806240835.npy'\n",
      "[Errno 2] No such file or directory: '/nobackup_1/users/schreurs/project_GAN/rtcor_heavy_rain_labels/2008/06/200806302345.npy'\n",
      "[Errno 2] No such file or directory: '/nobackup_1/users/schreurs/project_GAN/rtcor_heavy_rain_labels/2008/07/200807152345.npy'\n",
      "[Errno 2] No such file or directory: '/nobackup_1/users/schreurs/project_GAN/rtcor_heavy_rain_labels/2008/08/200808150730.npy'\n",
      "[Errno 2] No such file or directory: '/nobackup_1/users/schreurs/project_GAN/rtcor_heavy_rain_labels/2008/09/200809152345.npy'\n",
      "[Errno 2] No such file or directory: '/nobackup_1/users/schreurs/project_GAN/rtcor_heavy_rain_labels/2008/09/200809230955.npy'\n",
      "[Errno 2] No such file or directory: '/nobackup_1/users/schreurs/project_GAN/rtcor_heavy_rain_labels/2008/09/200809231005.npy'\n",
      "[Errno 2] No such file or directory: '/nobackup_1/users/schreurs/project_GAN/rtcor_heavy_rain_labels/2008/09/200809231200.npy'\n",
      "[Errno 2] No such file or directory: '/nobackup_1/users/schreurs/project_GAN/rtcor_heavy_rain_labels/2008/09/200809231325.npy'\n",
      "[Errno 2] No such file or directory: '/nobackup_1/users/schreurs/project_GAN/rtcor_heavy_rain_labels/2008/09/200809231335.npy'\n",
      "[Errno 2] No such file or directory: '/nobackup_1/users/schreurs/project_GAN/rtcor_heavy_rain_labels/2008/09/200809241215.npy'\n",
      "[Errno 2] No such file or directory: '/nobackup_1/users/schreurs/project_GAN/rtcor_heavy_rain_labels/2008/09/200809250820.npy'\n",
      "[Errno 2] No such file or directory: '/nobackup_1/users/schreurs/project_GAN/rtcor_heavy_rain_labels/2008/09/200809251220.npy'\n",
      "[Errno 2] No such file or directory: '/nobackup_1/users/schreurs/project_GAN/rtcor_heavy_rain_labels/2008/09/200809292345.npy'\n",
      "[Errno 2] No such file or directory: '/nobackup_1/users/schreurs/project_GAN/rtcor_heavy_rain_labels/2008/09/200809302345.npy'\n",
      "[Errno 2] No such file or directory: '/nobackup_1/users/schreurs/project_GAN/rtcor_heavy_rain_labels/2008/10/200810080800.npy'\n",
      "[Errno 2] No such file or directory: '/nobackup_1/users/schreurs/project_GAN/rtcor_heavy_rain_labels/2008/10/200810220740.npy'\n",
      "[Errno 2] No such file or directory: '/nobackup_1/users/schreurs/project_GAN/rtcor_heavy_rain_labels/2008/10/200810282345.npy'\n",
      "[Errno 2] No such file or directory: '/nobackup_1/users/schreurs/project_GAN/rtcor_heavy_rain_labels/2008/10/200810312345.npy'\n",
      "[Errno 2] No such file or directory: '/nobackup_1/users/schreurs/project_GAN/rtcor_heavy_rain_labels/2008/11/200811251445.npy'\n",
      "[Errno 2] No such file or directory: '/nobackup_1/users/schreurs/project_GAN/rtcor_heavy_rain_labels/2008/12/200812152345.npy'\n",
      "[Errno 2] No such file or directory: '/nobackup_1/users/schreurs/project_GAN/rtcor_heavy_rain_labels/2008/12/200812302345.npy'\n",
      "[Errno 2] No such file or directory: '/nobackup_1/users/schreurs/project_GAN/rtcor_heavy_rain_labels/2008/12/200812312345.npy'\n",
      "[Errno 2] No such file or directory: '/nobackup_1/users/schreurs/project_GAN/rtcor_heavy_rain_labels/2009/02/200902240935.npy'\n",
      "[Errno 2] No such file or directory: '/nobackup_1/users/schreurs/project_GAN/rtcor_heavy_rain_labels/2009/02/200902241010.npy'\n",
      "[Errno 2] No such file or directory: '/nobackup_1/users/schreurs/project_GAN/rtcor_heavy_rain_labels/2009/06/200906152345.npy'\n",
      "[Errno 2] No such file or directory: '/nobackup_1/users/schreurs/project_GAN/rtcor_heavy_rain_labels/2009/06/200906302345.npy'\n",
      "[Errno 2] No such file or directory: '/nobackup_1/users/schreurs/project_GAN/rtcor_heavy_rain_labels/2009/07/200907080455.npy'\n",
      "[Errno 2] No such file or directory: '/nobackup_1/users/schreurs/project_GAN/rtcor_heavy_rain_labels/2009/07/200907082345.npy'\n",
      "[Errno 2] No such file or directory: '/nobackup_1/users/schreurs/project_GAN/rtcor_heavy_rain_labels/2009/07/200907101505.npy'\n",
      "[Errno 2] No such file or directory: '/nobackup_1/users/schreurs/project_GAN/rtcor_heavy_rain_labels/2009/09/200909302345.npy'\n",
      "[Errno 2] No such file or directory: '/nobackup_1/users/schreurs/project_GAN/rtcor_heavy_rain_labels/2009/10/200910152345.npy'\n",
      "[Errno 2] No such file or directory: '/nobackup_1/users/schreurs/project_GAN/rtcor_heavy_rain_labels/2009/12/200912152345.npy'\n",
      "[Errno 2] No such file or directory: '/nobackup_1/users/schreurs/project_GAN/rtcor_heavy_rain_labels/2010/01/201001182345.npy'\n",
      "[Errno 2] No such file or directory: '/nobackup_1/users/schreurs/project_GAN/rtcor_heavy_rain_labels/2010/05/201005310000.npy'\n",
      "[Errno 2] No such file or directory: '/nobackup_1/users/schreurs/project_GAN/rtcor_heavy_rain_labels/2010/05/201005310005.npy'\n",
      "[Errno 2] No such file or directory: '/nobackup_1/users/schreurs/project_GAN/rtcor_heavy_rain_labels/2010/05/201005310035.npy'\n",
      "[Errno 2] No such file or directory: '/nobackup_1/users/schreurs/project_GAN/rtcor_heavy_rain_labels/2010/05/201005310105.npy'\n",
      "[Errno 2] No such file or directory: '/nobackup_1/users/schreurs/project_GAN/rtcor_heavy_rain_labels/2010/05/201005310135.npy'\n",
      "[Errno 2] No such file or directory: '/nobackup_1/users/schreurs/project_GAN/rtcor_heavy_rain_labels/2010/05/201005310205.npy'\n",
      "[Errno 2] No such file or directory: '/nobackup_1/users/schreurs/project_GAN/rtcor_heavy_rain_labels/2010/05/201005310235.npy'\n",
      "[Errno 2] No such file or directory: '/nobackup_1/users/schreurs/project_GAN/rtcor_heavy_rain_labels/2010/05/201005310305.npy'\n",
      "[Errno 2] No such file or directory: '/nobackup_1/users/schreurs/project_GAN/rtcor_heavy_rain_labels/2010/05/201005310335.npy'\n",
      "[Errno 2] No such file or directory: '/nobackup_1/users/schreurs/project_GAN/rtcor_heavy_rain_labels/2010/05/201005310405.npy'\n",
      "[Errno 2] No such file or directory: '/nobackup_1/users/schreurs/project_GAN/rtcor_heavy_rain_labels/2010/05/201005310435.npy'\n",
      "[Errno 2] No such file or directory: '/nobackup_1/users/schreurs/project_GAN/rtcor_heavy_rain_labels/2010/05/201005310505.npy'\n",
      "[Errno 2] No such file or directory: '/nobackup_1/users/schreurs/project_GAN/rtcor_heavy_rain_labels/2010/05/201005310535.npy'\n",
      "[Errno 2] No such file or directory: '/nobackup_1/users/schreurs/project_GAN/rtcor_heavy_rain_labels/2010/05/201005310605.npy'\n",
      "[Errno 2] No such file or directory: '/nobackup_1/users/schreurs/project_GAN/rtcor_heavy_rain_labels/2010/05/201005310635.npy'\n",
      "[Errno 2] No such file or directory: '/nobackup_1/users/schreurs/project_GAN/rtcor_heavy_rain_labels/2010/05/201005310705.npy'\n",
      "[Errno 2] No such file or directory: '/nobackup_1/users/schreurs/project_GAN/rtcor_heavy_rain_labels/2010/05/201005310735.npy'\n",
      "[Errno 2] No such file or directory: '/nobackup_1/users/schreurs/project_GAN/rtcor_heavy_rain_labels/2010/05/201005310805.npy'\n",
      "[Errno 2] No such file or directory: '/nobackup_1/users/schreurs/project_GAN/rtcor_heavy_rain_labels/2010/05/201005310835.npy'\n",
      "[Errno 2] No such file or directory: '/nobackup_1/users/schreurs/project_GAN/rtcor_heavy_rain_labels/2010/05/201005310905.npy'\n",
      "[Errno 2] No such file or directory: '/nobackup_1/users/schreurs/project_GAN/rtcor_heavy_rain_labels/2010/05/201005310935.npy'\n",
      "[Errno 2] No such file or directory: '/nobackup_1/users/schreurs/project_GAN/rtcor_heavy_rain_labels/2010/05/201005311005.npy'\n",
      "[Errno 2] No such file or directory: '/nobackup_1/users/schreurs/project_GAN/rtcor_heavy_rain_labels/2010/05/201005311035.npy'\n",
      "[Errno 2] No such file or directory: '/nobackup_1/users/schreurs/project_GAN/rtcor_heavy_rain_labels/2010/05/201005311105.npy'\n",
      "[Errno 2] No such file or directory: '/nobackup_1/users/schreurs/project_GAN/rtcor_heavy_rain_labels/2010/05/201005311135.npy'\n",
      "[Errno 2] No such file or directory: '/nobackup_1/users/schreurs/project_GAN/rtcor_heavy_rain_labels/2010/05/201005311205.npy'\n",
      "[Errno 2] No such file or directory: '/nobackup_1/users/schreurs/project_GAN/rtcor_heavy_rain_labels/2010/05/201005311235.npy'\n",
      "[Errno 2] No such file or directory: '/nobackup_1/users/schreurs/project_GAN/rtcor_heavy_rain_labels/2010/05/201005311305.npy'\n",
      "[Errno 2] No such file or directory: '/nobackup_1/users/schreurs/project_GAN/rtcor_heavy_rain_labels/2010/05/201005311335.npy'\n",
      "[Errno 2] No such file or directory: '/nobackup_1/users/schreurs/project_GAN/rtcor_heavy_rain_labels/2010/05/201005311405.npy'\n",
      "[Errno 2] No such file or directory: '/nobackup_1/users/schreurs/project_GAN/rtcor_heavy_rain_labels/2010/05/201005311435.npy'\n",
      "[Errno 2] No such file or directory: '/nobackup_1/users/schreurs/project_GAN/rtcor_heavy_rain_labels/2010/05/201005311505.npy'\n",
      "[Errno 2] No such file or directory: '/nobackup_1/users/schreurs/project_GAN/rtcor_heavy_rain_labels/2010/05/201005311535.npy'\n",
      "[Errno 2] No such file or directory: '/nobackup_1/users/schreurs/project_GAN/rtcor_heavy_rain_labels/2010/05/201005311605.npy'\n",
      "[Errno 2] No such file or directory: '/nobackup_1/users/schreurs/project_GAN/rtcor_heavy_rain_labels/2010/05/201005311635.npy'\n",
      "[Errno 2] No such file or directory: '/nobackup_1/users/schreurs/project_GAN/rtcor_heavy_rain_labels/2010/05/201005311705.npy'\n",
      "[Errno 2] No such file or directory: '/nobackup_1/users/schreurs/project_GAN/rtcor_heavy_rain_labels/2010/05/201005311735.npy'\n",
      "[Errno 2] No such file or directory: '/nobackup_1/users/schreurs/project_GAN/rtcor_heavy_rain_labels/2010/05/201005311805.npy'\n",
      "[Errno 2] No such file or directory: '/nobackup_1/users/schreurs/project_GAN/rtcor_heavy_rain_labels/2010/05/201005311835.npy'\n",
      "[Errno 2] No such file or directory: '/nobackup_1/users/schreurs/project_GAN/rtcor_heavy_rain_labels/2010/05/201005311905.npy'\n",
      "[Errno 2] No such file or directory: '/nobackup_1/users/schreurs/project_GAN/rtcor_heavy_rain_labels/2010/05/201005311935.npy'\n",
      "[Errno 2] No such file or directory: '/nobackup_1/users/schreurs/project_GAN/rtcor_heavy_rain_labels/2010/05/201005312005.npy'\n",
      "[Errno 2] No such file or directory: '/nobackup_1/users/schreurs/project_GAN/rtcor_heavy_rain_labels/2010/05/201005312035.npy'\n",
      "[Errno 2] No such file or directory: '/nobackup_1/users/schreurs/project_GAN/rtcor_heavy_rain_labels/2010/05/201005312105.npy'\n",
      "[Errno 2] No such file or directory: '/nobackup_1/users/schreurs/project_GAN/rtcor_heavy_rain_labels/2010/05/201005312135.npy'\n",
      "[Errno 2] No such file or directory: '/nobackup_1/users/schreurs/project_GAN/rtcor_heavy_rain_labels/2010/05/201005312205.npy'\n",
      "[Errno 2] No such file or directory: '/nobackup_1/users/schreurs/project_GAN/rtcor_heavy_rain_labels/2010/05/201005312235.npy'\n",
      "[Errno 2] No such file or directory: '/nobackup_1/users/schreurs/project_GAN/rtcor_heavy_rain_labels/2010/05/201005312305.npy'\n",
      "[Errno 2] No such file or directory: '/nobackup_1/users/schreurs/project_GAN/rtcor_heavy_rain_labels/2010/05/201005312335.npy'\n"
     ]
    },
    {
     "name": "stdout",
     "output_type": "stream",
     "text": [
      "[Errno 2] No such file or directory: '/nobackup_1/users/schreurs/project_GAN/rtcor_heavy_rain_labels/2010/06/201006160925.npy'\n",
      "[Errno 2] No such file or directory: '/nobackup_1/users/schreurs/project_GAN/rtcor_heavy_rain_labels/2010/08/201008111410.npy'\n",
      "[Errno 2] No such file or directory: '/nobackup_1/users/schreurs/project_GAN/rtcor_heavy_rain_labels/2010/09/201009062345.npy'\n",
      "[Errno 2] No such file or directory: '/nobackup_1/users/schreurs/project_GAN/rtcor_heavy_rain_labels/2010/09/201009072345.npy'\n",
      "[Errno 2] No such file or directory: '/nobackup_1/users/schreurs/project_GAN/rtcor_heavy_rain_labels/2010/12/201012030745.npy'\n",
      "[Errno 2] No such file or directory: '/nobackup_1/users/schreurs/project_GAN/rtcor_heavy_rain_labels/2011/04/201104041500.npy'\n",
      "[Errno 2] No such file or directory: '/nobackup_1/users/schreurs/project_GAN/rtcor_heavy_rain_labels/2011/04/201104041505.npy'\n",
      "[Errno 2] No such file or directory: '/nobackup_1/users/schreurs/project_GAN/rtcor_heavy_rain_labels/2011/04/201104041535.npy'\n",
      "[Errno 2] No such file or directory: '/nobackup_1/users/schreurs/project_GAN/rtcor_heavy_rain_labels/2011/04/201104041605.npy'\n",
      "[Errno 2] No such file or directory: '/nobackup_1/users/schreurs/project_GAN/rtcor_heavy_rain_labels/2011/04/201104041635.npy'\n",
      "[Errno 2] No such file or directory: '/nobackup_1/users/schreurs/project_GAN/rtcor_heavy_rain_labels/2011/04/201104041705.npy'\n",
      "[Errno 2] No such file or directory: '/nobackup_1/users/schreurs/project_GAN/rtcor_heavy_rain_labels/2011/04/201104041735.npy'\n",
      "[Errno 2] No such file or directory: '/nobackup_1/users/schreurs/project_GAN/rtcor_heavy_rain_labels/2011/04/201104041805.npy'\n",
      "[Errno 2] No such file or directory: '/nobackup_1/users/schreurs/project_GAN/rtcor_heavy_rain_labels/2011/04/201104041835.npy'\n",
      "[Errno 2] No such file or directory: '/nobackup_1/users/schreurs/project_GAN/rtcor_heavy_rain_labels/2011/04/201104041905.npy'\n",
      "[Errno 2] No such file or directory: '/nobackup_1/users/schreurs/project_GAN/rtcor_heavy_rain_labels/2011/04/201104041935.npy'\n",
      "[Errno 2] No such file or directory: '/nobackup_1/users/schreurs/project_GAN/rtcor_heavy_rain_labels/2011/04/201104042005.npy'\n",
      "[Errno 2] No such file or directory: '/nobackup_1/users/schreurs/project_GAN/rtcor_heavy_rain_labels/2011/06/201106020955.npy'\n",
      "[Errno 2] No such file or directory: '/nobackup_1/users/schreurs/project_GAN/rtcor_heavy_rain_labels/2011/07/201107191445.npy'\n",
      "[Errno 2] No such file or directory: '/nobackup_1/users/schreurs/project_GAN/rtcor_heavy_rain_labels/2011/07/201107292345.npy'\n",
      "[Errno 2] No such file or directory: '/nobackup_1/users/schreurs/project_GAN/rtcor_heavy_rain_labels/2011/09/201109210620.npy'\n",
      "[Errno 2] No such file or directory: '/nobackup_1/users/schreurs/project_GAN/rtcor_heavy_rain_labels/2011/09/201109221210.npy'\n",
      "[Errno 2] No such file or directory: '/nobackup_1/users/schreurs/project_GAN/rtcor_heavy_rain_labels/2011/11/201111221425.npy'\n",
      "[Errno 2] No such file or directory: '/nobackup_1/users/schreurs/project_GAN/rtcor_heavy_rain_labels/2011/11/201111221435.npy'\n",
      "[Errno 2] No such file or directory: '/nobackup_1/users/schreurs/project_GAN/rtcor_heavy_rain_labels/2012/03/201203201020.npy'\n",
      "[Errno 2] No such file or directory: '/nobackup_1/users/schreurs/project_GAN/rtcor_heavy_rain_labels/2012/03/201203280805.npy'\n",
      "[Errno 2] No such file or directory: '/nobackup_1/users/schreurs/project_GAN/rtcor_heavy_rain_labels/2012/03/201203280835.npy'\n",
      "[Errno 2] No such file or directory: '/nobackup_1/users/schreurs/project_GAN/rtcor_heavy_rain_labels/2012/03/201203280905.npy'\n",
      "[Errno 2] No such file or directory: '/nobackup_1/users/schreurs/project_GAN/rtcor_heavy_rain_labels/2012/03/201203281300.npy'\n",
      "[Errno 2] No such file or directory: '/nobackup_1/users/schreurs/project_GAN/rtcor_heavy_rain_labels/2012/05/201205160600.npy'\n",
      "[Errno 2] No such file or directory: '/nobackup_1/users/schreurs/project_GAN/rtcor_heavy_rain_labels/2012/05/201205291140.npy'\n",
      "[Errno 2] No such file or directory: '/nobackup_1/users/schreurs/project_GAN/rtcor_heavy_rain_labels/2012/08/201208110845.npy'\n",
      "[Errno 2] No such file or directory: '/nobackup_1/users/schreurs/project_GAN/rtcor_heavy_rain_labels/2012/08/201208140825.npy'\n",
      "[Errno 2] No such file or directory: '/nobackup_1/users/schreurs/project_GAN/rtcor_heavy_rain_labels/2012/08/201208241600.npy'\n",
      "[Errno 2] No such file or directory: '/nobackup_1/users/schreurs/project_GAN/rtcor_heavy_rain_labels/2012/09/201209050845.npy'\n",
      "[Errno 2] No such file or directory: '/nobackup_1/users/schreurs/project_GAN/rtcor_heavy_rain_labels/2012/10/201210090945.npy'\n",
      "[Errno 2] No such file or directory: '/nobackup_1/users/schreurs/project_GAN/rtcor_heavy_rain_labels/2012/11/201211061230.npy'\n",
      "[Errno 2] No such file or directory: '/nobackup_1/users/schreurs/project_GAN/rtcor_heavy_rain_labels/2013/02/201302091445.npy'\n",
      "[Errno 2] No such file or directory: '/nobackup_1/users/schreurs/project_GAN/rtcor_heavy_rain_labels/2013/02/201302091505.npy'\n",
      "[Errno 2] No such file or directory: '/nobackup_1/users/schreurs/project_GAN/rtcor_heavy_rain_labels/2013/04/201304010930.npy'\n",
      "[Errno 2] No such file or directory: '/nobackup_1/users/schreurs/project_GAN/rtcor_heavy_rain_labels/2013/04/201304010940.npy'\n",
      "[Errno 2] No such file or directory: '/nobackup_1/users/schreurs/project_GAN/rtcor_heavy_rain_labels/2013/04/201304011005.npy'\n",
      "[Errno 2] No such file or directory: '/nobackup_1/users/schreurs/project_GAN/rtcor_heavy_rain_labels/2013/04/201304011035.npy'\n",
      "[Errno 2] No such file or directory: '/nobackup_1/users/schreurs/project_GAN/rtcor_heavy_rain_labels/2013/04/201304011105.npy'\n",
      "[Errno 2] No such file or directory: '/nobackup_1/users/schreurs/project_GAN/rtcor_heavy_rain_labels/2013/04/201304011135.npy'\n",
      "[Errno 2] No such file or directory: '/nobackup_1/users/schreurs/project_GAN/rtcor_heavy_rain_labels/2013/04/201304011205.npy'\n",
      "[Errno 2] No such file or directory: '/nobackup_1/users/schreurs/project_GAN/rtcor_heavy_rain_labels/2013/04/201304011235.npy'\n",
      "[Errno 2] No such file or directory: '/nobackup_1/users/schreurs/project_GAN/rtcor_heavy_rain_labels/2013/04/201304011305.npy'\n",
      "[Errno 2] No such file or directory: '/nobackup_1/users/schreurs/project_GAN/rtcor_heavy_rain_labels/2013/04/201304200000.npy'\n",
      "[Errno 2] No such file or directory: '/nobackup_1/users/schreurs/project_GAN/rtcor_heavy_rain_labels/2013/04/201304200010.npy'\n",
      "[Errno 2] No such file or directory: '/nobackup_1/users/schreurs/project_GAN/rtcor_heavy_rain_labels/2013/04/201304200035.npy'\n",
      "[Errno 2] No such file or directory: '/nobackup_1/users/schreurs/project_GAN/rtcor_heavy_rain_labels/2013/04/201304200105.npy'\n",
      "[Errno 2] No such file or directory: '/nobackup_1/users/schreurs/project_GAN/rtcor_heavy_rain_labels/2013/04/201304200140.npy'\n",
      "[Errno 2] No such file or directory: '/nobackup_1/users/schreurs/project_GAN/rtcor_heavy_rain_labels/2013/04/201304200205.npy'\n",
      "[Errno 2] No such file or directory: '/nobackup_1/users/schreurs/project_GAN/rtcor_heavy_rain_labels/2013/04/201304200235.npy'\n",
      "[Errno 2] No such file or directory: '/nobackup_1/users/schreurs/project_GAN/rtcor_heavy_rain_labels/2013/04/201304200305.npy'\n",
      "[Errno 2] No such file or directory: '/nobackup_1/users/schreurs/project_GAN/rtcor_heavy_rain_labels/2013/04/201304202200.npy'\n",
      "[Errno 2] No such file or directory: '/nobackup_1/users/schreurs/project_GAN/rtcor_heavy_rain_labels/2013/04/201304202205.npy'\n",
      "[Errno 2] No such file or directory: '/nobackup_1/users/schreurs/project_GAN/rtcor_heavy_rain_labels/2013/04/201304202240.npy'\n",
      "[Errno 2] No such file or directory: '/nobackup_1/users/schreurs/project_GAN/rtcor_heavy_rain_labels/2013/04/201304202305.npy'\n",
      "[Errno 2] No such file or directory: '/nobackup_1/users/schreurs/project_GAN/rtcor_heavy_rain_labels/2013/04/201304202335.npy'\n",
      "[Errno 2] No such file or directory: '/nobackup_1/users/schreurs/project_GAN/rtcor_heavy_rain_labels/2013/07/201307220000.npy'\n",
      "[Errno 2] No such file or directory: '/nobackup_1/users/schreurs/project_GAN/rtcor_heavy_rain_labels/2013/07/201307220005.npy'\n",
      "[Errno 2] No such file or directory: '/nobackup_1/users/schreurs/project_GAN/rtcor_heavy_rain_labels/2013/07/201307220035.npy'\n",
      "[Errno 2] No such file or directory: '/nobackup_1/users/schreurs/project_GAN/rtcor_heavy_rain_labels/2013/07/201307220105.npy'\n",
      "[Errno 2] No such file or directory: '/nobackup_1/users/schreurs/project_GAN/rtcor_heavy_rain_labels/2013/07/201307220135.npy'\n",
      "[Errno 2] No such file or directory: '/nobackup_1/users/schreurs/project_GAN/rtcor_heavy_rain_labels/2013/07/201307220205.npy'\n",
      "[Errno 2] No such file or directory: '/nobackup_1/users/schreurs/project_GAN/rtcor_heavy_rain_labels/2013/07/201307220235.npy'\n",
      "[Errno 2] No such file or directory: '/nobackup_1/users/schreurs/project_GAN/rtcor_heavy_rain_labels/2013/07/201307220305.npy'\n",
      "[Errno 2] No such file or directory: '/nobackup_1/users/schreurs/project_GAN/rtcor_heavy_rain_labels/2013/07/201307220335.npy'\n",
      "[Errno 2] No such file or directory: '/nobackup_1/users/schreurs/project_GAN/rtcor_heavy_rain_labels/2013/07/201307220405.npy'\n",
      "[Errno 2] No such file or directory: '/nobackup_1/users/schreurs/project_GAN/rtcor_heavy_rain_labels/2013/07/201307220435.npy'\n",
      "[Errno 2] No such file or directory: '/nobackup_1/users/schreurs/project_GAN/rtcor_heavy_rain_labels/2013/07/201307220505.npy'\n",
      "[Errno 2] No such file or directory: '/nobackup_1/users/schreurs/project_GAN/rtcor_heavy_rain_labels/2013/07/201307220535.npy'\n",
      "[Errno 2] No such file or directory: '/nobackup_1/users/schreurs/project_GAN/rtcor_heavy_rain_labels/2013/07/201307220605.npy'\n",
      "[Errno 2] No such file or directory: '/nobackup_1/users/schreurs/project_GAN/rtcor_heavy_rain_labels/2013/07/201307220635.npy'\n",
      "[Errno 2] No such file or directory: '/nobackup_1/users/schreurs/project_GAN/rtcor_heavy_rain_labels/2013/07/201307220705.npy'\n",
      "[Errno 2] No such file or directory: '/nobackup_1/users/schreurs/project_GAN/rtcor_heavy_rain_labels/2013/07/201307220735.npy'\n",
      "[Errno 2] No such file or directory: '/nobackup_1/users/schreurs/project_GAN/rtcor_heavy_rain_labels/2013/07/201307220805.npy'\n",
      "[Errno 2] No such file or directory: '/nobackup_1/users/schreurs/project_GAN/rtcor_heavy_rain_labels/2013/07/201307220835.npy'\n",
      "[Errno 2] No such file or directory: '/nobackup_1/users/schreurs/project_GAN/rtcor_heavy_rain_labels/2013/07/201307220905.npy'\n",
      "[Errno 2] No such file or directory: '/nobackup_1/users/schreurs/project_GAN/rtcor_heavy_rain_labels/2013/07/201307220935.npy'\n",
      "[Errno 2] No such file or directory: '/nobackup_1/users/schreurs/project_GAN/rtcor_heavy_rain_labels/2013/07/201307221005.npy'\n",
      "[Errno 2] No such file or directory: '/nobackup_1/users/schreurs/project_GAN/rtcor_heavy_rain_labels/2013/07/201307221035.npy'\n",
      "[Errno 2] No such file or directory: '/nobackup_1/users/schreurs/project_GAN/rtcor_heavy_rain_labels/2013/07/201307221105.npy'\n",
      "[Errno 2] No such file or directory: '/nobackup_1/users/schreurs/project_GAN/rtcor_heavy_rain_labels/2013/07/201307221135.npy'\n",
      "[Errno 2] No such file or directory: '/nobackup_1/users/schreurs/project_GAN/rtcor_heavy_rain_labels/2013/07/201307221205.npy'\n",
      "[Errno 2] No such file or directory: '/nobackup_1/users/schreurs/project_GAN/rtcor_heavy_rain_labels/2013/07/201307221235.npy'\n",
      "[Errno 2] No such file or directory: '/nobackup_1/users/schreurs/project_GAN/rtcor_heavy_rain_labels/2013/07/201307221305.npy'\n",
      "[Errno 2] No such file or directory: '/nobackup_1/users/schreurs/project_GAN/rtcor_heavy_rain_labels/2013/07/201307221335.npy'\n",
      "[Errno 2] No such file or directory: '/nobackup_1/users/schreurs/project_GAN/rtcor_heavy_rain_labels/2013/07/201307221405.npy'\n",
      "[Errno 2] No such file or directory: '/nobackup_1/users/schreurs/project_GAN/rtcor_heavy_rain_labels/2013/07/201307221435.npy'\n",
      "[Errno 2] No such file or directory: '/nobackup_1/users/schreurs/project_GAN/rtcor_heavy_rain_labels/2013/07/201307221505.npy'\n",
      "[Errno 2] No such file or directory: '/nobackup_1/users/schreurs/project_GAN/rtcor_heavy_rain_labels/2013/07/201307221535.npy'\n",
      "[Errno 2] No such file or directory: '/nobackup_1/users/schreurs/project_GAN/rtcor_heavy_rain_labels/2013/07/201307221605.npy'\n",
      "[Errno 2] No such file or directory: '/nobackup_1/users/schreurs/project_GAN/rtcor_heavy_rain_labels/2013/07/201307221635.npy'\n",
      "[Errno 2] No such file or directory: '/nobackup_1/users/schreurs/project_GAN/rtcor_heavy_rain_labels/2013/07/201307221705.npy'\n",
      "[Errno 2] No such file or directory: '/nobackup_1/users/schreurs/project_GAN/rtcor_heavy_rain_labels/2013/07/201307221735.npy'\n",
      "[Errno 2] No such file or directory: '/nobackup_1/users/schreurs/project_GAN/rtcor_heavy_rain_labels/2013/07/201307221805.npy'\n",
      "[Errno 2] No such file or directory: '/nobackup_1/users/schreurs/project_GAN/rtcor_heavy_rain_labels/2013/07/201307221835.npy'\n",
      "[Errno 2] No such file or directory: '/nobackup_1/users/schreurs/project_GAN/rtcor_heavy_rain_labels/2013/07/201307221905.npy'\n",
      "[Errno 2] No such file or directory: '/nobackup_1/users/schreurs/project_GAN/rtcor_heavy_rain_labels/2013/07/201307221935.npy'\n",
      "[Errno 2] No such file or directory: '/nobackup_1/users/schreurs/project_GAN/rtcor_heavy_rain_labels/2013/07/201307222005.npy'\n",
      "[Errno 2] No such file or directory: '/nobackup_1/users/schreurs/project_GAN/rtcor_heavy_rain_labels/2013/07/201307222035.npy'\n",
      "[Errno 2] No such file or directory: '/nobackup_1/users/schreurs/project_GAN/rtcor_heavy_rain_labels/2013/07/201307222105.npy'\n",
      "[Errno 2] No such file or directory: '/nobackup_1/users/schreurs/project_GAN/rtcor_heavy_rain_labels/2013/07/201307222135.npy'\n",
      "[Errno 2] No such file or directory: '/nobackup_1/users/schreurs/project_GAN/rtcor_heavy_rain_labels/2013/07/201307222205.npy'\n",
      "[Errno 2] No such file or directory: '/nobackup_1/users/schreurs/project_GAN/rtcor_heavy_rain_labels/2013/07/201307222235.npy'\n",
      "[Errno 2] No such file or directory: '/nobackup_1/users/schreurs/project_GAN/rtcor_heavy_rain_labels/2013/07/201307222305.npy'\n",
      "[Errno 2] No such file or directory: '/nobackup_1/users/schreurs/project_GAN/rtcor_heavy_rain_labels/2013/07/201307222335.npy'\n"
     ]
    },
    {
     "name": "stdout",
     "output_type": "stream",
     "text": [
      "[Errno 2] No such file or directory: '/nobackup_1/users/schreurs/project_GAN/rtcor_heavy_rain_labels/2013/08/201308201135.npy'\n",
      "[Errno 2] No such file or directory: '/nobackup_1/users/schreurs/project_GAN/rtcor_heavy_rain_labels/2013/10/201310011350.npy'\n",
      "[Errno 2] No such file or directory: '/nobackup_1/users/schreurs/project_GAN/rtcor_heavy_rain_labels/2013/10/201310011405.npy'\n",
      "[Errno 2] No such file or directory: '/nobackup_1/users/schreurs/project_GAN/rtcor_heavy_rain_labels/2013/10/201310011435.npy'\n",
      "[Errno 2] No such file or directory: '/nobackup_1/users/schreurs/project_GAN/rtcor_heavy_rain_labels/2013/12/201312021525.npy'\n",
      "[Errno 2] No such file or directory: '/nobackup_1/users/schreurs/project_GAN/rtcor_heavy_rain_labels/2013/12/201312021620.npy'\n",
      "[Errno 2] No such file or directory: '/nobackup_1/users/schreurs/project_GAN/rtcor_heavy_rain_labels/2014/03/201403130850.npy'\n",
      "[Errno 2] No such file or directory: '/nobackup_1/users/schreurs/project_GAN/rtcor_heavy_rain_labels/2014/03/201403181535.npy'\n",
      "[Errno 2] No such file or directory: '/nobackup_1/users/schreurs/project_GAN/rtcor_heavy_rain_labels/2014/03/201403312015.npy'\n",
      "[Errno 2] No such file or directory: '/nobackup_1/users/schreurs/project_GAN/rtcor_heavy_rain_labels/2014/04/201404041425.npy'\n",
      "[Errno 2] No such file or directory: '/nobackup_1/users/schreurs/project_GAN/rtcor_heavy_rain_labels/2014/04/201404221415.npy'\n",
      "[Errno 2] No such file or directory: '/nobackup_1/users/schreurs/project_GAN/rtcor_heavy_rain_labels/2014/05/201405200000.npy'\n",
      "[Errno 2] No such file or directory: '/nobackup_1/users/schreurs/project_GAN/rtcor_heavy_rain_labels/2014/05/201405200005.npy'\n",
      "[Errno 2] No such file or directory: '/nobackup_1/users/schreurs/project_GAN/rtcor_heavy_rain_labels/2014/05/201405200035.npy'\n",
      "[Errno 2] No such file or directory: '/nobackup_1/users/schreurs/project_GAN/rtcor_heavy_rain_labels/2014/05/201405200105.npy'\n",
      "[Errno 2] No such file or directory: '/nobackup_1/users/schreurs/project_GAN/rtcor_heavy_rain_labels/2014/05/201405200135.npy'\n",
      "[Errno 2] No such file or directory: '/nobackup_1/users/schreurs/project_GAN/rtcor_heavy_rain_labels/2014/05/201405200205.npy'\n",
      "[Errno 2] No such file or directory: '/nobackup_1/users/schreurs/project_GAN/rtcor_heavy_rain_labels/2014/05/201405200235.npy'\n",
      "[Errno 2] No such file or directory: '/nobackup_1/users/schreurs/project_GAN/rtcor_heavy_rain_labels/2014/05/201405200305.npy'\n",
      "[Errno 2] No such file or directory: '/nobackup_1/users/schreurs/project_GAN/rtcor_heavy_rain_labels/2014/05/201405200335.npy'\n",
      "[Errno 2] No such file or directory: '/nobackup_1/users/schreurs/project_GAN/rtcor_heavy_rain_labels/2014/05/201405200405.npy'\n",
      "[Errno 2] No such file or directory: '/nobackup_1/users/schreurs/project_GAN/rtcor_heavy_rain_labels/2014/05/201405200435.npy'\n",
      "[Errno 2] No such file or directory: '/nobackup_1/users/schreurs/project_GAN/rtcor_heavy_rain_labels/2014/05/201405200505.npy'\n",
      "[Errno 2] No such file or directory: '/nobackup_1/users/schreurs/project_GAN/rtcor_heavy_rain_labels/2014/05/201405200535.npy'\n",
      "[Errno 2] No such file or directory: '/nobackup_1/users/schreurs/project_GAN/rtcor_heavy_rain_labels/2014/05/201405200605.npy'\n",
      "[Errno 2] No such file or directory: '/nobackup_1/users/schreurs/project_GAN/rtcor_heavy_rain_labels/2014/05/201405200635.npy'\n",
      "[Errno 2] No such file or directory: '/nobackup_1/users/schreurs/project_GAN/rtcor_heavy_rain_labels/2014/05/201405200705.npy'\n",
      "[Errno 2] No such file or directory: '/nobackup_1/users/schreurs/project_GAN/rtcor_heavy_rain_labels/2014/05/201405200735.npy'\n",
      "[Errno 2] No such file or directory: '/nobackup_1/users/schreurs/project_GAN/rtcor_heavy_rain_labels/2014/05/201405200805.npy'\n",
      "[Errno 2] No such file or directory: '/nobackup_1/users/schreurs/project_GAN/rtcor_heavy_rain_labels/2014/05/201405200835.npy'\n",
      "[Errno 2] No such file or directory: '/nobackup_1/users/schreurs/project_GAN/rtcor_heavy_rain_labels/2014/05/201405200905.npy'\n",
      "[Errno 2] No such file or directory: '/nobackup_1/users/schreurs/project_GAN/rtcor_heavy_rain_labels/2014/05/201405200935.npy'\n",
      "[Errno 2] No such file or directory: '/nobackup_1/users/schreurs/project_GAN/rtcor_heavy_rain_labels/2014/05/201405201005.npy'\n",
      "[Errno 2] No such file or directory: '/nobackup_1/users/schreurs/project_GAN/rtcor_heavy_rain_labels/2014/05/201405201035.npy'\n",
      "[Errno 2] No such file or directory: '/nobackup_1/users/schreurs/project_GAN/rtcor_heavy_rain_labels/2014/05/201405201105.npy'\n",
      "[Errno 2] No such file or directory: '/nobackup_1/users/schreurs/project_GAN/rtcor_heavy_rain_labels/2014/05/201405201135.npy'\n",
      "[Errno 2] No such file or directory: '/nobackup_1/users/schreurs/project_GAN/rtcor_heavy_rain_labels/2014/05/201405201205.npy'\n",
      "[Errno 2] No such file or directory: '/nobackup_1/users/schreurs/project_GAN/rtcor_heavy_rain_labels/2014/05/201405201235.npy'\n",
      "[Errno 2] No such file or directory: '/nobackup_1/users/schreurs/project_GAN/rtcor_heavy_rain_labels/2014/05/201405201305.npy'\n",
      "[Errno 2] No such file or directory: '/nobackup_1/users/schreurs/project_GAN/rtcor_heavy_rain_labels/2014/05/201405201335.npy'\n",
      "[Errno 2] No such file or directory: '/nobackup_1/users/schreurs/project_GAN/rtcor_heavy_rain_labels/2014/05/201405201405.npy'\n",
      "[Errno 2] No such file or directory: '/nobackup_1/users/schreurs/project_GAN/rtcor_heavy_rain_labels/2014/05/201405201435.npy'\n",
      "[Errno 2] No such file or directory: '/nobackup_1/users/schreurs/project_GAN/rtcor_heavy_rain_labels/2014/05/201405201505.npy'\n",
      "[Errno 2] No such file or directory: '/nobackup_1/users/schreurs/project_GAN/rtcor_heavy_rain_labels/2014/05/201405201535.npy'\n",
      "[Errno 2] No such file or directory: '/nobackup_1/users/schreurs/project_GAN/rtcor_heavy_rain_labels/2014/05/201405201605.npy'\n",
      "[Errno 2] No such file or directory: '/nobackup_1/users/schreurs/project_GAN/rtcor_heavy_rain_labels/2014/05/201405201635.npy'\n",
      "[Errno 2] No such file or directory: '/nobackup_1/users/schreurs/project_GAN/rtcor_heavy_rain_labels/2014/05/201405201705.npy'\n",
      "[Errno 2] No such file or directory: '/nobackup_1/users/schreurs/project_GAN/rtcor_heavy_rain_labels/2014/05/201405201735.npy'\n",
      "[Errno 2] No such file or directory: '/nobackup_1/users/schreurs/project_GAN/rtcor_heavy_rain_labels/2014/05/201405201805.npy'\n",
      "[Errno 2] No such file or directory: '/nobackup_1/users/schreurs/project_GAN/rtcor_heavy_rain_labels/2014/05/201405201835.npy'\n",
      "[Errno 2] No such file or directory: '/nobackup_1/users/schreurs/project_GAN/rtcor_heavy_rain_labels/2014/05/201405201905.npy'\n",
      "[Errno 2] No such file or directory: '/nobackup_1/users/schreurs/project_GAN/rtcor_heavy_rain_labels/2014/05/201405201935.npy'\n",
      "[Errno 2] No such file or directory: '/nobackup_1/users/schreurs/project_GAN/rtcor_heavy_rain_labels/2014/05/201405202005.npy'\n",
      "[Errno 2] No such file or directory: '/nobackup_1/users/schreurs/project_GAN/rtcor_heavy_rain_labels/2014/05/201405202035.npy'\n",
      "[Errno 2] No such file or directory: '/nobackup_1/users/schreurs/project_GAN/rtcor_heavy_rain_labels/2014/05/201405202105.npy'\n",
      "[Errno 2] No such file or directory: '/nobackup_1/users/schreurs/project_GAN/rtcor_heavy_rain_labels/2014/05/201405202135.npy'\n",
      "[Errno 2] No such file or directory: '/nobackup_1/users/schreurs/project_GAN/rtcor_heavy_rain_labels/2014/05/201405202205.npy'\n",
      "[Errno 2] No such file or directory: '/nobackup_1/users/schreurs/project_GAN/rtcor_heavy_rain_labels/2014/05/201405202235.npy'\n",
      "[Errno 2] No such file or directory: '/nobackup_1/users/schreurs/project_GAN/rtcor_heavy_rain_labels/2014/05/201405202305.npy'\n",
      "[Errno 2] No such file or directory: '/nobackup_1/users/schreurs/project_GAN/rtcor_heavy_rain_labels/2014/05/201405202335.npy'\n",
      "[Errno 2] No such file or directory: '/nobackup_1/users/schreurs/project_GAN/rtcor_heavy_rain_labels/2014/06/201406172315.npy'\n",
      "[Errno 2] No such file or directory: '/nobackup_1/users/schreurs/project_GAN/rtcor_heavy_rain_labels/2014/06/201406172335.npy'\n",
      "[Errno 2] No such file or directory: '/nobackup_1/users/schreurs/project_GAN/rtcor_heavy_rain_labels/2014/07/201407180625.npy'\n",
      "[Errno 2] No such file or directory: '/nobackup_1/users/schreurs/project_GAN/rtcor_heavy_rain_labels/2014/08/201408071140.npy'\n",
      "[Errno 2] No such file or directory: '/nobackup_1/users/schreurs/project_GAN/rtcor_heavy_rain_labels/2014/08/201408121330.npy'\n"
     ]
    },
    {
     "name": "stdout",
     "output_type": "stream",
     "text": [
      "[Errno 2] No such file or directory: '/nobackup_1/users/schreurs/project_GAN/rtcor_heavy_rain_labels/2014/08/201408261330.npy'\n",
      "[Errno 2] No such file or directory: '/nobackup_1/users/schreurs/project_GAN/rtcor_heavy_rain_labels/2014/08/201408261410.npy'\n",
      "[Errno 2] No such file or directory: '/nobackup_1/users/schreurs/project_GAN/rtcor_heavy_rain_labels/2014/08/201408270840.npy'\n",
      "[Errno 2] No such file or directory: '/nobackup_1/users/schreurs/project_GAN/rtcor_heavy_rain_labels/2014/09/201409160910.npy'\n",
      "[Errno 2] No such file or directory: '/nobackup_1/users/schreurs/project_GAN/rtcor_heavy_rain_labels/2014/09/201409161025.npy'\n",
      "[Errno 2] No such file or directory: '/nobackup_1/users/schreurs/project_GAN/rtcor_heavy_rain_labels/2014/09/201409170955.npy'\n",
      "[Errno 2] No such file or directory: '/nobackup_1/users/schreurs/project_GAN/rtcor_heavy_rain_labels/2014/10/201410112025.npy'\n",
      "[Errno 2] No such file or directory: '/nobackup_1/users/schreurs/project_GAN/rtcor_heavy_rain_labels/2014/10/201410200545.npy'\n",
      "[Errno 2] No such file or directory: '/nobackup_1/users/schreurs/project_GAN/rtcor_heavy_rain_labels/2014/10/201410220720.npy'\n",
      "[Errno 2] No such file or directory: '/nobackup_1/users/schreurs/project_GAN/rtcor_heavy_rain_labels/2014/10/201410220940.npy'\n",
      "[Errno 2] No such file or directory: '/nobackup_1/users/schreurs/project_GAN/rtcor_heavy_rain_labels/2014/10/201410270850.npy'\n",
      "[Errno 2] No such file or directory: '/nobackup_1/users/schreurs/project_GAN/rtcor_heavy_rain_labels/2014/12/201412020000.npy'\n",
      "[Errno 2] No such file or directory: '/nobackup_1/users/schreurs/project_GAN/rtcor_heavy_rain_labels/2014/12/201412020005.npy'\n",
      "[Errno 2] No such file or directory: '/nobackup_1/users/schreurs/project_GAN/rtcor_heavy_rain_labels/2014/12/201412020035.npy'\n",
      "[Errno 2] No such file or directory: '/nobackup_1/users/schreurs/project_GAN/rtcor_heavy_rain_labels/2014/12/201412020105.npy'\n",
      "[Errno 2] No such file or directory: '/nobackup_1/users/schreurs/project_GAN/rtcor_heavy_rain_labels/2014/12/201412020135.npy'\n",
      "[Errno 2] No such file or directory: '/nobackup_1/users/schreurs/project_GAN/rtcor_heavy_rain_labels/2014/12/201412020205.npy'\n",
      "[Errno 2] No such file or directory: '/nobackup_1/users/schreurs/project_GAN/rtcor_heavy_rain_labels/2014/12/201412020235.npy'\n",
      "[Errno 2] No such file or directory: '/nobackup_1/users/schreurs/project_GAN/rtcor_heavy_rain_labels/2014/12/201412020305.npy'\n",
      "[Errno 2] No such file or directory: '/nobackup_1/users/schreurs/project_GAN/rtcor_heavy_rain_labels/2014/12/201412020335.npy'\n",
      "[Errno 2] No such file or directory: '/nobackup_1/users/schreurs/project_GAN/rtcor_heavy_rain_labels/2014/12/201412020405.npy'\n",
      "[Errno 2] No such file or directory: '/nobackup_1/users/schreurs/project_GAN/rtcor_heavy_rain_labels/2014/12/201412020435.npy'\n",
      "[Errno 2] No such file or directory: '/nobackup_1/users/schreurs/project_GAN/rtcor_heavy_rain_labels/2014/12/201412020505.npy'\n",
      "[Errno 2] No such file or directory: '/nobackup_1/users/schreurs/project_GAN/rtcor_heavy_rain_labels/2014/12/201412020535.npy'\n",
      "[Errno 2] No such file or directory: '/nobackup_1/users/schreurs/project_GAN/rtcor_heavy_rain_labels/2014/12/201412020605.npy'\n",
      "[Errno 2] No such file or directory: '/nobackup_1/users/schreurs/project_GAN/rtcor_heavy_rain_labels/2014/12/201412020635.npy'\n",
      "[Errno 2] No such file or directory: '/nobackup_1/users/schreurs/project_GAN/rtcor_heavy_rain_labels/2014/12/201412020705.npy'\n",
      "[Errno 2] No such file or directory: '/nobackup_1/users/schreurs/project_GAN/rtcor_heavy_rain_labels/2014/12/201412020735.npy'\n",
      "[Errno 2] No such file or directory: '/nobackup_1/users/schreurs/project_GAN/rtcor_heavy_rain_labels/2014/12/201412020805.npy'\n",
      "[Errno 2] No such file or directory: '/nobackup_1/users/schreurs/project_GAN/rtcor_heavy_rain_labels/2014/12/201412020835.npy'\n",
      "[Errno 2] No such file or directory: '/nobackup_1/users/schreurs/project_GAN/rtcor_heavy_rain_labels/2014/12/201412020905.npy'\n",
      "[Errno 2] No such file or directory: '/nobackup_1/users/schreurs/project_GAN/rtcor_heavy_rain_labels/2014/12/201412020935.npy'\n",
      "[Errno 2] No such file or directory: '/nobackup_1/users/schreurs/project_GAN/rtcor_heavy_rain_labels/2014/12/201412021005.npy'\n",
      "[Errno 2] No such file or directory: '/nobackup_1/users/schreurs/project_GAN/rtcor_heavy_rain_labels/2014/12/201412021035.npy'\n",
      "[Errno 2] No such file or directory: '/nobackup_1/users/schreurs/project_GAN/rtcor_heavy_rain_labels/2014/12/201412021105.npy'\n",
      "[Errno 2] No such file or directory: '/nobackup_1/users/schreurs/project_GAN/rtcor_heavy_rain_labels/2014/12/201412021135.npy'\n",
      "[Errno 2] No such file or directory: '/nobackup_1/users/schreurs/project_GAN/rtcor_heavy_rain_labels/2014/12/201412021205.npy'\n",
      "[Errno 2] No such file or directory: '/nobackup_1/users/schreurs/project_GAN/rtcor_heavy_rain_labels/2014/12/201412021235.npy'\n",
      "[Errno 2] No such file or directory: '/nobackup_1/users/schreurs/project_GAN/rtcor_heavy_rain_labels/2014/12/201412021305.npy'\n",
      "[Errno 2] No such file or directory: '/nobackup_1/users/schreurs/project_GAN/rtcor_heavy_rain_labels/2014/12/201412021335.npy'\n",
      "[Errno 2] No such file or directory: '/nobackup_1/users/schreurs/project_GAN/rtcor_heavy_rain_labels/2014/12/201412021405.npy'\n",
      "[Errno 2] No such file or directory: '/nobackup_1/users/schreurs/project_GAN/rtcor_heavy_rain_labels/2014/12/201412021435.npy'\n",
      "[Errno 2] No such file or directory: '/nobackup_1/users/schreurs/project_GAN/rtcor_heavy_rain_labels/2014/12/201412021505.npy'\n",
      "[Errno 2] No such file or directory: '/nobackup_1/users/schreurs/project_GAN/rtcor_heavy_rain_labels/2014/12/201412021535.npy'\n",
      "[Errno 2] No such file or directory: '/nobackup_1/users/schreurs/project_GAN/rtcor_heavy_rain_labels/2014/12/201412021605.npy'\n",
      "[Errno 2] No such file or directory: '/nobackup_1/users/schreurs/project_GAN/rtcor_heavy_rain_labels/2014/12/201412021635.npy'\n",
      "[Errno 2] No such file or directory: '/nobackup_1/users/schreurs/project_GAN/rtcor_heavy_rain_labels/2014/12/201412021705.npy'\n",
      "[Errno 2] No such file or directory: '/nobackup_1/users/schreurs/project_GAN/rtcor_heavy_rain_labels/2014/12/201412021735.npy'\n",
      "[Errno 2] No such file or directory: '/nobackup_1/users/schreurs/project_GAN/rtcor_heavy_rain_labels/2014/12/201412021805.npy'\n",
      "[Errno 2] No such file or directory: '/nobackup_1/users/schreurs/project_GAN/rtcor_heavy_rain_labels/2014/12/201412021835.npy'\n",
      "[Errno 2] No such file or directory: '/nobackup_1/users/schreurs/project_GAN/rtcor_heavy_rain_labels/2014/12/201412021905.npy'\n",
      "[Errno 2] No such file or directory: '/nobackup_1/users/schreurs/project_GAN/rtcor_heavy_rain_labels/2014/12/201412021935.npy'\n",
      "[Errno 2] No such file or directory: '/nobackup_1/users/schreurs/project_GAN/rtcor_heavy_rain_labels/2014/12/201412022005.npy'\n",
      "[Errno 2] No such file or directory: '/nobackup_1/users/schreurs/project_GAN/rtcor_heavy_rain_labels/2014/12/201412022035.npy'\n",
      "[Errno 2] No such file or directory: '/nobackup_1/users/schreurs/project_GAN/rtcor_heavy_rain_labels/2014/12/201412022105.npy'\n",
      "[Errno 2] No such file or directory: '/nobackup_1/users/schreurs/project_GAN/rtcor_heavy_rain_labels/2014/12/201412022135.npy'\n",
      "[Errno 2] No such file or directory: '/nobackup_1/users/schreurs/project_GAN/rtcor_heavy_rain_labels/2014/12/201412022205.npy'\n",
      "[Errno 2] No such file or directory: '/nobackup_1/users/schreurs/project_GAN/rtcor_heavy_rain_labels/2014/12/201412022235.npy'\n",
      "[Errno 2] No such file or directory: '/nobackup_1/users/schreurs/project_GAN/rtcor_heavy_rain_labels/2014/12/201412022305.npy'\n",
      "[Errno 2] No such file or directory: '/nobackup_1/users/schreurs/project_GAN/rtcor_heavy_rain_labels/2014/12/201412022335.npy'\n",
      "(['201412290635', '201412290640', '201412290645', '201412290650', '201412290655', '201412290700'], ['201412290730', '201412290800', '201412290830'])\n",
      "47063\n"
     ]
    }
   ],
   "source": [
    "from batchcreator import get_list_IDs\n",
    "\n",
    "# for testing preprocess some more files with different y interval setttings\n",
    "start_dt = datetime(2009,1,1,0,0)\n",
    "end_dt =  datetime(2009,12,31,23,30)\n",
    "\n",
    "list_IDs = get_list_IDs(start_dt, end_dt, x_seq_size=6, y_seq_size=3, filter_no_rain='avg0.01mm', y_interval=30)\n",
    "print(list_IDs[-1])\n",
    "print(len(list_IDs))"
   ]
  },
  {
   "cell_type": "code",
   "execution_count": 4,
   "metadata": {},
   "outputs": [
    {
     "name": "stderr",
     "output_type": "stream",
     "text": [
      "<ipython-input-4-517314d5028e>:1: VisibleDeprecationWarning: Creating an ndarray from ragged nested sequences (which is a list-or-tuple of lists-or-tuples-or ndarrays with different lengths or shapes) is deprecated. If you meant to do this, you must specify 'dtype=object' when creating the ndarray.\n",
      "  list_IDs = np.array(list_IDs)\n"
     ]
    }
   ],
   "source": [
    "list_IDs = np.array(list_IDs)"
   ]
  },
  {
   "cell_type": "code",
   "execution_count": 58,
   "metadata": {},
   "outputs": [
    {
     "name": "stdout",
     "output_type": "stream",
     "text": [
      "56916\n",
      "39053\n",
      "6324\n"
     ]
    }
   ],
   "source": [
    "list_IDs = np.load('datasets/test2020_3y_30m.npy', allow_pickle=True)\n",
    "list_IDs = np.array(list_IDs)\n",
    "fn_rtcor_1 = list_IDs[:,0]\n",
    "fn_rtcor_2 = list_IDs[:,1]\n",
    "filenames_rtcor= np.append(fn_rtcor_1, fn_rtcor_2)\n",
    "# flatten the array\n",
    "filenames_rtcor = [item for sublist in filenames_rtcor for item in sublist]\n",
    "print(len(filenames_rtcor))\n",
    "filenames_rtcor = list(set(filenames_rtcor))\n",
    "print(len(filenames_rtcor))\n",
    "print(len(list_IDs))"
   ]
  },
  {
   "cell_type": "code",
   "execution_count": 7,
   "metadata": {},
   "outputs": [
    {
     "name": "stderr",
     "output_type": "stream",
     "text": [
      "100%|██████████| 59130/59130 [13:58<00:00, 70.53it/s]  \n"
     ]
    }
   ],
   "source": [
    "rtcor2npy(config.dir_rtcor, config.dir_rtcor_prep, overwrite = False, preprocess = True, filenames = filenames_rtcor)"
   ]
  },
  {
   "cell_type": "code",
   "execution_count": 3,
   "metadata": {},
   "outputs": [
    {
     "name": "stdout",
     "output_type": "stream",
     "text": [
      "[Errno 2] No such file or directory: '/nobackup_1/users/schreurs/project_GAN/rtcor_heavy_rain_labels/2020/03/202003271505.npy'\n",
      "[Errno 2] No such file or directory: '/nobackup_1/users/schreurs/project_GAN/rtcor_heavy_rain_labels/2020/07/202007160430.npy'\n",
      "[Errno 2] No such file or directory: '/nobackup_1/users/schreurs/project_GAN/rtcor_heavy_rain_labels/2020/07/202007160435.npy'\n",
      "[Errno 2] No such file or directory: '/nobackup_1/users/schreurs/project_GAN/rtcor_heavy_rain_labels/2020/10/202010011130.npy'\n",
      "[Errno 2] No such file or directory: '/nobackup_1/users/schreurs/project_GAN/rtcor_heavy_rain_labels/2020/10/202010062040.npy'\n",
      "[Errno 2] No such file or directory: '/nobackup_1/users/schreurs/project_GAN/rtcor_heavy_rain_labels/2020/10/202010190845.npy'\n",
      "[Errno 2] No such file or directory: '/nobackup_1/users/schreurs/project_GAN/rtcor_heavy_rain_labels/2020/10/202010200020.npy'\n",
      "[Errno 2] No such file or directory: '/nobackup_1/users/schreurs/project_GAN/rtcor_heavy_rain_labels/2020/11/202011020000.npy'\n",
      "[Errno 2] No such file or directory: '/nobackup_1/users/schreurs/project_GAN/rtcor_heavy_rain_labels/2020/11/202011030000.npy'\n",
      "[Errno 2] No such file or directory: '/nobackup_1/users/schreurs/project_GAN/rtcor_heavy_rain_labels/2020/11/202011040000.npy'\n",
      "[Errno 2] No such file or directory: '/nobackup_1/users/schreurs/project_GAN/rtcor_heavy_rain_labels/2020/11/202011050000.npy'\n",
      "[Errno 2] No such file or directory: '/nobackup_1/users/schreurs/project_GAN/rtcor_heavy_rain_labels/2020/11/202011060000.npy'\n",
      "[Errno 2] No such file or directory: '/nobackup_1/users/schreurs/project_GAN/rtcor_heavy_rain_labels/2020/11/202011070000.npy'\n",
      "[Errno 2] No such file or directory: '/nobackup_1/users/schreurs/project_GAN/rtcor_heavy_rain_labels/2020/11/202011080000.npy'\n",
      "[Errno 2] No such file or directory: '/nobackup_1/users/schreurs/project_GAN/rtcor_heavy_rain_labels/2020/11/202011100000.npy'\n",
      "[Errno 2] No such file or directory: '/nobackup_1/users/schreurs/project_GAN/rtcor_heavy_rain_labels/2020/11/202011110000.npy'\n",
      "[Errno 2] No such file or directory: '/nobackup_1/users/schreurs/project_GAN/rtcor_heavy_rain_labels/2020/11/202011120000.npy'\n",
      "[Errno 2] No such file or directory: '/nobackup_1/users/schreurs/project_GAN/rtcor_heavy_rain_labels/2020/11/202011130000.npy'\n",
      "[Errno 2] No such file or directory: '/nobackup_1/users/schreurs/project_GAN/rtcor_heavy_rain_labels/2020/11/202011140000.npy'\n",
      "[Errno 2] No such file or directory: '/nobackup_1/users/schreurs/project_GAN/rtcor_heavy_rain_labels/2020/11/202011150000.npy'\n",
      "[Errno 2] No such file or directory: '/nobackup_1/users/schreurs/project_GAN/rtcor_heavy_rain_labels/2020/11/202011160000.npy'\n",
      "[Errno 2] No such file or directory: '/nobackup_1/users/schreurs/project_GAN/rtcor_heavy_rain_labels/2020/11/202011170000.npy'\n",
      "[Errno 2] No such file or directory: '/nobackup_1/users/schreurs/project_GAN/rtcor_heavy_rain_labels/2020/11/202011180000.npy'\n",
      "[Errno 2] No such file or directory: '/nobackup_1/users/schreurs/project_GAN/rtcor_heavy_rain_labels/2020/11/202011190000.npy'\n",
      "[Errno 2] No such file or directory: '/nobackup_1/users/schreurs/project_GAN/rtcor_heavy_rain_labels/2020/11/202011200000.npy'\n",
      "[Errno 2] No such file or directory: '/nobackup_1/users/schreurs/project_GAN/rtcor_heavy_rain_labels/2020/11/202011210000.npy'\n",
      "[Errno 2] No such file or directory: '/nobackup_1/users/schreurs/project_GAN/rtcor_heavy_rain_labels/2020/11/202011230000.npy'\n",
      "[Errno 2] No such file or directory: '/nobackup_1/users/schreurs/project_GAN/rtcor_heavy_rain_labels/2020/11/202011260000.npy'\n",
      "[Errno 2] No such file or directory: '/nobackup_1/users/schreurs/project_GAN/rtcor_heavy_rain_labels/2020/11/202011270000.npy'\n",
      "[Errno 2] No such file or directory: '/nobackup_1/users/schreurs/project_GAN/rtcor_heavy_rain_labels/2020/11/202011270910.npy'\n",
      "[Errno 2] No such file or directory: '/nobackup_1/users/schreurs/project_GAN/rtcor_heavy_rain_labels/2020/11/202011280000.npy'\n",
      "[Errno 2] No such file or directory: '/nobackup_1/users/schreurs/project_GAN/rtcor_heavy_rain_labels/2020/12/202012010000.npy'\n",
      "[Errno 2] No such file or directory: '/nobackup_1/users/schreurs/project_GAN/rtcor_heavy_rain_labels/2020/12/202012020000.npy'\n",
      "[Errno 2] No such file or directory: '/nobackup_1/users/schreurs/project_GAN/rtcor_heavy_rain_labels/2020/12/202012030000.npy'\n",
      "[Errno 2] No such file or directory: '/nobackup_1/users/schreurs/project_GAN/rtcor_heavy_rain_labels/2020/12/202012040000.npy'\n",
      "[Errno 2] No such file or directory: '/nobackup_1/users/schreurs/project_GAN/rtcor_heavy_rain_labels/2020/12/202012050000.npy'\n",
      "[Errno 2] No such file or directory: '/nobackup_1/users/schreurs/project_GAN/rtcor_heavy_rain_labels/2020/12/202012060000.npy'\n",
      "[Errno 2] No such file or directory: '/nobackup_1/users/schreurs/project_GAN/rtcor_heavy_rain_labels/2020/12/202012070000.npy'\n",
      "[Errno 2] No such file or directory: '/nobackup_1/users/schreurs/project_GAN/rtcor_heavy_rain_labels/2020/12/202012110000.npy'\n",
      "[Errno 2] No such file or directory: '/nobackup_1/users/schreurs/project_GAN/rtcor_heavy_rain_labels/2020/12/202012120000.npy'\n",
      "[Errno 2] No such file or directory: '/nobackup_1/users/schreurs/project_GAN/rtcor_heavy_rain_labels/2020/12/202012150000.npy'\n",
      "[Errno 2] No such file or directory: '/nobackup_1/users/schreurs/project_GAN/rtcor_heavy_rain_labels/2020/12/202012160000.npy'\n",
      "[Errno 2] No such file or directory: '/nobackup_1/users/schreurs/project_GAN/rtcor_heavy_rain_labels/2020/12/202012170000.npy'\n",
      "[Errno 2] No such file or directory: '/nobackup_1/users/schreurs/project_GAN/rtcor_heavy_rain_labels/2020/12/202012170810.npy'\n",
      "[Errno 2] No such file or directory: '/nobackup_1/users/schreurs/project_GAN/rtcor_heavy_rain_labels/2020/12/202012200000.npy'\n",
      "[Errno 2] No such file or directory: '/nobackup_1/users/schreurs/project_GAN/rtcor_heavy_rain_labels/2020/12/202012210000.npy'\n",
      "[Errno 2] No such file or directory: '/nobackup_1/users/schreurs/project_GAN/rtcor_heavy_rain_labels/2020/12/202012220000.npy'\n",
      "[Errno 2] No such file or directory: '/nobackup_1/users/schreurs/project_GAN/rtcor_heavy_rain_labels/2020/12/202012240000.npy'\n",
      "[Errno 2] No such file or directory: '/nobackup_1/users/schreurs/project_GAN/rtcor_heavy_rain_labels/2020/12/202012270000.npy'\n",
      "[Errno 2] No such file or directory: '/nobackup_1/users/schreurs/project_GAN/rtcor_heavy_rain_labels/2020/12/202012280000.npy'\n",
      "[Errno 2] No such file or directory: '/nobackup_1/users/schreurs/project_GAN/rtcor_heavy_rain_labels/2020/12/202012300000.npy'\n",
      "[Errno 2] No such file or directory: '/nobackup_1/users/schreurs/project_GAN/rtcor_heavy_rain_labels/2020/12/202012310000.npy'\n",
      "(['202012310735', '202012310740', '202012310745', '202012310750', '202012310755', '202012310800'], ['202012310830', '202012310900', '202012310930'])\n",
      "6375\n"
     ]
    }
   ],
   "source": [
    "from batchcreator import get_list_IDs\n",
    "\n",
    "# for testing preprocess some more files with different y interval setttings\n",
    "start_dt = datetime(2020,1,1,0,0)\n",
    "end_dt =  datetime(2021,1,1,0,0)\n",
    "\n",
    "list_IDs = get_list_IDs(start_dt, end_dt, x_seq_size=6, y_seq_size=3, filter_no_rain='avg0.01mm', y_interval=30)\n",
    "print(list_IDs[-1])\n",
    "print(len(list_IDs))"
   ]
  },
  {
   "cell_type": "code",
   "execution_count": null,
   "metadata": {},
   "outputs": [],
   "source": []
  },
  {
   "cell_type": "code",
   "execution_count": 2,
   "metadata": {},
   "outputs": [
    {
     "name": "stdout",
     "output_type": "stream",
     "text": [
      "Pysteps configuration file found at: /usr/people/schreurs/.local/lib/python3.9/site-packages/pysteps/pystepsrc\n",
      "\n",
      "[Errno 2] No such file or directory: '/nobackup_1/users/schreurs/project_GAN/rtcor_heavy_rain_labels/2020/03/202003271505.npy'\n",
      "[Errno 2] No such file or directory: '/nobackup_1/users/schreurs/project_GAN/rtcor_heavy_rain_labels/2020/07/202007160430.npy'\n",
      "[Errno 2] No such file or directory: '/nobackup_1/users/schreurs/project_GAN/rtcor_heavy_rain_labels/2020/07/202007160435.npy'\n",
      "[Errno 2] No such file or directory: '/nobackup_1/users/schreurs/project_GAN/rtcor_heavy_rain_labels/2020/10/202010011130.npy'\n",
      "[Errno 2] No such file or directory: '/nobackup_1/users/schreurs/project_GAN/rtcor_heavy_rain_labels/2020/10/202010062040.npy'\n",
      "[Errno 2] No such file or directory: '/nobackup_1/users/schreurs/project_GAN/rtcor_heavy_rain_labels/2020/10/202010190845.npy'\n",
      "[Errno 2] No such file or directory: '/nobackup_1/users/schreurs/project_GAN/rtcor_heavy_rain_labels/2020/10/202010200020.npy'\n",
      "[Errno 2] No such file or directory: '/nobackup_1/users/schreurs/project_GAN/rtcor_heavy_rain_labels/2020/11/202011020000.npy'\n",
      "[Errno 2] No such file or directory: '/nobackup_1/users/schreurs/project_GAN/rtcor_heavy_rain_labels/2020/11/202011030000.npy'\n",
      "[Errno 2] No such file or directory: '/nobackup_1/users/schreurs/project_GAN/rtcor_heavy_rain_labels/2020/11/202011040000.npy'\n",
      "[Errno 2] No such file or directory: '/nobackup_1/users/schreurs/project_GAN/rtcor_heavy_rain_labels/2020/11/202011050000.npy'\n",
      "[Errno 2] No such file or directory: '/nobackup_1/users/schreurs/project_GAN/rtcor_heavy_rain_labels/2020/11/202011060000.npy'\n",
      "[Errno 2] No such file or directory: '/nobackup_1/users/schreurs/project_GAN/rtcor_heavy_rain_labels/2020/11/202011070000.npy'\n",
      "[Errno 2] No such file or directory: '/nobackup_1/users/schreurs/project_GAN/rtcor_heavy_rain_labels/2020/11/202011080000.npy'\n",
      "[Errno 2] No such file or directory: '/nobackup_1/users/schreurs/project_GAN/rtcor_heavy_rain_labels/2020/11/202011100000.npy'\n",
      "[Errno 2] No such file or directory: '/nobackup_1/users/schreurs/project_GAN/rtcor_heavy_rain_labels/2020/11/202011110000.npy'\n",
      "[Errno 2] No such file or directory: '/nobackup_1/users/schreurs/project_GAN/rtcor_heavy_rain_labels/2020/11/202011120000.npy'\n",
      "[Errno 2] No such file or directory: '/nobackup_1/users/schreurs/project_GAN/rtcor_heavy_rain_labels/2020/11/202011130000.npy'\n",
      "[Errno 2] No such file or directory: '/nobackup_1/users/schreurs/project_GAN/rtcor_heavy_rain_labels/2020/11/202011140000.npy'\n",
      "[Errno 2] No such file or directory: '/nobackup_1/users/schreurs/project_GAN/rtcor_heavy_rain_labels/2020/11/202011150000.npy'\n",
      "[Errno 2] No such file or directory: '/nobackup_1/users/schreurs/project_GAN/rtcor_heavy_rain_labels/2020/11/202011160000.npy'\n",
      "[Errno 2] No such file or directory: '/nobackup_1/users/schreurs/project_GAN/rtcor_heavy_rain_labels/2020/11/202011170000.npy'\n",
      "[Errno 2] No such file or directory: '/nobackup_1/users/schreurs/project_GAN/rtcor_heavy_rain_labels/2020/11/202011180000.npy'\n",
      "[Errno 2] No such file or directory: '/nobackup_1/users/schreurs/project_GAN/rtcor_heavy_rain_labels/2020/11/202011190000.npy'\n",
      "[Errno 2] No such file or directory: '/nobackup_1/users/schreurs/project_GAN/rtcor_heavy_rain_labels/2020/11/202011200000.npy'\n",
      "[Errno 2] No such file or directory: '/nobackup_1/users/schreurs/project_GAN/rtcor_heavy_rain_labels/2020/11/202011210000.npy'\n",
      "[Errno 2] No such file or directory: '/nobackup_1/users/schreurs/project_GAN/rtcor_heavy_rain_labels/2020/11/202011230000.npy'\n",
      "[Errno 2] No such file or directory: '/nobackup_1/users/schreurs/project_GAN/rtcor_heavy_rain_labels/2020/11/202011260000.npy'\n",
      "[Errno 2] No such file or directory: '/nobackup_1/users/schreurs/project_GAN/rtcor_heavy_rain_labels/2020/11/202011270000.npy'\n",
      "[Errno 2] No such file or directory: '/nobackup_1/users/schreurs/project_GAN/rtcor_heavy_rain_labels/2020/11/202011270910.npy'\n",
      "[Errno 2] No such file or directory: '/nobackup_1/users/schreurs/project_GAN/rtcor_heavy_rain_labels/2020/11/202011280000.npy'\n",
      "[Errno 2] No such file or directory: '/nobackup_1/users/schreurs/project_GAN/rtcor_heavy_rain_labels/2020/12/202012010000.npy'\n",
      "[Errno 2] No such file or directory: '/nobackup_1/users/schreurs/project_GAN/rtcor_heavy_rain_labels/2020/12/202012020000.npy'\n",
      "[Errno 2] No such file or directory: '/nobackup_1/users/schreurs/project_GAN/rtcor_heavy_rain_labels/2020/12/202012030000.npy'\n",
      "[Errno 2] No such file or directory: '/nobackup_1/users/schreurs/project_GAN/rtcor_heavy_rain_labels/2020/12/202012040000.npy'\n",
      "[Errno 2] No such file or directory: '/nobackup_1/users/schreurs/project_GAN/rtcor_heavy_rain_labels/2020/12/202012050000.npy'\n",
      "[Errno 2] No such file or directory: '/nobackup_1/users/schreurs/project_GAN/rtcor_heavy_rain_labels/2020/12/202012060000.npy'\n",
      "[Errno 2] No such file or directory: '/nobackup_1/users/schreurs/project_GAN/rtcor_heavy_rain_labels/2020/12/202012070000.npy'\n",
      "[Errno 2] No such file or directory: '/nobackup_1/users/schreurs/project_GAN/rtcor_heavy_rain_labels/2020/12/202012110000.npy'\n",
      "[Errno 2] No such file or directory: '/nobackup_1/users/schreurs/project_GAN/rtcor_heavy_rain_labels/2020/12/202012120000.npy'\n",
      "[Errno 2] No such file or directory: '/nobackup_1/users/schreurs/project_GAN/rtcor_heavy_rain_labels/2020/12/202012150000.npy'\n",
      "[Errno 2] No such file or directory: '/nobackup_1/users/schreurs/project_GAN/rtcor_heavy_rain_labels/2020/12/202012160000.npy'\n",
      "[Errno 2] No such file or directory: '/nobackup_1/users/schreurs/project_GAN/rtcor_heavy_rain_labels/2020/12/202012170000.npy'\n",
      "[Errno 2] No such file or directory: '/nobackup_1/users/schreurs/project_GAN/rtcor_heavy_rain_labels/2020/12/202012170810.npy'\n",
      "[Errno 2] No such file or directory: '/nobackup_1/users/schreurs/project_GAN/rtcor_heavy_rain_labels/2020/12/202012200000.npy'\n",
      "[Errno 2] No such file or directory: '/nobackup_1/users/schreurs/project_GAN/rtcor_heavy_rain_labels/2020/12/202012210000.npy'\n",
      "[Errno 2] No such file or directory: '/nobackup_1/users/schreurs/project_GAN/rtcor_heavy_rain_labels/2020/12/202012220000.npy'\n",
      "[Errno 2] No such file or directory: '/nobackup_1/users/schreurs/project_GAN/rtcor_heavy_rain_labels/2020/12/202012240000.npy'\n",
      "[Errno 2] No such file or directory: '/nobackup_1/users/schreurs/project_GAN/rtcor_heavy_rain_labels/2020/12/202012270000.npy'\n",
      "[Errno 2] No such file or directory: '/nobackup_1/users/schreurs/project_GAN/rtcor_heavy_rain_labels/2020/12/202012280000.npy'\n",
      "[Errno 2] No such file or directory: '/nobackup_1/users/schreurs/project_GAN/rtcor_heavy_rain_labels/2020/12/202012300000.npy'\n",
      "[Errno 2] No such file or directory: '/nobackup_1/users/schreurs/project_GAN/rtcor_heavy_rain_labels/2020/12/202012310000.npy'\n",
      "(['202012310735', '202012310740', '202012310745', '202012310750', '202012310755', '202012310800'], ['202012310830', '202012310900', '202012310930'])\n",
      "6375\n"
     ]
    }
   ],
   "source": [
    "from batchcreator import get_list_IDs\n",
    "\n",
    "# for testing preprocess some more files with different y interval setttings\n",
    "start_dt = datetime(2020,1,1,0,0)\n",
    "end_dt =  datetime(2021,1,1,0,0)\n",
    "\n",
    "list_IDs = get_list_IDs(start_dt, end_dt, x_seq_size=6, y_seq_size=3, filter_no_rain='avg0.01mm', y_interval=30)\n",
    "print(list_IDs[-1])\n",
    "print(len(list_IDs))"
   ]
  },
  {
   "cell_type": "code",
   "execution_count": 54,
   "metadata": {},
   "outputs": [
    {
     "name": "stderr",
     "output_type": "stream",
     "text": [
      " 38%|███▊      | 2413/6375 [00:00<00:00, 24128.53it/s]"
     ]
    },
    {
     "name": "stdout",
     "output_type": "stream",
     "text": [
      "6375\n"
     ]
    },
    {
     "name": "stderr",
     "output_type": "stream",
     "text": [
      "100%|██████████| 6375/6375 [00:00<00:00, 26197.76it/s]"
     ]
    },
    {
     "name": "stdout",
     "output_type": "stream",
     "text": [
      "6324\n"
     ]
    },
    {
     "name": "stderr",
     "output_type": "stream",
     "text": [
      "\n"
     ]
    }
   ],
   "source": [
    "import os\n",
    "import config as conf\n",
    "list_IDs2 = []\n",
    "print(len(list_IDs))\n",
    "for io in tqdm(list_IDs):\n",
    "    add = True\n",
    "    for fs in io:\n",
    "        for f in fs:\n",
    "            year = f[:4]\n",
    "            month = f[4:6]\n",
    "            ts = f\n",
    "            f_path = conf.dir_rtcor + '{Y}/{m}/{prefix}{ts}.h5'.format(Y=year, m=month, ts=ts, prefix=conf.prefix_rtcor)\n",
    "\n",
    "            if not os.path.isfile(f_path):\n",
    "                add = False\n",
    "    if add:\n",
    "        list_IDs2.append(io)\n",
    "\n",
    "print(len(list_IDs2))"
   ]
  },
  {
   "cell_type": "code",
   "execution_count": null,
   "metadata": {},
   "outputs": [],
   "source": []
  },
  {
   "cell_type": "code",
   "execution_count": 55,
   "metadata": {},
   "outputs": [
    {
     "name": "stderr",
     "output_type": "stream",
     "text": [
      "/usr/people/schreurs/.local/lib/python3.9/site-packages/numpy/core/_asarray.py:171: VisibleDeprecationWarning: Creating an ndarray from ragged nested sequences (which is a list-or-tuple of lists-or-tuples-or ndarrays with different lengths or shapes) is deprecated. If you meant to do this, you must specify 'dtype=object' when creating the ndarray.\n",
      "  return array(a, dtype, copy=False, order=order, subok=True)\n"
     ]
    }
   ],
   "source": [
    "np.save('datasets/test2020_3y_30m', list_IDs2)"
   ]
  },
  {
   "cell_type": "markdown",
   "metadata": {},
   "source": [
    "## TODO: Pack data into sequences\n",
    "\n",
    "Instead of storing 1 timestamp in 1 file, store a sequence of radarscans into 1 file. This will make loading the training data easier as the sequence of radarscans does not have to be made at runtime. These packages of sequences can later be linked with the target data.\n",
    "\n",
    "First the radar scans are packed into sequences of 30 minutes (6 radarscans long). These can then be matched with the Aarts target data of 30 minutes ahead. This would mean that there are 288/6 = 48 sequences in a day(/folder)\n",
    "\n",
    "TODO: This code was written for the wrong version of the dataset (recor). Still have to convert this to rtcor"
   ]
  },
  {
   "cell_type": "code",
   "execution_count": null,
   "metadata": {},
   "outputs": [],
   "source": [
    "from os import listdir\n",
    "from os.path import isfile, join"
   ]
  },
  {
   "cell_type": "code",
   "execution_count": 17,
   "metadata": {},
   "outputs": [],
   "source": [
    "np_dir = '/nobackup/users/schreurs/project_GAN/dataset_radar_np/'\n",
    "dir_30m = '/nobackup/users/schreurs/project_GAN/dataset_radar_np_30m/'"
   ]
  },
  {
   "cell_type": "code",
   "execution_count": 30,
   "metadata": {},
   "outputs": [],
   "source": [
    "files = sorted([f for f in os.listdir(np_dir) if os.path.isfile(os.path.join(np_dir, f))\n",
    "              and f.startswith('2019')])"
   ]
  },
  {
   "cell_type": "code",
   "execution_count": 29,
   "metadata": {},
   "outputs": [
    {
     "data": {
      "text/plain": [
       "['201901010000.npy',\n",
       " '201901010005.npy',\n",
       " '201901010010.npy',\n",
       " '201901010015.npy',\n",
       " '201901010020.npy']"
      ]
     },
     "execution_count": 29,
     "metadata": {},
     "output_type": "execute_result"
    }
   ],
   "source": [
    "files[:5]"
   ]
  },
  {
   "cell_type": "code",
   "execution_count": 2,
   "metadata": {},
   "outputs": [],
   "source": [
    "def preprocess_into_sequences(in_dir, out_dir, n=6, year=2019):\n",
    "    '''\n",
    "    Preprocess the numpy files into sequences. \n",
    "    n is the length of the input sequence, default is 6 images (with interval of 5 resulting in 30 minutes)\n",
    "    '''\n",
    "    # Create directory if it does not exist\n",
    "    if not os.path.exists(out_dir):\n",
    "        os.makedirs(out_dir)\n",
    "    \n",
    "    files = sorted([f for f in os.listdir(np_dir) if os.path.isfile(os.path.join(np_dir, f))\n",
    "                  and f.startswith(year)])\n",
    "    \n",
    "    regex_file = re.compile('(\\d{12})\\.h5')\n",
    "    # Each folder corresponds to a day\n",
    "    for folder in tqdm(files[:100]):\n",
    "        day_dir = in_dir + '/' \n",
    "        print(day_dir)\n",
    "        # A new file each 5 minutes: 288 files in a day\n",
    "        files = sorted([f for f in os.listdir(day_dir) if os.path.isfile(os.path.join(day_dir, f))])\n",
    "        \n",
    "        if len(files) != 288:\n",
    "            print('Day {} has {} radar scans instead of 288'.format(folder, len(files)))\n",
    "        for i in range(0,len(files)-n, n+1):\n",
    "            sequence_i = files[i:i+n]\n",
    "            \n",
    "            sequence = []\n",
    "            date_prev = None\n",
    "\n",
    "            sequence_name = files[i].replace('.npy', 'seq{}m'.format(5*n))\n",
    "            for file in sequence_i:\n",
    "                file_path = day_dir + file\n",
    "                timestamp, image = np.load(file_path, allow_pickle=True)\n",
    "                \n",
    "                if date_prev:\n",
    "                    # check if interval is 5 \n",
    "                    date_current = datetime.datetime.strptime(str(a), '%Y%m%d%H%M')\n",
    "                    interval = int((date_current-date_prev).seconds / 60) \n",
    "        \n",
    "                    if interval != 5:\n",
    "                        print(date_current, date_prev, interval)\n",
    "                    date_prev = date_current\n",
    "                sequence.append(image)\n",
    "            sequence = np.array(sequence)\n",
    "            #np.save(out_dir+sequence_name, sequence)"
   ]
  },
  {
   "cell_type": "code",
   "execution_count": 155,
   "metadata": {},
   "outputs": [
    {
     "name": "stderr",
     "output_type": "stream",
     "text": [
      "\r",
      "  0%|          | 0/100 [00:00<?, ?it/s]"
     ]
    },
    {
     "name": "stdout",
     "output_type": "stream",
     "text": [
      "/nobackup/users/schreurs/project_GAN/dataset_np/201812170755_201812180800/\n",
      "Day 201812170755_201812180800 has 259 radar scans instead of 288\n",
      "/nobackup/users/schreurs/project_GAN/dataset_np/201812180755_201812190800/\n",
      "Day 201812180755_201812190800 has 547 radar scans instead of 288\n"
     ]
    },
    {
     "name": "stderr",
     "output_type": "stream",
     "text": [
      "\r",
      "  2%|▏         | 2/100 [00:06<05:19,  3.26s/it]"
     ]
    },
    {
     "name": "stdout",
     "output_type": "stream",
     "text": [
      "/nobackup/users/schreurs/project_GAN/dataset_np/201812190755_201812200800/\n",
      "Day 201812190755_201812200800 has 488 radar scans instead of 288\n"
     ]
    },
    {
     "name": "stderr",
     "output_type": "stream",
     "text": [
      "\r",
      "  3%|▎         | 3/100 [00:12<06:57,  4.30s/it]"
     ]
    },
    {
     "name": "stdout",
     "output_type": "stream",
     "text": [
      "/nobackup/users/schreurs/project_GAN/dataset_np/201812200755_201812210800/\n",
      "Day 201812200755_201812210800 has 285 radar scans instead of 288\n"
     ]
    },
    {
     "name": "stderr",
     "output_type": "stream",
     "text": [
      "\r",
      "  4%|▍         | 4/100 [00:15<06:15,  3.91s/it]"
     ]
    },
    {
     "name": "stdout",
     "output_type": "stream",
     "text": [
      "/nobackup/users/schreurs/project_GAN/dataset_np/201812210755_201812220800/\n",
      "Day 201812210755_201812220800 has 277 radar scans instead of 288\n"
     ]
    },
    {
     "name": "stderr",
     "output_type": "stream",
     "text": [
      "\r",
      "  5%|▌         | 5/100 [00:18<05:52,  3.71s/it]"
     ]
    },
    {
     "name": "stdout",
     "output_type": "stream",
     "text": [
      "/nobackup/users/schreurs/project_GAN/dataset_np/20181221T075500_20181222T080000/\n",
      "Day 20181221T075500_20181222T080000 has 277 radar scans instead of 288\n"
     ]
    },
    {
     "name": "stderr",
     "output_type": "stream",
     "text": [
      "\r",
      "  6%|▌         | 6/100 [00:22<05:38,  3.60s/it]"
     ]
    },
    {
     "name": "stdout",
     "output_type": "stream",
     "text": [
      "/nobackup/users/schreurs/project_GAN/dataset_np/20181222T080500_20181223T080000/\n",
      "Day 20181222T080500_20181223T080000 has 286 radar scans instead of 288\n"
     ]
    },
    {
     "name": "stderr",
     "output_type": "stream",
     "text": [
      "\r",
      "  7%|▋         | 7/100 [00:25<05:30,  3.55s/it]"
     ]
    },
    {
     "name": "stdout",
     "output_type": "stream",
     "text": [
      "/nobackup/users/schreurs/project_GAN/dataset_np/20181223T080500_20181224T080000/\n",
      "Day 20181223T080500_20181224T080000 has 287 radar scans instead of 288\n"
     ]
    },
    {
     "name": "stderr",
     "output_type": "stream",
     "text": [
      "\r",
      "  8%|▊         | 8/100 [00:29<05:24,  3.52s/it]"
     ]
    },
    {
     "name": "stdout",
     "output_type": "stream",
     "text": [
      "/nobackup/users/schreurs/project_GAN/dataset_np/20181224T080500_20181225T080000/\n",
      "Day 20181224T080500_20181225T080000 has 286 radar scans instead of 288\n"
     ]
    },
    {
     "name": "stderr",
     "output_type": "stream",
     "text": [
      "\r",
      "  9%|▉         | 9/100 [00:32<05:14,  3.46s/it]"
     ]
    },
    {
     "name": "stdout",
     "output_type": "stream",
     "text": [
      "/nobackup/users/schreurs/project_GAN/dataset_np/20181225T080500_20181226T080000/\n",
      "Day 20181225T080500_20181226T080000 has 283 radar scans instead of 288\n"
     ]
    },
    {
     "name": "stderr",
     "output_type": "stream",
     "text": [
      "\r",
      " 10%|█         | 10/100 [00:35<05:07,  3.42s/it]"
     ]
    },
    {
     "name": "stdout",
     "output_type": "stream",
     "text": [
      "/nobackup/users/schreurs/project_GAN/dataset_np/20181226T080500_20181227T080000/\n",
      "Day 20181226T080500_20181227T080000 has 285 radar scans instead of 288\n"
     ]
    },
    {
     "name": "stderr",
     "output_type": "stream",
     "text": [
      "\r",
      " 11%|█         | 11/100 [00:39<05:03,  3.41s/it]"
     ]
    },
    {
     "name": "stdout",
     "output_type": "stream",
     "text": [
      "/nobackup/users/schreurs/project_GAN/dataset_np/20181227T080500_20181228T080000/\n",
      "Day 20181227T080500_20181228T080000 has 280 radar scans instead of 288\n"
     ]
    },
    {
     "name": "stderr",
     "output_type": "stream",
     "text": [
      "\r",
      " 12%|█▏        | 12/100 [00:42<04:59,  3.40s/it]"
     ]
    },
    {
     "name": "stdout",
     "output_type": "stream",
     "text": [
      "/nobackup/users/schreurs/project_GAN/dataset_np/20181228T080500_20181229T080000/\n",
      "Day 20181228T080500_20181229T080000 has 287 radar scans instead of 288\n"
     ]
    },
    {
     "name": "stderr",
     "output_type": "stream",
     "text": [
      "\r",
      " 13%|█▎        | 13/100 [00:46<04:58,  3.44s/it]"
     ]
    },
    {
     "name": "stdout",
     "output_type": "stream",
     "text": [
      "/nobackup/users/schreurs/project_GAN/dataset_np/20181229T080500_20181230T080000/\n",
      "Day 20181229T080500_20181230T080000 has 283 radar scans instead of 288\n"
     ]
    },
    {
     "name": "stderr",
     "output_type": "stream",
     "text": [
      "\r",
      " 14%|█▍        | 14/100 [00:49<04:55,  3.44s/it]"
     ]
    },
    {
     "name": "stdout",
     "output_type": "stream",
     "text": [
      "/nobackup/users/schreurs/project_GAN/dataset_np/20181230T080500_20181231T080000/\n",
      "Day 20181230T080500_20181231T080000 has 285 radar scans instead of 288\n"
     ]
    },
    {
     "name": "stderr",
     "output_type": "stream",
     "text": [
      "\r",
      " 15%|█▌        | 15/100 [00:52<04:50,  3.42s/it]"
     ]
    },
    {
     "name": "stdout",
     "output_type": "stream",
     "text": [
      "/nobackup/users/schreurs/project_GAN/dataset_np/20181231T080500_20190101T080000/\n",
      "Day 20181231T080500_20190101T080000 has 286 radar scans instead of 288\n"
     ]
    },
    {
     "name": "stderr",
     "output_type": "stream",
     "text": [
      "\r",
      " 16%|█▌        | 16/100 [00:56<04:48,  3.43s/it]"
     ]
    },
    {
     "name": "stdout",
     "output_type": "stream",
     "text": [
      "/nobackup/users/schreurs/project_GAN/dataset_np/20190101T080500_20190102T080000/\n",
      "Day 20190101T080500_20190102T080000 has 286 radar scans instead of 288\n"
     ]
    },
    {
     "name": "stderr",
     "output_type": "stream",
     "text": [
      "\r",
      " 17%|█▋        | 17/100 [00:59<04:43,  3.42s/it]"
     ]
    },
    {
     "name": "stdout",
     "output_type": "stream",
     "text": [
      "/nobackup/users/schreurs/project_GAN/dataset_np/20190102T080500_20190103T080000/\n",
      "Day 20190102T080500_20190103T080000 has 285 radar scans instead of 288\n"
     ]
    },
    {
     "name": "stderr",
     "output_type": "stream",
     "text": [
      "\r",
      " 18%|█▊        | 18/100 [01:03<04:38,  3.40s/it]"
     ]
    },
    {
     "name": "stdout",
     "output_type": "stream",
     "text": [
      "/nobackup/users/schreurs/project_GAN/dataset_np/20190103T080500_20190104T080000/\n",
      "Day 20190103T080500_20190104T080000 has 285 radar scans instead of 288\n"
     ]
    },
    {
     "name": "stderr",
     "output_type": "stream",
     "text": [
      "\r",
      " 19%|█▉        | 19/100 [01:06<04:29,  3.33s/it]"
     ]
    },
    {
     "name": "stdout",
     "output_type": "stream",
     "text": [
      "/nobackup/users/schreurs/project_GAN/dataset_np/20190104T080500_20190105T080000/\n",
      "Day 20190104T080500_20190105T080000 has 287 radar scans instead of 288\n"
     ]
    },
    {
     "name": "stderr",
     "output_type": "stream",
     "text": [
      "\r",
      " 20%|██        | 20/100 [01:09<04:30,  3.38s/it]"
     ]
    },
    {
     "name": "stdout",
     "output_type": "stream",
     "text": [
      "/nobackup/users/schreurs/project_GAN/dataset_np/20190105T080500_20190106T080000/\n"
     ]
    },
    {
     "name": "stderr",
     "output_type": "stream",
     "text": [
      "\r",
      " 21%|██        | 21/100 [01:13<04:29,  3.41s/it]"
     ]
    },
    {
     "name": "stdout",
     "output_type": "stream",
     "text": [
      "/nobackup/users/schreurs/project_GAN/dataset_np/20190106T080500_20190107T080000/\n"
     ]
    },
    {
     "name": "stderr",
     "output_type": "stream",
     "text": [
      "\r",
      " 22%|██▏       | 22/100 [01:16<04:25,  3.41s/it]"
     ]
    },
    {
     "name": "stdout",
     "output_type": "stream",
     "text": [
      "/nobackup/users/schreurs/project_GAN/dataset_np/20190107T080500_20190108T080000/\n",
      "Day 20190107T080500_20190108T080000 has 287 radar scans instead of 288\n"
     ]
    },
    {
     "name": "stderr",
     "output_type": "stream",
     "text": [
      "\r",
      " 23%|██▎       | 23/100 [01:20<04:22,  3.40s/it]"
     ]
    },
    {
     "name": "stdout",
     "output_type": "stream",
     "text": [
      "/nobackup/users/schreurs/project_GAN/dataset_np/20190108T080500_20190109T080000/\n",
      "Day 20190108T080500_20190109T080000 has 287 radar scans instead of 288\n"
     ]
    },
    {
     "name": "stderr",
     "output_type": "stream",
     "text": [
      "\r",
      " 24%|██▍       | 24/100 [01:23<04:18,  3.39s/it]"
     ]
    },
    {
     "name": "stdout",
     "output_type": "stream",
     "text": [
      "/nobackup/users/schreurs/project_GAN/dataset_np/20190109T080500_20190110T080000/\n"
     ]
    },
    {
     "name": "stderr",
     "output_type": "stream",
     "text": [
      "\r",
      " 25%|██▌       | 25/100 [01:26<04:16,  3.43s/it]"
     ]
    },
    {
     "name": "stdout",
     "output_type": "stream",
     "text": [
      "/nobackup/users/schreurs/project_GAN/dataset_np/20190110T080500_20190111T080000/\n",
      "Day 20190110T080500_20190111T080000 has 286 radar scans instead of 288\n"
     ]
    },
    {
     "name": "stderr",
     "output_type": "stream",
     "text": [
      "\r",
      " 26%|██▌       | 26/100 [01:30<04:13,  3.42s/it]"
     ]
    },
    {
     "name": "stdout",
     "output_type": "stream",
     "text": [
      "/nobackup/users/schreurs/project_GAN/dataset_np/20190111T080500_20190112T080000/\n",
      "Day 20190111T080500_20190112T080000 has 283 radar scans instead of 288\n"
     ]
    },
    {
     "name": "stderr",
     "output_type": "stream",
     "text": [
      "\r",
      " 27%|██▋       | 27/100 [01:33<04:04,  3.35s/it]"
     ]
    },
    {
     "name": "stdout",
     "output_type": "stream",
     "text": [
      "/nobackup/users/schreurs/project_GAN/dataset_np/20190112T080500_20190113T080000/\n",
      "Day 20190112T080500_20190113T080000 has 259 radar scans instead of 288\n"
     ]
    },
    {
     "name": "stderr",
     "output_type": "stream",
     "text": [
      "\r",
      " 28%|██▊       | 28/100 [01:36<03:57,  3.29s/it]"
     ]
    },
    {
     "name": "stdout",
     "output_type": "stream",
     "text": [
      "/nobackup/users/schreurs/project_GAN/dataset_np/20190113T080500_20190114T080000/\n",
      "Day 20190113T080500_20190114T080000 has 286 radar scans instead of 288\n"
     ]
    },
    {
     "name": "stderr",
     "output_type": "stream",
     "text": [
      "\r",
      " 29%|██▉       | 29/100 [01:40<03:56,  3.33s/it]"
     ]
    },
    {
     "name": "stdout",
     "output_type": "stream",
     "text": [
      "/nobackup/users/schreurs/project_GAN/dataset_np/20190114T080500_20190115T080000/\n",
      "Day 20190114T080500_20190115T080000 has 285 radar scans instead of 288\n"
     ]
    },
    {
     "name": "stderr",
     "output_type": "stream",
     "text": [
      "\r",
      " 30%|███       | 30/100 [01:43<03:49,  3.27s/it]"
     ]
    },
    {
     "name": "stdout",
     "output_type": "stream",
     "text": [
      "/nobackup/users/schreurs/project_GAN/dataset_np/20190115T080500_20190116T080000/\n",
      "Day 20190115T080500_20190116T080000 has 287 radar scans instead of 288\n"
     ]
    },
    {
     "name": "stderr",
     "output_type": "stream",
     "text": [
      "\r",
      " 31%|███       | 31/100 [01:46<03:49,  3.32s/it]"
     ]
    },
    {
     "name": "stdout",
     "output_type": "stream",
     "text": [
      "/nobackup/users/schreurs/project_GAN/dataset_np/20190116T080500_20190117T080000/\n",
      "Day 20190116T080500_20190117T080000 has 285 radar scans instead of 288\n"
     ]
    },
    {
     "name": "stderr",
     "output_type": "stream",
     "text": [
      "\r",
      " 32%|███▏      | 32/100 [01:50<03:47,  3.34s/it]"
     ]
    },
    {
     "name": "stdout",
     "output_type": "stream",
     "text": [
      "/nobackup/users/schreurs/project_GAN/dataset_np/20190117T080500_20190118T080000/\n",
      "Day 20190117T080500_20190118T080000 has 283 radar scans instead of 288\n"
     ]
    },
    {
     "name": "stderr",
     "output_type": "stream",
     "text": [
      "\r",
      " 33%|███▎      | 33/100 [01:53<03:45,  3.37s/it]"
     ]
    },
    {
     "name": "stdout",
     "output_type": "stream",
     "text": [
      "/nobackup/users/schreurs/project_GAN/dataset_np/20190118T080500_20190119T080000/\n",
      "Day 20190118T080500_20190119T080000 has 281 radar scans instead of 288\n"
     ]
    },
    {
     "name": "stderr",
     "output_type": "stream",
     "text": [
      "\r",
      " 34%|███▍      | 34/100 [01:56<03:37,  3.29s/it]"
     ]
    },
    {
     "name": "stdout",
     "output_type": "stream",
     "text": [
      "/nobackup/users/schreurs/project_GAN/dataset_np/20190119T080500_20190120T080000/\n",
      "Day 20190119T080500_20190120T080000 has 283 radar scans instead of 288\n"
     ]
    },
    {
     "name": "stderr",
     "output_type": "stream",
     "text": [
      "\r",
      " 35%|███▌      | 35/100 [01:59<03:35,  3.32s/it]"
     ]
    },
    {
     "name": "stdout",
     "output_type": "stream",
     "text": [
      "/nobackup/users/schreurs/project_GAN/dataset_np/20190120T080500_20190121T080000/\n",
      "Day 20190120T080500_20190121T080000 has 283 radar scans instead of 288\n"
     ]
    },
    {
     "name": "stderr",
     "output_type": "stream",
     "text": [
      "\r",
      " 36%|███▌      | 36/100 [02:03<03:34,  3.35s/it]"
     ]
    },
    {
     "name": "stdout",
     "output_type": "stream",
     "text": [
      "/nobackup/users/schreurs/project_GAN/dataset_np/20190121T080500_20190122T080000/\n",
      "Day 20190121T080500_20190122T080000 has 284 radar scans instead of 288\n"
     ]
    },
    {
     "name": "stderr",
     "output_type": "stream",
     "text": [
      "\r",
      " 37%|███▋      | 37/100 [02:06<03:26,  3.28s/it]"
     ]
    },
    {
     "name": "stdout",
     "output_type": "stream",
     "text": [
      "/nobackup/users/schreurs/project_GAN/dataset_np/20190122T080500_20190123T080000/\n",
      "Day 20190122T080500_20190123T080000 has 282 radar scans instead of 288\n"
     ]
    },
    {
     "name": "stderr",
     "output_type": "stream",
     "text": [
      "\r",
      " 38%|███▊      | 38/100 [02:09<03:26,  3.32s/it]"
     ]
    },
    {
     "name": "stdout",
     "output_type": "stream",
     "text": [
      "/nobackup/users/schreurs/project_GAN/dataset_np/20190123T080500_20190124T080000/\n",
      "Day 20190123T080500_20190124T080000 has 284 radar scans instead of 288\n"
     ]
    },
    {
     "name": "stderr",
     "output_type": "stream",
     "text": [
      "\r",
      " 39%|███▉      | 39/100 [02:13<03:18,  3.26s/it]"
     ]
    },
    {
     "name": "stdout",
     "output_type": "stream",
     "text": [
      "/nobackup/users/schreurs/project_GAN/dataset_np/20190124T080500_20190125T080000/\n",
      "Day 20190124T080500_20190125T080000 has 280 radar scans instead of 288\n"
     ]
    },
    {
     "name": "stderr",
     "output_type": "stream",
     "text": [
      "\r",
      " 40%|████      | 40/100 [02:16<03:16,  3.28s/it]"
     ]
    },
    {
     "name": "stdout",
     "output_type": "stream",
     "text": [
      "/nobackup/users/schreurs/project_GAN/dataset_np/20190125T080500_20190126T080000/\n",
      "Day 20190125T080500_20190126T080000 has 281 radar scans instead of 288\n"
     ]
    },
    {
     "name": "stderr",
     "output_type": "stream",
     "text": [
      "\r",
      " 41%|████      | 41/100 [02:19<03:13,  3.28s/it]"
     ]
    },
    {
     "name": "stdout",
     "output_type": "stream",
     "text": [
      "/nobackup/users/schreurs/project_GAN/dataset_np/20190126T080500_20190127T080000/\n",
      "Day 20190126T080500_20190127T080000 has 277 radar scans instead of 288\n"
     ]
    },
    {
     "name": "stderr",
     "output_type": "stream",
     "text": [
      "\r",
      " 42%|████▏     | 42/100 [02:22<03:10,  3.29s/it]"
     ]
    },
    {
     "name": "stdout",
     "output_type": "stream",
     "text": [
      "/nobackup/users/schreurs/project_GAN/dataset_np/20190127T080500_20190128T080000/\n",
      "Day 20190127T080500_20190128T080000 has 277 radar scans instead of 288\n"
     ]
    },
    {
     "name": "stderr",
     "output_type": "stream",
     "text": [
      "\r",
      " 43%|████▎     | 43/100 [02:26<03:06,  3.28s/it]"
     ]
    },
    {
     "name": "stdout",
     "output_type": "stream",
     "text": [
      "/nobackup/users/schreurs/project_GAN/dataset_np/20190128T080500_20190129T080000/\n",
      "Day 20190128T080500_20190129T080000 has 274 radar scans instead of 288\n"
     ]
    },
    {
     "name": "stderr",
     "output_type": "stream",
     "text": [
      "\r",
      " 44%|████▍     | 44/100 [02:29<03:03,  3.28s/it]"
     ]
    },
    {
     "name": "stdout",
     "output_type": "stream",
     "text": [
      "/nobackup/users/schreurs/project_GAN/dataset_np/20190129T080500_20190130T080000/\n",
      "Day 20190129T080500_20190130T080000 has 278 radar scans instead of 288\n"
     ]
    },
    {
     "name": "stderr",
     "output_type": "stream",
     "text": [
      "\r",
      " 45%|████▌     | 45/100 [02:32<03:00,  3.27s/it]"
     ]
    },
    {
     "name": "stdout",
     "output_type": "stream",
     "text": [
      "/nobackup/users/schreurs/project_GAN/dataset_np/20190130T080500_20190131T080000/\n",
      "Day 20190130T080500_20190131T080000 has 279 radar scans instead of 288\n"
     ]
    },
    {
     "name": "stderr",
     "output_type": "stream",
     "text": [
      "\r",
      " 46%|████▌     | 46/100 [02:36<02:57,  3.29s/it]"
     ]
    },
    {
     "name": "stdout",
     "output_type": "stream",
     "text": [
      "/nobackup/users/schreurs/project_GAN/dataset_np/20190131T080500_20190201T080000/\n",
      "Day 20190131T080500_20190201T080000 has 280 radar scans instead of 288\n"
     ]
    },
    {
     "name": "stderr",
     "output_type": "stream",
     "text": [
      "\r",
      " 47%|████▋     | 47/100 [02:39<02:55,  3.31s/it]"
     ]
    },
    {
     "name": "stdout",
     "output_type": "stream",
     "text": [
      "/nobackup/users/schreurs/project_GAN/dataset_np/20190201T080500_20190202T080000/\n",
      "Day 20190201T080500_20190202T080000 has 280 radar scans instead of 288\n"
     ]
    },
    {
     "name": "stderr",
     "output_type": "stream",
     "text": [
      "\r",
      " 48%|████▊     | 48/100 [02:42<02:55,  3.37s/it]"
     ]
    },
    {
     "name": "stdout",
     "output_type": "stream",
     "text": [
      "/nobackup/users/schreurs/project_GAN/dataset_np/20190202T080500_20190203T080000/\n",
      "Day 20190202T080500_20190203T080000 has 282 radar scans instead of 288\n"
     ]
    },
    {
     "name": "stderr",
     "output_type": "stream",
     "text": [
      "\r",
      " 49%|████▉     | 49/100 [02:46<02:52,  3.39s/it]"
     ]
    },
    {
     "name": "stdout",
     "output_type": "stream",
     "text": [
      "/nobackup/users/schreurs/project_GAN/dataset_np/20190203T080500_20190204T080000/\n",
      "Day 20190203T080500_20190204T080000 has 280 radar scans instead of 288\n"
     ]
    },
    {
     "name": "stderr",
     "output_type": "stream",
     "text": [
      "\r",
      " 50%|█████     | 50/100 [02:49<02:47,  3.35s/it]"
     ]
    },
    {
     "name": "stdout",
     "output_type": "stream",
     "text": [
      "/nobackup/users/schreurs/project_GAN/dataset_np/20190204T080500_20190205T080000/\n",
      "Day 20190204T080500_20190205T080000 has 280 radar scans instead of 288\n"
     ]
    },
    {
     "name": "stderr",
     "output_type": "stream",
     "text": [
      "\r",
      " 51%|█████     | 51/100 [02:53<02:44,  3.35s/it]"
     ]
    },
    {
     "name": "stdout",
     "output_type": "stream",
     "text": [
      "/nobackup/users/schreurs/project_GAN/dataset_np/20190205T080500_20190206T080000/\n",
      "Day 20190205T080500_20190206T080000 has 281 radar scans instead of 288\n"
     ]
    },
    {
     "name": "stderr",
     "output_type": "stream",
     "text": [
      "\r",
      " 52%|█████▏    | 52/100 [02:56<02:40,  3.35s/it]"
     ]
    },
    {
     "name": "stdout",
     "output_type": "stream",
     "text": [
      "/nobackup/users/schreurs/project_GAN/dataset_np/20190206T080500_20190207T080000/\n",
      "Day 20190206T080500_20190207T080000 has 279 radar scans instead of 288\n"
     ]
    },
    {
     "name": "stderr",
     "output_type": "stream",
     "text": [
      "\r",
      " 53%|█████▎    | 53/100 [02:59<02:35,  3.31s/it]"
     ]
    },
    {
     "name": "stdout",
     "output_type": "stream",
     "text": [
      "/nobackup/users/schreurs/project_GAN/dataset_np/20190207T080500_20190208T080000/\n",
      "Day 20190207T080500_20190208T080000 has 283 radar scans instead of 288\n"
     ]
    },
    {
     "name": "stderr",
     "output_type": "stream",
     "text": [
      "\r",
      " 54%|█████▍    | 54/100 [03:02<02:33,  3.34s/it]"
     ]
    },
    {
     "name": "stdout",
     "output_type": "stream",
     "text": [
      "/nobackup/users/schreurs/project_GAN/dataset_np/20190208T080500_20190209T080000/\n",
      "Day 20190208T080500_20190209T080000 has 247 radar scans instead of 288\n"
     ]
    },
    {
     "name": "stderr",
     "output_type": "stream",
     "text": [
      "\r",
      " 55%|█████▌    | 55/100 [03:05<02:25,  3.23s/it]"
     ]
    },
    {
     "name": "stdout",
     "output_type": "stream",
     "text": [
      "/nobackup/users/schreurs/project_GAN/dataset_np/20190209T080500_20190210T080000/\n",
      "Day 20190209T080500_20190210T080000 has 281 radar scans instead of 288\n"
     ]
    },
    {
     "name": "stderr",
     "output_type": "stream",
     "text": [
      "\r",
      " 56%|█████▌    | 56/100 [03:09<02:22,  3.24s/it]"
     ]
    },
    {
     "name": "stdout",
     "output_type": "stream",
     "text": [
      "/nobackup/users/schreurs/project_GAN/dataset_np/20190210T080500_20190211T080000/\n",
      "Day 20190210T080500_20190211T080000 has 279 radar scans instead of 288\n"
     ]
    },
    {
     "name": "stderr",
     "output_type": "stream",
     "text": [
      "\r",
      " 57%|█████▋    | 57/100 [03:12<02:21,  3.28s/it]"
     ]
    },
    {
     "name": "stdout",
     "output_type": "stream",
     "text": [
      "/nobackup/users/schreurs/project_GAN/dataset_np/20190211T080500_20190212T080000/\n",
      "Day 20190211T080500_20190212T080000 has 283 radar scans instead of 288\n"
     ]
    },
    {
     "name": "stderr",
     "output_type": "stream",
     "text": [
      "\r",
      " 58%|█████▊    | 58/100 [03:16<02:20,  3.34s/it]"
     ]
    },
    {
     "name": "stdout",
     "output_type": "stream",
     "text": [
      "/nobackup/users/schreurs/project_GAN/dataset_np/20190212T080500_20190213T080000/\n",
      "Day 20190212T080500_20190213T080000 has 284 radar scans instead of 288\n"
     ]
    },
    {
     "name": "stderr",
     "output_type": "stream",
     "text": [
      "\r",
      " 59%|█████▉    | 59/100 [03:19<02:17,  3.36s/it]"
     ]
    },
    {
     "name": "stdout",
     "output_type": "stream",
     "text": [
      "/nobackup/users/schreurs/project_GAN/dataset_np/20190213T080500_20190214T080000/\n",
      "Day 20190213T080500_20190214T080000 has 281 radar scans instead of 288\n"
     ]
    },
    {
     "name": "stderr",
     "output_type": "stream",
     "text": [
      "\r",
      " 60%|██████    | 60/100 [03:22<02:14,  3.35s/it]"
     ]
    },
    {
     "name": "stdout",
     "output_type": "stream",
     "text": [
      "/nobackup/users/schreurs/project_GAN/dataset_np/20190214T080500_20190215T080000/\n",
      "Day 20190214T080500_20190215T080000 has 282 radar scans instead of 288\n"
     ]
    },
    {
     "name": "stderr",
     "output_type": "stream",
     "text": [
      "\r",
      " 61%|██████    | 61/100 [03:26<02:12,  3.39s/it]"
     ]
    },
    {
     "name": "stdout",
     "output_type": "stream",
     "text": [
      "/nobackup/users/schreurs/project_GAN/dataset_np/20190215T080500_20190216T080000/\n",
      "Day 20190215T080500_20190216T080000 has 286 radar scans instead of 288\n"
     ]
    },
    {
     "name": "stderr",
     "output_type": "stream",
     "text": [
      "\r",
      " 62%|██████▏   | 62/100 [03:29<02:08,  3.38s/it]"
     ]
    },
    {
     "name": "stdout",
     "output_type": "stream",
     "text": [
      "/nobackup/users/schreurs/project_GAN/dataset_np/20190216T080500_20190217T080000/\n",
      "Day 20190216T080500_20190217T080000 has 284 radar scans instead of 288\n"
     ]
    },
    {
     "name": "stderr",
     "output_type": "stream",
     "text": [
      "\r",
      " 63%|██████▎   | 63/100 [03:32<02:04,  3.36s/it]"
     ]
    },
    {
     "name": "stdout",
     "output_type": "stream",
     "text": [
      "/nobackup/users/schreurs/project_GAN/dataset_np/20190217T080500_20190218T080000/\n",
      "Day 20190217T080500_20190218T080000 has 284 radar scans instead of 288\n"
     ]
    },
    {
     "name": "stderr",
     "output_type": "stream",
     "text": [
      "\r",
      " 64%|██████▍   | 64/100 [03:35<01:52,  3.12s/it]"
     ]
    },
    {
     "name": "stdout",
     "output_type": "stream",
     "text": [
      "/nobackup/users/schreurs/project_GAN/dataset_np/20190218T080500_20190219T080000/\n",
      "Day 20190218T080500_20190219T080000 has 283 radar scans instead of 288\n"
     ]
    },
    {
     "name": "stderr",
     "output_type": "stream",
     "text": [
      " 66%|██████▌   | 66/100 [03:38<01:11,  2.11s/it]"
     ]
    },
    {
     "name": "stdout",
     "output_type": "stream",
     "text": [
      "/nobackup/users/schreurs/project_GAN/dataset_np/20190219T080500_20190220T080000/\n",
      "Day 20190219T080500_20190220T080000 has 287 radar scans instead of 288\n",
      "/nobackup/users/schreurs/project_GAN/dataset_np/20190220T080500_20190221T080000/\n"
     ]
    },
    {
     "name": "stderr",
     "output_type": "stream",
     "text": [
      "\r",
      " 67%|██████▋   | 67/100 [03:38<00:49,  1.51s/it]"
     ]
    },
    {
     "name": "stdout",
     "output_type": "stream",
     "text": [
      "/nobackup/users/schreurs/project_GAN/dataset_np/20190221T080500_20190222T080000/\n",
      "Day 20190221T080500_20190222T080000 has 287 radar scans instead of 288\n"
     ]
    },
    {
     "name": "stderr",
     "output_type": "stream",
     "text": [
      "\r",
      " 68%|██████▊   | 68/100 [03:41<01:04,  2.00s/it]"
     ]
    },
    {
     "name": "stdout",
     "output_type": "stream",
     "text": [
      "/nobackup/users/schreurs/project_GAN/dataset_np/20190222T080500_20190223T080000/\n",
      "Day 20190222T080500_20190223T080000 has 284 radar scans instead of 288\n"
     ]
    },
    {
     "name": "stderr",
     "output_type": "stream",
     "text": [
      "\r",
      " 69%|██████▉   | 69/100 [03:44<01:14,  2.40s/it]"
     ]
    },
    {
     "name": "stdout",
     "output_type": "stream",
     "text": [
      "/nobackup/users/schreurs/project_GAN/dataset_np/20190223T080500_20190224T080000/\n"
     ]
    },
    {
     "name": "stderr",
     "output_type": "stream",
     "text": [
      "\r",
      " 70%|███████   | 70/100 [03:48<01:22,  2.74s/it]"
     ]
    },
    {
     "name": "stdout",
     "output_type": "stream",
     "text": [
      "/nobackup/users/schreurs/project_GAN/dataset_np/20190224T080500_20190225T080000/\n",
      "Day 20190224T080500_20190225T080000 has 285 radar scans instead of 288\n"
     ]
    },
    {
     "name": "stderr",
     "output_type": "stream",
     "text": [
      "100%|██████████| 100/100 [03:51<00:00,  2.32s/it]"
     ]
    },
    {
     "name": "stdout",
     "output_type": "stream",
     "text": [
      "/nobackup/users/schreurs/project_GAN/dataset_np/20190225T080500_20190226T080000/\n",
      "Day 20190225T080500_20190226T080000 has 1 radar scans instead of 288\n",
      "/nobackup/users/schreurs/project_GAN/dataset_np/20190226T080500_20190227T080000/\n",
      "Day 20190226T080500_20190227T080000 has 1 radar scans instead of 288\n",
      "/nobackup/users/schreurs/project_GAN/dataset_np/20190227T080500_20190228T080000/\n",
      "Day 20190227T080500_20190228T080000 has 1 radar scans instead of 288\n",
      "/nobackup/users/schreurs/project_GAN/dataset_np/20190228T080500_20190301T080000/\n",
      "Day 20190228T080500_20190301T080000 has 1 radar scans instead of 288\n",
      "/nobackup/users/schreurs/project_GAN/dataset_np/20190301T080500_20190302T080000/\n",
      "Day 20190301T080500_20190302T080000 has 1 radar scans instead of 288\n",
      "/nobackup/users/schreurs/project_GAN/dataset_np/20190302T080500_20190303T080000/\n",
      "Day 20190302T080500_20190303T080000 has 1 radar scans instead of 288\n",
      "/nobackup/users/schreurs/project_GAN/dataset_np/20190303T080500_20190304T080000/\n",
      "Day 20190303T080500_20190304T080000 has 1 radar scans instead of 288\n",
      "/nobackup/users/schreurs/project_GAN/dataset_np/20190304T080500_20190305T080000/\n",
      "Day 20190304T080500_20190305T080000 has 1 radar scans instead of 288\n",
      "/nobackup/users/schreurs/project_GAN/dataset_np/20190305T080500_20190306T080000/\n",
      "Day 20190305T080500_20190306T080000 has 1 radar scans instead of 288\n",
      "/nobackup/users/schreurs/project_GAN/dataset_np/20190306T080500_20190307T080000/\n",
      "Day 20190306T080500_20190307T080000 has 1 radar scans instead of 288\n",
      "/nobackup/users/schreurs/project_GAN/dataset_np/20190307T080500_20190308T080000/\n",
      "Day 20190307T080500_20190308T080000 has 1 radar scans instead of 288\n",
      "/nobackup/users/schreurs/project_GAN/dataset_np/20190308T080500_20190309T080000/\n",
      "Day 20190308T080500_20190309T080000 has 1 radar scans instead of 288\n",
      "/nobackup/users/schreurs/project_GAN/dataset_np/20190309T080500_20190310T080000/\n",
      "Day 20190309T080500_20190310T080000 has 1 radar scans instead of 288\n",
      "/nobackup/users/schreurs/project_GAN/dataset_np/20190310T080500_20190311T080000/\n",
      "Day 20190310T080500_20190311T080000 has 1 radar scans instead of 288\n",
      "/nobackup/users/schreurs/project_GAN/dataset_np/20190311T080500_20190312T080000/\n",
      "Day 20190311T080500_20190312T080000 has 1 radar scans instead of 288\n",
      "/nobackup/users/schreurs/project_GAN/dataset_np/20190312T080500_20190313T080000/\n",
      "Day 20190312T080500_20190313T080000 has 1 radar scans instead of 288\n",
      "/nobackup/users/schreurs/project_GAN/dataset_np/20190313T080500_20190314T080000/\n",
      "Day 20190313T080500_20190314T080000 has 1 radar scans instead of 288\n",
      "/nobackup/users/schreurs/project_GAN/dataset_np/20190314T080500_20190315T080000/\n",
      "Day 20190314T080500_20190315T080000 has 1 radar scans instead of 288\n",
      "/nobackup/users/schreurs/project_GAN/dataset_np/20190315T080500_20190316T080000/\n",
      "Day 20190315T080500_20190316T080000 has 1 radar scans instead of 288\n",
      "/nobackup/users/schreurs/project_GAN/dataset_np/20190316T080500_20190317T080000/\n",
      "Day 20190316T080500_20190317T080000 has 1 radar scans instead of 288\n",
      "/nobackup/users/schreurs/project_GAN/dataset_np/20190317T080500_20190318T080000/\n",
      "Day 20190317T080500_20190318T080000 has 1 radar scans instead of 288\n",
      "/nobackup/users/schreurs/project_GAN/dataset_np/20190318T080500_20190319T080000/\n",
      "Day 20190318T080500_20190319T080000 has 1 radar scans instead of 288\n",
      "/nobackup/users/schreurs/project_GAN/dataset_np/20190319T080500_20190320T080000/\n",
      "Day 20190319T080500_20190320T080000 has 1 radar scans instead of 288\n",
      "/nobackup/users/schreurs/project_GAN/dataset_np/20190320T080500_20190321T080000/\n",
      "Day 20190320T080500_20190321T080000 has 1 radar scans instead of 288\n",
      "/nobackup/users/schreurs/project_GAN/dataset_np/20190321T080500_20190322T080000/\n",
      "Day 20190321T080500_20190322T080000 has 1 radar scans instead of 288\n",
      "/nobackup/users/schreurs/project_GAN/dataset_np/20190322T080500_20190323T080000/\n",
      "Day 20190322T080500_20190323T080000 has 1 radar scans instead of 288\n",
      "/nobackup/users/schreurs/project_GAN/dataset_np/20190323T080500_20190324T080000/\n",
      "Day 20190323T080500_20190324T080000 has 1 radar scans instead of 288\n",
      "/nobackup/users/schreurs/project_GAN/dataset_np/20190324T080500_20190325T080000/\n",
      "Day 20190324T080500_20190325T080000 has 1 radar scans instead of 288\n",
      "/nobackup/users/schreurs/project_GAN/dataset_np/20190325T080500_20190326T080000/\n",
      "Day 20190325T080500_20190326T080000 has 1 radar scans instead of 288\n"
     ]
    },
    {
     "name": "stderr",
     "output_type": "stream",
     "text": [
      "\n"
     ]
    }
   ],
   "source": [
    "preprocess_into_sequences(np_dir, dir_30m)"
   ]
  },
  {
   "cell_type": "code",
   "execution_count": 39,
   "metadata": {},
   "outputs": [
    {
     "name": "stdout",
     "output_type": "stream",
     "text": [
      "201812171030.npy\r\n",
      "201812171035.npy\r\n",
      "201812171040.npy\r\n",
      "201812171045.npy\r\n",
      "201812171050.npy\r\n",
      "201812171055.npy\r\n",
      "201812171100.npy\r\n",
      "201812171105.npy\r\n",
      "201812171110.npy\r\n",
      "201812171115.npy\r\n"
     ]
    }
   ],
   "source": [
    "ls /nobackup_1/users/schreurs/project_GAN/dataset_np/201812170755_201812180800 |head"
   ]
  },
  {
   "cell_type": "markdown",
   "metadata": {},
   "source": [
    "Some days seem to lack a lot of data. Maybe something went wrong during downloading these dates or during unpacking"
   ]
  },
  {
   "cell_type": "code",
   "execution_count": 26,
   "metadata": {},
   "outputs": [
    {
     "name": "stdout",
     "output_type": "stream",
     "text": [
      "201903100800.npy\r\n"
     ]
    }
   ],
   "source": [
    "ls /nobackup_1/users/schreurs/project_GAN/dataset_np/20190309T080500_20190310T080000/"
   ]
  },
  {
   "cell_type": "code",
   "execution_count": 11,
   "metadata": {},
   "outputs": [
    {
     "name": "stdout",
     "output_type": "stream",
     "text": [
      "RAD_NL25_RAC_RE_201903100800.h5\r\n"
     ]
    }
   ],
   "source": [
    "ls /nobackup_1/users/schreurs/project_GAN/dataset/RAD25_OPER_R___TARRRE__L2__20190309T080500_20190310T080000_0001"
   ]
  },
  {
   "cell_type": "code",
   "execution_count": 19,
   "metadata": {},
   "outputs": [
    {
     "name": "stdout",
     "output_type": "stream",
     "text": [
      "\u001b[0m\u001b[01;31m/nobackup/users/schreurs/project_GAN/dataset/RAD25_OPER_R___TARRRE__L2__20190309T080500_20190310T080000_0001.tar\u001b[0m\u001b[K\r\n"
     ]
    }
   ],
   "source": [
    "ls /nobackup_1/users/schreurs/project_GAN/dataset/RAD25_OPER_R___TARRRE__L2__20190309T080500_20190310T080000_0001.tar"
   ]
  },
  {
   "cell_type": "markdown",
   "metadata": {},
   "source": [
    "As you can see there is only 1 radar scan of the date 2019-03-10. Below I unpack the tar file of that date again to test if something went wrong during the unpacking"
   ]
  },
  {
   "cell_type": "code",
   "execution_count": 20,
   "metadata": {},
   "outputs": [
    {
     "name": "stdout",
     "output_type": "stream",
     "text": [
      "tar path:  /nobackup/users/schreurs/project_GAN/dataset/RAD25_OPER_R___TARRRE__L2__20190309T080500_20190310T080000_0001.tar\n",
      "unpack in folder:  /nobackup/users/schreurs/project_GAN/dataset/RAD25_OPER_R___TARRRE__L2__20190309T080500_20190310T080000_0001\n"
     ]
    }
   ],
   "source": [
    "# Testing path\n",
    "tar_path = '/nobackup_1/users/schreurs/project_GAN/dataset/RAD25_OPER_R___TARRRE__L2__20190309T080500_20190310T080000_0001.tar'\n",
    "print(\"tar path: \", tar_path)\n",
    "unpack_folder = tar_path.replace('.tar','')\n",
    "print(\"unpack in folder: \", unpack_folder)"
   ]
  },
  {
   "cell_type": "code",
   "execution_count": 23,
   "metadata": {},
   "outputs": [],
   "source": [
    "with tarfile.open(tar_path) as tar:\n",
    "    tar.extractall(unpack_folder) "
   ]
  },
  {
   "cell_type": "code",
   "execution_count": 24,
   "metadata": {},
   "outputs": [
    {
     "name": "stdout",
     "output_type": "stream",
     "text": [
      "RAD_NL25_RAC_RE_201903100800.h5\r\n"
     ]
    }
   ],
   "source": [
    "ls /nobackup_1/users/schreurs/project_GAN/dataset/RAD25_OPER_R___TARRRE__L2__20190309T080500_20190310T080000_0001"
   ]
  },
  {
   "cell_type": "markdown",
   "metadata": {},
   "source": [
    "Unpacking the tar files does not seem te be the problem."
   ]
  },
  {
   "cell_type": "markdown",
   "metadata": {},
   "source": [
    "When mannually download the tar file of 20190309T080500_20190310T080000 the radar data looks complete. During downloading the files probably got corrupted. \n",
    "\n",
    "Noticed a difference in dataset names: nl_rdr_data_rtcor_5m vs nl_rdr_data_recor_5m.\n",
    "Currently using the recor dataset, the rtcor might have complete data unlike the rtcor. \n",
    "\n",
    "(Waiting on API request for bulk dowload rtcor instead of recor dataset)\n",
    "\n",
    "Now got the API for the rtcor dataset. This dataset seems more complete"
   ]
  }
 ],
 "metadata": {
  "kernelspec": {
   "display_name": "Python 3 (ipykernel)",
   "language": "python",
   "name": "python3"
  },
  "language_info": {
   "codemirror_mode": {
    "name": "ipython",
    "version": 3
   },
   "file_extension": ".py",
   "mimetype": "text/x-python",
   "name": "python",
   "nbconvert_exporter": "python",
   "pygments_lexer": "ipython3",
   "version": "3.8.12"
  }
 },
 "nbformat": 4,
 "nbformat_minor": 2
}
