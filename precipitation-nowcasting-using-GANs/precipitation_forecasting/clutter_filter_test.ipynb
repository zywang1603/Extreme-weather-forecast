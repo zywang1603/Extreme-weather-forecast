{
 "cells": [
  {
   "cell_type": "markdown",
   "metadata": {
    "id": "866O0n89uNm7"
   },
   "source": [
    "# Filtering out clutter\n",
    "\n",
    "Isolated pixels with precipitation value are more likely to be clutter than actual rain. A filter can be applied to the image to removed isolated rain pixels. This will improve the quality of the rain/no rain labels as a single isolated rainy pixel will not result in the image being labeld as rainy. Furthermore this method hopefully removes high intensity isolated clutter. After applying this filter to dataset, the ship tracks should be less clear."
   ]
  },
  {
   "cell_type": "code",
   "execution_count": 2,
   "metadata": {
    "id": "-Wamdvy2dhco"
   },
   "outputs": [],
   "source": [
    "import numpy as np\n",
    "import matplotlib.pyplot as plt\n",
    "import cv2"
   ]
  },
  {
   "cell_type": "code",
   "execution_count": 3,
   "metadata": {
    "colab": {
     "base_uri": "https://localhost:8080/",
     "height": 813
    },
    "id": "z891SG-Jdi6I",
    "outputId": "633ddf22-4a6c-4a72-debb-2054caa820a6"
   },
   "outputs": [
    {
     "data": {
      "image/png": "[encoded data removed]",
      "text/plain": [
       "<Figure size 432x288 with 1 Axes>"
      ]
     },
     "metadata": {
      "needs_background": "light"
     },
     "output_type": "display_data"
    },
    {
     "data": {
      "image/png": "[encoded data removed]",
      "text/plain": [
       "<Figure size 432x288 with 1 Axes>"
      ]
     },
     "metadata": {
      "needs_background": "light"
     },
     "output_type": "display_data"
    },
    {
     "data": {
      "image/png": "[encoded data removed]",
      "text/plain": [
       "<Figure size 432x288 with 1 Axes>"
      ]
     },
     "metadata": {
      "needs_background": "light"
     },
     "output_type": "display_data"
    },
    {
     "name": "stdout",
     "output_type": "stream",
     "text": [
      "kernel: \n",
      " [[-1. -1. -1.]\n",
      " [-1.  1. -1.]\n",
      " [-1. -1. -1.]]\n"
     ]
    },
    {
     "data": {
      "text/plain": [
       "<matplotlib.image.AxesImage at 0x7f8bfac49a60>"
      ]
     },
     "execution_count": 3,
     "metadata": {},
     "output_type": "execute_result"
    },
    {
     "data": {
      "image/png": "[encoded data removed]",
      "text/plain": [
       "<Figure size 432x288 with 1 Axes>"
      ]
     },
     "metadata": {
      "needs_background": "light"
     },
     "output_type": "display_data"
    }
   ],
   "source": [
    "np.random.seed(4)\n",
    "img = np.random.gamma(2,2, size=(8,8))\n",
    "plt.imshow(img)\n",
    "plt.show()\n",
    "plt.hist(img.ravel())\n",
    "plt.show()\n",
    "\n",
    "# Set pixels above certain value to rainy\n",
    "# On actual data this threshold is > 0.3mm\n",
    "rain = (img > 6).astype('uint8')\n",
    "preprocessed= img*rain\n",
    "# Create kernel that checks if pixel has no neighbours\n",
    "kernel_size=3\n",
    "kernel = -np.ones((kernel_size,kernel_size))\n",
    "kernel[1,1] = 1\n",
    "plt.imshow(rain)\n",
    "plt.axis('off')\n",
    "plt.show()\n",
    "print('kernel: \\n', kernel)\n",
    "plt.imshow(preprocessed)"
   ]
  },
  {
   "cell_type": "code",
   "execution_count": 5,
   "metadata": {
    "colab": {
     "base_uri": "https://localhost:8080/",
     "height": 211
    },
    "id": "k5rgD75DePw8",
    "outputId": "3d51517d-f5e6-4b62-b5ca-d9be6a38a146"
   },
   "outputs": [
    {
     "data": {
      "image/png": "[encoded data removed]",
      "text/plain": [
       "<Figure size 720x720 with 3 Axes>"
      ]
     },
     "metadata": {
      "needs_background": "light"
     },
     "output_type": "display_data"
    }
   ],
   "source": [
    "# Move kernel over image\n",
    "isolated_pixels = cv2.morphologyEx(rain, cv2.MORPH_HITMISS, kernel)\n",
    "# Remove isolated pixels \n",
    "output = preprocessed * np.logical_not(isolated_pixels)\n",
    "\n",
    "\n",
    "plt.figure(figsize=(10,10))\n",
    "plt.subplot(1,3,1)\n",
    "plt.imshow(preprocessed)\n",
    "plt.axis('off')\n",
    "plt.title('Input')\n",
    "plt.subplot(1,3,2)\n",
    "plt.imshow(isolated_pixels)\n",
    "plt.axis('off')\n",
    "plt.title('Isolated Pixels')\n",
    "plt.subplot(1,3,3)\n",
    "plt.imshow(output)\n",
    "plt.axis('off')\n",
    "plt.title('Output')\n",
    "plt.show()"
   ]
  }
 ],
 "metadata": {
  "colab": {
   "collapsed_sections": [],
   "name": "clutter_filter_test.ipynb",
   "provenance": []
  },
  "kernelspec": {
   "display_name": "Python 3",
   "language": "python",
   "name": "python3"
  },
  "language_info": {
   "codemirror_mode": {
    "name": "ipython",
    "version": 3
   },
   "file_extension": ".py",
   "mimetype": "text/x-python",
   "name": "python",
   "nbconvert_exporter": "python",
   "pygments_lexer": "ipython3",
   "version": "3.8.7"
  }
 },
 "nbformat": 4,
 "nbformat_minor": 1
}
