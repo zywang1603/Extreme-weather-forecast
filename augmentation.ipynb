{
 "cells": [
  {
   "cell_type": "markdown",
   "source": [
    "# Augmentation\n",
    "Create synthetic data by SMOTE method"
   ],
   "metadata": {
    "collapsed": false
   }
  },
  {
   "cell_type": "markdown",
   "source": [
    "## Import libraries"
   ],
   "metadata": {
    "collapsed": false
   }
  },
  {
   "cell_type": "code",
   "execution_count": 1,
   "metadata": {
    "collapsed": true
   },
   "outputs": [
    {
     "name": "stdout",
     "output_type": "stream",
     "text": [
      "Pysteps configuration file found at: /Users/mozykhau/.conda/envs/precipitation-nowcasting-using-GANs/lib/python3.7/site-packages/pysteps/pystepsrc\n",
      "\n"
     ]
    }
   ],
   "source": [
    "# Add parent directory to system path in order to import custom modules\n",
    "import config as conf\n",
    "import numpy as np\n",
    "import h5py\n",
    "from batchcreator import load_fns_pysteps\n",
    "from matplotlib import pyplot as plt\n",
    "from pysteps.visualization import plot_precip_field\n",
    "\n",
    "from pysteps.io import archive\n",
    "from datetime import datetime, timedelta\n"
   ]
  },
  {
   "cell_type": "code",
   "execution_count": 2,
   "outputs": [],
   "source": [
    "def eventGeneration(start_time, obs_time = 4 ,lead_time = 72):\n",
    "    # Generate event based on starting time point, return a list: [[t-4,...,t-1,t], [t+1,...,t+72]]\n",
    "    # Get the start year, month, day, hour, minute\n",
    "    year = int(start_time[0:4])\n",
    "    month = int(start_time[4:6])\n",
    "    day = int(start_time[6:8])\n",
    "    hour = int(start_time[8:10])\n",
    "    minute = int(start_time[10:12])\n",
    "    #print(datetime(year=year, month=month, day=day, hour=hour, minute=minute))\n",
    "    times = [(datetime(year, month, day, hour, minute) + timedelta(minutes=5 * (x+1))) for x in range(lead_time)]\n",
    "    lead = [dt.strftime('%Y%m%d%H%M') for dt in times]\n",
    "    times = [(datetime(year, month, day, hour, minute) - timedelta(minutes=5 * x)) for x in range(obs_time)]\n",
    "    obs = [dt.strftime('%Y%m%d%H%M') for dt in times]\n",
    "    obs.reverse()\n",
    "    return lead, obs"
   ],
   "metadata": {
    "collapsed": false,
    "pycharm": {
     "name": "#%%\n"
    }
   }
  },
  {
   "cell_type": "markdown",
   "source": [
    "## SMOTE Augmentation"
   ],
   "metadata": {
    "collapsed": false
   }
  },
  {
   "cell_type": "markdown",
   "source": [
    "Download extreme dataset"
   ],
   "metadata": {
    "collapsed": false
   }
  },
  {
   "cell_type": "code",
   "execution_count": 9,
   "outputs": [
    {
     "name": "stdout",
     "output_type": "stream",
     "text": [
      "Total number of extreme events 2176\n"
     ]
    }
   ],
   "source": [
    "file = '/Users/mozykhau/University/Extreme event project/Data/Extreme events/Delfland extremes/extreme datesDelfland_2008-2021_sum.npy'\n",
    "extreme_events = np.load(file)\n",
    "length = extreme_events.shape\n",
    "print(\"Total number of extreme events\", length[0])"
   ],
   "metadata": {
    "collapsed": false,
    "pycharm": {
     "name": "#%%\n"
    }
   }
  },
  {
   "cell_type": "code",
   "execution_count": 11,
   "outputs": [
    {
     "data": {
      "text/plain": "array([202106192210, 202106192205, 202106192200, 202106192215,\n       202106192155])"
     },
     "execution_count": 11,
     "metadata": {},
     "output_type": "execute_result"
    }
   ],
   "source": [
    "extreme_events[:5]"
   ],
   "metadata": {
    "collapsed": false,
    "pycharm": {
     "name": "#%%\n"
    }
   }
  },
  {
   "cell_type": "code",
   "execution_count": null,
   "outputs": [],
   "source": [
    "from random import uniform\n",
    "list_of_events = extreme_events\n",
    "# list_of_events = list_of_events[:10]\n",
    "#  Parameters for the loading of files\n",
    "root_path = conf.dir_rtcor    # directions to data directory\n",
    "path_fmt = \"%Y/%m\" # how files are sorted in folders (no subfolders)\n",
    "fn_pattern = conf.prefix_rtcor+\"%Y%m%d%H%M\" # filename pattern\n",
    "fn_ext = \"h5\"   # filename extension\n",
    "timestep = 30\n",
    "t =  36 # lead time\n",
    "importer_name = \"knmi_hdf5\"\n",
    "importer_kwargs = {\"accutime\": 5,\n",
    "                  \"qty\": \"ACRR\",\n",
    "                  \"pixelsize\": 1.0}                       # dict of importer arguments for qty, accutime, pixelsize\n",
    "prep_average = 0\n",
    "peak_average = 0\n",
    "overview = {}\n",
    "new_event = {}\n",
    "for i in range(list_of_events.__len__()):\n",
    "    event = list_of_events[i]\n",
    "    lead_times, obs_times = eventGeneration(event, obs_time=5, lead_time=t)\n",
    "    sample_times = obs_times + lead_times\n",
    "    neighbour_int_average = np.zeros([sample_times.__len__(),765,700])\n",
    "    count = 0\n",
    "    for u in range(-3,3):\n",
    "        if i+u<0 or u==0 or i+u>list_of_events.__len__()-1:\n",
    "            continue\n",
    "        neighbour_event = list_of_events[i+u]\n",
    "        lead_times, obs_times = eventGeneration(neighbour_event, obs_time=5, lead_time=t)\n",
    "        sample_times_neighbour = obs_times + lead_times\n",
    "        for times_nb in sample_times_neighbour:\n",
    "            dt_inp = datetime.strptime(times_nb, \"%Y%m%d%H%M\")\n",
    "            filename = archive.find_by_date(dt_inp, root_path, path_fmt, fn_pattern, fn_ext, timestep=timestep)\n",
    "            address = filename[0]\n",
    "            f = h5py.File(address[0])['image1']['image_data']\n",
    "            f = np.array(f)\n",
    "            # f = np.where(f == 65535, -1, f)\n",
    "            # f = np.ma.masked_where(f <= 0, f)\n",
    "            f[f == 65535] = 0\n",
    "            # f = f[100:500, 100:500] * 12 / 100\n",
    "            f = f * 12 / 100\n",
    "            neighbour_int_average[sample_times_neighbour.index(times_nb),:,:] = np.add(neighbour_int_average[sample_times_neighbour.index(times_nb),:,:],f)\n",
    "        count += 1\n",
    "    neighbour_int_average = neighbour_int_average/count\n",
    "\n",
    "    #Modify initial event sequence\n",
    "    for times in sample_times:\n",
    "        dt_inp = datetime.strptime(times, \"%Y%m%d%H%M\")\n",
    "        filename = archive.find_by_date(dt_inp, root_path, path_fmt, fn_pattern, fn_ext, timestep=timestep)\n",
    "        address = filename[0]\n",
    "        f = h5py.File(address[0])['image1']['image_data']\n",
    "        f = np.array(f)\n",
    "        f[f == 65535] = 0\n",
    "        f = f * 12 / 100\n",
    "        new_event[times] = np.add(f,uniform(0,1)*np.subtract(f,neighbour_int_average[sample_times.index(times),:,:]))"
   ],
   "metadata": {
    "collapsed": false,
    "pycharm": {
     "name": "#%%\n"
    }
   }
  },
  {
   "cell_type": "code",
   "execution_count": null,
   "outputs": [],
   "source": [
    "list(new_event.keys())"
   ],
   "metadata": {
    "collapsed": false,
    "pycharm": {
     "name": "#%%\n"
    }
   }
  },
  {
   "cell_type": "markdown",
   "source": [
    "## Visualise results"
   ],
   "metadata": {
    "collapsed": false
   }
  },
  {
   "cell_type": "code",
   "execution_count": null,
   "outputs": [],
   "source": [
    "index_event = '200806021900'\n",
    "val_row = [[index_event],[index_event]]\n",
    "_,_,metadata,_ = load_fns_pysteps(val_row)\n",
    "lead_times, obs_times = eventGeneration(index_event, obs_time=5, lead_time=t)\n",
    "subplot_number = obs_times.__len__()\n",
    "# Visaulise maps before event\n",
    "plt.rc('font', size=8)\n",
    "plt.figure(0,figsize=(20, 8), dpi=100)\n",
    "for time in obs_times:\n",
    "    dt_inp = datetime.strptime(time, \"%Y%m%d%H%M\")\n",
    "    filename = archive.find_by_date(dt_inp, root_path, path_fmt, fn_pattern, fn_ext, timestep=timestep)\n",
    "    address = filename[0]\n",
    "    f = h5py.File(address[0])['image1']['image_data']\n",
    "    f = np.array(f)\n",
    "    f[f == 65535] = 0\n",
    "    f = f * 12 / 100\n",
    "    plt.subplot(2,subplot_number,obs_times.index(time)+1)\n",
    "    plot_precip_field(f,geodata=metadata, axis=\"on\")\n",
    "    plt.title('Real prep ' + time)\n",
    "    plt.subplot(2,subplot_number,obs_times.index(time)+subplot_number+1)\n",
    "    plot_precip_field(new_event[time],geodata=metadata, axis=\"on\")\n",
    "    plt.title('Augmented prep ' + time)\n",
    "\n",
    "\n",
    "subplot_number_2 = lead_times[::6].__len__()\n",
    "plt.figure(1,figsize=(20, 8), dpi=100)\n",
    "lead_times_for_plot = lead_times[::6]\n",
    "for time in lead_times_for_plot:\n",
    "    dt_inp = datetime.strptime(time, \"%Y%m%d%H%M\")\n",
    "    filename = archive.find_by_date(dt_inp, root_path, path_fmt, fn_pattern, fn_ext, timestep=timestep)\n",
    "    address = filename[0]\n",
    "    f = h5py.File(address[0])['image1']['image_data']\n",
    "    f = np.array(f)\n",
    "    f[f == 65535] = 0\n",
    "    f = f * 12 / 100\n",
    "    plt.subplot(2,subplot_number_2,lead_times_for_plot.index(time)+1)\n",
    "    plot_precip_field(f,geodata=metadata, axis=\"on\")\n",
    "    plt.title('Real prep ' + time)\n",
    "    plt.subplot(2,subplot_number_2,lead_times_for_plot.index(time)+subplot_number_2+1)\n",
    "    plot_precip_field(new_event[time],geodata=metadata, axis=\"on\")\n",
    "    plt.title('Augmented ' + time)"
   ],
   "metadata": {
    "collapsed": false,
    "pycharm": {
     "name": "#%%\n"
    }
   }
  }
 ],
 "metadata": {
  "kernelspec": {
   "display_name": "Python 3",
   "language": "python",
   "name": "python3"
  },
  "language_info": {
   "codemirror_mode": {
    "name": "ipython",
    "version": 2
   },
   "file_extension": ".py",
   "mimetype": "text/x-python",
   "name": "python",
   "nbconvert_exporter": "python",
   "pygments_lexer": "ipython2",
   "version": "2.7.6"
  }
 },
 "nbformat": 4,
 "nbformat_minor": 0
}